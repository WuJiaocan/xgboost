{
 "cells": [
  {
   "cell_type": "markdown",
   "metadata": {},
   "source": [
    "### 1.读取数据；加字段名；查看数据形状：827565行 x 31列"
   ]
  },
  {
   "cell_type": "code",
   "execution_count": 2,
   "metadata": {},
   "outputs": [],
   "source": [
    "import pandas as pd\n",
    "import numpy as np\n",
    "import calendar\n",
    "import datetime\n",
    "from datetime import datetime\n",
    "from sklearn.preprocessing import OneHotEncoder\n",
    "import requests\n",
    "\n",
    "import matplotlib.pyplot as plt\n",
    "%matplotlib inline\n",
    "plt.rcParams['font.sans-serif'] = ['SimHei']\n",
    "# plt.rcParams['font.serif'] = ['Microsoft YaHei']"
   ]
  },
  {
   "cell_type": "code",
   "execution_count": 3,
   "metadata": {},
   "outputs": [],
   "source": [
    "original_df = pd.read_csv(\"./original_df_2.csv\")  # , sep='\\t\\t', header=None"
   ]
  },
  {
   "cell_type": "code",
   "execution_count": 5,
   "metadata": {},
   "outputs": [],
   "source": [
    "del original_df['Unnamed: 0']"
   ]
  },
  {
   "cell_type": "code",
   "execution_count": 7,
   "metadata": {},
   "outputs": [
    {
     "data": {
      "text/plain": [
       "72"
      ]
     },
     "execution_count": 7,
     "metadata": {},
     "output_type": "execute_result"
    }
   ],
   "source": [
    "len(original_df.columns)"
   ]
  },
  {
   "cell_type": "code",
   "execution_count": 6,
   "metadata": {},
   "outputs": [
    {
     "data": {
      "text/plain": [
       "Index(['当前热度值', '新增热度值', '当前评论数', '新增评论数', '当前点赞数', '新增点赞数', '当前踩数', '新增踩数',\n",
       "       '当前评分数', '当前小时评分人数', '当日爱奇艺播放指数', 'time_interval', '巴晨旭', '郭靖', '潘文杰',\n",
       "       '朱锐斌', '唐顺风', '干志文', '薛少', '褚会林', '诸佳倩', '胡正兵', '张伟', '刘洋', '张浩', '李伟',\n",
       "       '王伟', '张磊', '冯芷墨', '张涛', 'is_weekday', '推广位-VIP', '推广位-无', '推广位-网大',\n",
       "       'week_monday', 'week_tuesday', 'week_wednesday', 'week_thursday',\n",
       "       'week_friday', 'week_saturday', 'week_sunday', '推广位等级_a', '推广位等级_b',\n",
       "       '推广位等级_c', 'time_partition_0', 'time_partition_1', 'time_partition_2',\n",
       "       'hour00', 'hour01', 'hour02', 'hour03', 'hour04', 'hour05', 'hour06',\n",
       "       'hour07', 'hour08', 'hour09', 'hour10', 'hour11', 'hour12', 'hour13',\n",
       "       'hour14', 'hour15', 'hour16', 'hour17', 'hour18', 'hour19', 'hour20',\n",
       "       'hour21', 'hour22', 'hour23', 'heat_value_window_size_6'],\n",
       "      dtype='object')"
      ]
     },
     "execution_count": 6,
     "metadata": {},
     "output_type": "execute_result"
    }
   ],
   "source": [
    "original_df.columns"
   ]
  },
  {
   "cell_type": "code",
   "execution_count": 6,
   "metadata": {},
   "outputs": [],
   "source": [
    "original_df.columns = [ '电影ID','时间', '当前热度值', '新增热度值','当前点击量','新增点击量','当前评论数','新增评论数','当前点赞数','新增点赞数',\n",
    "            '当前踩数','新增踩数','当前评分数','推广位','影片推广位等级','当前小时弹幕数','当前小时新增弹幕数','当前小时评分人数',\n",
    "            '当前小时新增评分人数','当前小时五星评分人数','当前小时四星评分人数','当前小时三星评分人数','当前小时二星评分人数',\n",
    "            '当前小时一星评分人数','当日爱奇艺播放指数','影片上线时间','导演','编剧','制片','美术','主演']"
   ]
  },
  {
   "cell_type": "code",
   "execution_count": 7,
   "metadata": {},
   "outputs": [],
   "source": [
    "y_new_add_amount = original_df['新增点击量']\n",
    "y_total = original_df['当前点击量']"
   ]
  },
  {
   "cell_type": "code",
   "execution_count": 6,
   "metadata": {},
   "outputs": [
    {
     "data": {
      "text/plain": [
       "(827565, 31)"
      ]
     },
     "execution_count": 6,
     "metadata": {},
     "output_type": "execute_result"
    }
   ],
   "source": [
    "original_df.shape"
   ]
  },
  {
   "cell_type": "code",
   "execution_count": 4,
   "metadata": {},
   "outputs": [
    {
     "data": {
      "text/html": [
       "<div>\n",
       "<style scoped>\n",
       "    .dataframe tbody tr th:only-of-type {\n",
       "        vertical-align: middle;\n",
       "    }\n",
       "\n",
       "    .dataframe tbody tr th {\n",
       "        vertical-align: top;\n",
       "    }\n",
       "\n",
       "    .dataframe thead th {\n",
       "        text-align: right;\n",
       "    }\n",
       "</style>\n",
       "<table border=\"1\" class=\"dataframe\">\n",
       "  <thead>\n",
       "    <tr style=\"text-align: right;\">\n",
       "      <th></th>\n",
       "      <th>电影ID</th>\n",
       "      <th>时间</th>\n",
       "      <th>当前热度值</th>\n",
       "      <th>新增热度值</th>\n",
       "      <th>当前点击量</th>\n",
       "      <th>新增点击量</th>\n",
       "      <th>当前评论数</th>\n",
       "      <th>新增评论数</th>\n",
       "      <th>当前点赞数</th>\n",
       "      <th>新增点赞数</th>\n",
       "      <th>...</th>\n",
       "      <th>当前小时三星评分人数</th>\n",
       "      <th>当前小时二星评分人数</th>\n",
       "      <th>当前小时一星评分人数</th>\n",
       "      <th>当日爱奇艺播放指数</th>\n",
       "      <th>影片上线时间</th>\n",
       "      <th>导演</th>\n",
       "      <th>编剧</th>\n",
       "      <th>制片</th>\n",
       "      <th>美术</th>\n",
       "      <th>主演</th>\n",
       "    </tr>\n",
       "  </thead>\n",
       "  <tbody>\n",
       "    <tr>\n",
       "      <th>0</th>\n",
       "      <td>4</td>\n",
       "      <td>2018-09-04 18:00:00</td>\n",
       "      <td>2813.0</td>\n",
       "      <td>-1.0</td>\n",
       "      <td>8986157.0</td>\n",
       "      <td>481.0</td>\n",
       "      <td>412.0</td>\n",
       "      <td>0.0</td>\n",
       "      <td>978.0</td>\n",
       "      <td>0.0</td>\n",
       "      <td>...</td>\n",
       "      <td>-111111111.0</td>\n",
       "      <td>-111111111.0</td>\n",
       "      <td>-111111111.0</td>\n",
       "      <td>13938.0</td>\n",
       "      <td>2017-03-17 18:50:39</td>\n",
       "      <td>喇英</td>\n",
       "      <td>喇英,翁颖宗</td>\n",
       "      <td>余泳妮</td>\n",
       "      <td>NaN</td>\n",
       "      <td>刘京永,李司隆,杨凡,喇英</td>\n",
       "    </tr>\n",
       "  </tbody>\n",
       "</table>\n",
       "<p>1 rows × 31 columns</p>\n",
       "</div>"
      ],
      "text/plain": [
       "   电影ID                   时间   当前热度值  新增热度值      当前点击量  新增点击量  当前评论数  新增评论数  \\\n",
       "0     4  2018-09-04 18:00:00  2813.0   -1.0  8986157.0  481.0  412.0    0.0   \n",
       "\n",
       "   当前点赞数  新增点赞数      ...         当前小时三星评分人数   当前小时二星评分人数   当前小时一星评分人数  \\\n",
       "0  978.0    0.0      ...       -111111111.0 -111111111.0 -111111111.0   \n",
       "\n",
       "  当日爱奇艺播放指数               影片上线时间  导演      编剧   制片   美术             主演  \n",
       "0   13938.0  2017-03-17 18:50:39  喇英  喇英,翁颖宗  余泳妮  NaN  刘京永,李司隆,杨凡,喇英  \n",
       "\n",
       "[1 rows x 31 columns]"
      ]
     },
     "execution_count": 4,
     "metadata": {},
     "output_type": "execute_result"
    }
   ],
   "source": [
    "original_df.head(1)"
   ]
  },
  {
   "cell_type": "markdown",
   "metadata": {},
   "source": [
    "### 2. 特征工程"
   ]
  },
  {
   "cell_type": "markdown",
   "metadata": {},
   "source": [
    "#### 2.1.1 删除特征\"美术\"，缺失了99.8%的特征；删除“制片”，删除“编剧”\n",
    "#### “影片上映时间”留着与“时间”做差，统计距离上映的时常；\n",
    "#### “导演”，“演员”，每部影片去重后，统计频数较高的导演和演员；"
   ]
  },
  {
   "cell_type": "code",
   "execution_count": null,
   "metadata": {},
   "outputs": [],
   "source": [
    "## 删除“美术”，“制片”，“编剧”"
   ]
  },
  {
   "cell_type": "code",
   "execution_count": 11,
   "metadata": {},
   "outputs": [],
   "source": [
    "del original_df['美术']\n",
    "del original_df['制片']\n",
    "del original_df['编剧']"
   ]
  },
  {
   "cell_type": "code",
   "execution_count": null,
   "metadata": {},
   "outputs": [],
   "source": [
    "## 增加“time_interval”特征，计算“时间”距离“上映时间”的差值"
   ]
  },
  {
   "cell_type": "code",
   "execution_count": 12,
   "metadata": {},
   "outputs": [],
   "source": [
    "def get_time_interval(x, y):\n",
    "    '''\n",
    "        x:现在时间； y:影片上映时间；\n",
    "    '''\n",
    "    from dateutil.parser import parse\n",
    "    a = parse(x)\n",
    "    b = parse(y)\n",
    "    return (a-b).total_seconds()"
   ]
  },
  {
   "cell_type": "code",
   "execution_count": 13,
   "metadata": {},
   "outputs": [],
   "source": [
    "original_df['time_interval'] = original_df.apply(lambda row: get_time_interval(row['时间'], row['影片上线时间']), axis=1)"
   ]
  },
  {
   "cell_type": "code",
   "execution_count": 15,
   "metadata": {},
   "outputs": [],
   "source": [
    "## 增加“高频导演”，“高频演员”特征"
   ]
  },
  {
   "cell_type": "code",
   "execution_count": 122,
   "metadata": {},
   "outputs": [],
   "source": [
    "def get_each_movie_relevant_name(name_type):\n",
    "    '''\n",
    "        获取每部影片的导演/主演名单\n",
    "    '''\n",
    "    relevant_name = []\n",
    "    cleaned_relevant_name = []\n",
    "    \n",
    "    for movie_id in original_df['电影ID'].unique():\n",
    "        relevant_name.extend(original_df[original_df['电影ID']==movie_id][name_type].unique().tolist())\n",
    "        \n",
    "    for name_pair in relevant_name:\n",
    "        if name_pair and len(str(name_pair).split(\",\"))>1:\n",
    "            cleaned_relevant_name.extend(name_pair.split(\",\"))\n",
    "        else:\n",
    "            cleaned_relevant_name.append(name_pair)\n",
    "            \n",
    "    return cleaned_relevant_name"
   ]
  },
  {
   "cell_type": "code",
   "execution_count": 126,
   "metadata": {},
   "outputs": [],
   "source": [
    "director_names =  get_each_movie_relevant_name(\"导演\")\n",
    "actor_names = get_each_movie_relevant_name(\"主演\")"
   ]
  },
  {
   "cell_type": "code",
   "execution_count": 232,
   "metadata": {},
   "outputs": [],
   "source": [
    "## 85%的导演的名字只出现过一次，截取出现次数top7的10个导演的名字作为高频导演特征；\n",
    "# 6: 3个 # 7: 1个 # 8：1 # 9：1 # 10：2 # 12：1 # 18：1"
   ]
  },
  {
   "cell_type": "code",
   "execution_count": 161,
   "metadata": {},
   "outputs": [
    {
     "data": {
      "text/plain": [
       "count    3075.000000\n",
       "mean        1.224065\n",
       "std         0.741163\n",
       "min         1.000000\n",
       "25%         1.000000\n",
       "50%         1.000000\n",
       "75%         1.000000\n",
       "max        18.000000\n",
       "dtype: float64"
      ]
     },
     "execution_count": 161,
     "metadata": {},
     "output_type": "execute_result"
    }
   ],
   "source": [
    "pd.Series(director_names).value_counts().describe()"
   ]
  },
  {
   "cell_type": "code",
   "execution_count": 209,
   "metadata": {},
   "outputs": [
    {
     "data": {
      "text/plain": [
       "True     2619\n",
       "False     456\n",
       "dtype: int64"
      ]
     },
     "execution_count": 209,
     "metadata": {},
     "output_type": "execute_result"
    }
   ],
   "source": [
    "(pd.Series(director_names).value_counts() == 1).value_counts()"
   ]
  },
  {
   "cell_type": "code",
   "execution_count": 231,
   "metadata": {},
   "outputs": [],
   "source": [
    "# 只出现1次的演员名字占了69%， 只出现2次的演员名字占了16%，加一起占总共演员出现次数的85%;\n",
    "# 24：1个 # 21：1个 # 18：3个 # 17：1个 # 16：1个 # 14：1个 \n",
    "# 保留8个top6出现次数最多的演员名字"
   ]
  },
  {
   "cell_type": "code",
   "execution_count": 211,
   "metadata": {},
   "outputs": [
    {
     "data": {
      "text/plain": [
       "count    3706.000000\n",
       "mean        1.711549\n",
       "std         1.668850\n",
       "min         1.000000\n",
       "25%         1.000000\n",
       "50%         1.000000\n",
       "75%         2.000000\n",
       "max        24.000000\n",
       "dtype: float64"
      ]
     },
     "execution_count": 211,
     "metadata": {},
     "output_type": "execute_result"
    }
   ],
   "source": [
    "pd.Series(actor_names).value_counts().describe()"
   ]
  },
  {
   "cell_type": "code",
   "execution_count": 229,
   "metadata": {},
   "outputs": [
    {
     "data": {
      "text/plain": [
       "False    3118\n",
       "True      588\n",
       "dtype: int64"
      ]
     },
     "execution_count": 229,
     "metadata": {},
     "output_type": "execute_result"
    }
   ],
   "source": [
    "(pd.Series(actor_names).value_counts() == 2).value_counts()"
   ]
  },
  {
   "cell_type": "code",
   "execution_count": 266,
   "metadata": {},
   "outputs": [],
   "source": [
    "top_10_directors = pd.Series(director_names).value_counts()[:10].index.tolist()"
   ]
  },
  {
   "cell_type": "code",
   "execution_count": 267,
   "metadata": {},
   "outputs": [],
   "source": [
    "top_8_actors = pd.Series(actor_names).value_counts()[:8].index.tolist()"
   ]
  },
  {
   "cell_type": "code",
   "execution_count": 388,
   "metadata": {},
   "outputs": [],
   "source": [
    "## 新增18列导演名和主演名，全部置为0；\n",
    "for name in top_10_directors + top_8_actors:\n",
    "    original_df[name] = 0"
   ]
  },
  {
   "cell_type": "code",
   "execution_count": 344,
   "metadata": {},
   "outputs": [],
   "source": [
    "## 如果每行“导演”或“主演”列有top_10_directors或top_8_actors中的一个，则在对应的人名列将0置为1\n",
    "# def transfer0to1(name):\n",
    "#     test = []\n",
    "#     if name and len(str(name).split(\",\")) == 1:\n",
    "#         if name in (top_10_directors):\n",
    "#             print(name)\n",
    "#             original_df[name] = 1\n",
    "#         else:\n",
    "#             print(str(name) + \"not in list\")\n",
    "#     if name and len(str(name).split(\",\")) > 1:\n",
    "#         for n in  name.split(\",\"):\n",
    "#             if n in (top_10_directors + top_8_actors):\n",
    "#                 original_df[n] = 1\n",
    "#             else:\n",
    "#                 continue"
   ]
  },
  {
   "cell_type": "code",
   "execution_count": 319,
   "metadata": {},
   "outputs": [],
   "source": [
    "## 按列索引批量删除dataframe多列\n",
    "# x = list(range(-3,0,1))\n",
    "# original_df.drop(original_df.columns[x], axis=1, inplace=True)"
   ]
  },
  {
   "cell_type": "code",
   "execution_count": 410,
   "metadata": {},
   "outputs": [],
   "source": [
    "# original_df['张涛'].value_counts()"
   ]
  },
  {
   "cell_type": "code",
   "execution_count": 409,
   "metadata": {},
   "outputs": [],
   "source": [
    "# original_df.iloc[ 10000:11000 ,-18: ]"
   ]
  },
  {
   "cell_type": "code",
   "execution_count": null,
   "metadata": {},
   "outputs": [],
   "source": [
    "# original_df.columns[-19]"
   ]
  },
  {
   "cell_type": "code",
   "execution_count": 371,
   "metadata": {},
   "outputs": [],
   "source": [
    "## 将新增的高频导演/演员的列名 与 数字索引对应起来\n",
    "combine_name_number = {}\n",
    "number = -18\n",
    "\n",
    "for name in top_10_directors + top_8_actors:\n",
    "    combine_name_number[name] = number\n",
    "    number += 1"
   ]
  },
  {
   "cell_type": "code",
   "execution_count": 379,
   "metadata": {},
   "outputs": [],
   "source": [
    "# combine_name_number"
   ]
  },
  {
   "cell_type": "code",
   "execution_count": 411,
   "metadata": {},
   "outputs": [],
   "source": [
    "for num, item in enumerate(original_df[\"主演\"]):\n",
    "    print(num)\n",
    "    \n",
    "    if item and len(str(item).split(\",\")) == 1:\n",
    "        if item in (top_10_directors + top_8_actors):\n",
    "            original_df.iloc[num, combine_name_number[item]] = 1\n",
    "            \n",
    "    if item and len(str(item).split(\",\")) > 1:\n",
    "        for n in item.split(\",\"):\n",
    "            if n in (top_10_directors + top_8_actors):\n",
    "                original_df.iloc[num, combine_name_number[n]] = 1\n",
    "            else:\n",
    "                continue"
   ]
  },
  {
   "cell_type": "markdown",
   "metadata": {},
   "source": [
    "#### 2.1.2 特征\"时间\"为时间格式，只需要保留时刻时间，日期时间可以舍弃，因为新预测的样本来自未来的日期，而且不是重要特征。"
   ]
  },
  {
   "cell_type": "code",
   "execution_count": 412,
   "metadata": {},
   "outputs": [],
   "source": [
    "# 时间格式为日期+时间戳，将特征“时间”转成新的特征“hour”\n",
    "def get_date(x):\n",
    "    return x.split()[0]\n",
    "\n",
    "def get_hour(x):\n",
    "    return x.split()[1].split(\":\")[0]"
   ]
  },
  {
   "cell_type": "code",
   "execution_count": 413,
   "metadata": {},
   "outputs": [],
   "source": [
    "original_df[\"date\"] = original_df[\"时间\"].apply(get_date)"
   ]
  },
  {
   "cell_type": "code",
   "execution_count": 415,
   "metadata": {},
   "outputs": [],
   "source": [
    "original_df[\"hour\"] = original_df[\"时间\"].apply(get_hour)"
   ]
  },
  {
   "cell_type": "code",
   "execution_count": 424,
   "metadata": {},
   "outputs": [],
   "source": [
    "# 将“hour”特征分为3个时间区间特征\n",
    "# 1-10点； 11-20点； 21-0点；\n",
    "def get_time_partition(x):\n",
    "    x = int(x)\n",
    "    if x in range(1,11):\n",
    "        return 0\n",
    "    if x in range(11,21):\n",
    "        return 1\n",
    "    else:\n",
    "        return 2"
   ]
  },
  {
   "cell_type": "code",
   "execution_count": 426,
   "metadata": {},
   "outputs": [],
   "source": [
    "original_df['time_partition'] = original_df['hour'].apply(get_time_partition)"
   ]
  },
  {
   "cell_type": "code",
   "execution_count": 416,
   "metadata": {},
   "outputs": [],
   "source": [
    "# 补充新特征\"weekday\"，日期对应的星期数\n",
    "def get_weekday(x):\n",
    "    dateString = x.split()[0]\n",
    "    week_day = datetime.strptime(dateString, \"%Y-%m-%d\").weekday()\n",
    "    return calendar.day_name[week_day]"
   ]
  },
  {
   "cell_type": "code",
   "execution_count": 417,
   "metadata": {},
   "outputs": [],
   "source": [
    "original_df['weekday'] = original_df['时间'].apply(get_weekday)"
   ]
  },
  {
   "cell_type": "code",
   "execution_count": 418,
   "metadata": {},
   "outputs": [],
   "source": [
    "# 判断是否是工作日,是为1，不是为0。\n",
    "def is_weekday(day):\n",
    "    if day == \"Saturday\" or day == \"Sunday\":\n",
    "        return 0\n",
    "    else:\n",
    "        return 1"
   ]
  },
  {
   "cell_type": "code",
   "execution_count": 420,
   "metadata": {},
   "outputs": [],
   "source": [
    "original_df['is_weekday'] = original_df['weekday'].apply(is_weekday)"
   ]
  },
  {
   "cell_type": "markdown",
   "metadata": {},
   "source": [
    "#### 2.1.3 特征\"推广位\"，有3个属性，99.9%属性为“无”，保留"
   ]
  },
  {
   "cell_type": "code",
   "execution_count": 428,
   "metadata": {},
   "outputs": [],
   "source": [
    "original_df['推广位-VIP'] = pd.get_dummies(original_df['推广位'])['VIP-电影']\n",
    "original_df['推广位-无'] = pd.get_dummies(original_df['推广位'])['无']\n",
    "original_df['推广位-网大'] = pd.get_dummies(original_df['推广位'])['电影-网大']"
   ]
  },
  {
   "cell_type": "markdown",
   "metadata": {},
   "source": [
    "#### 2.1.4 新增特征“点击量新增百分比”，查看一周内某部影片的点击量的新增趋势"
   ]
  },
  {
   "cell_type": "code",
   "execution_count": 429,
   "metadata": {},
   "outputs": [],
   "source": [
    "original_df['点击量新增百分比'] = original_df['新增点击量'][1:] / original_df['当前点击量'][:-1]\n",
    "original_df['点击量新增百分比'] = original_df['点击量新增百分比'].fillna(0)"
   ]
  },
  {
   "cell_type": "markdown",
   "metadata": {},
   "source": [
    "#### 2.1.5 新增特征“热度值新增百分比”；“当日爱奇艺播放指数”的新增百分比不再增加，version1中已探索过"
   ]
  },
  {
   "cell_type": "code",
   "execution_count": 431,
   "metadata": {},
   "outputs": [],
   "source": [
    "# 获取新增热度值百分比\n",
    "original_df['热度值新增百分比'] = original_df['新增热度值'][1:] / original_df['当前热度值'][:-1]\n",
    "original_df['热度值新增百分比'] = original_df['热度值新增百分比'].fillna(0)"
   ]
  },
  {
   "cell_type": "markdown",
   "metadata": {},
   "source": [
    "#### 2.1.6 分析剩余特征"
   ]
  },
  {
   "cell_type": "code",
   "execution_count": null,
   "metadata": {},
   "outputs": [],
   "source": [
    "# “当前评论数”，“当前点赞数”，“当前踩数”，“当前评分数”变幅几乎可以忽略不计，其对应的“新增”列绝大部分都为0，无意义；\n",
    "# '当前小时弹幕数','当前小时新增弹幕数'缺失值高达0.45，考虑舍弃；\n",
    "# '当前小时评分人数'，缺失值占0.29，考虑填充之后作为一个特征，其对应的“新增”列为0项和缺失项占0.71，舍弃；"
   ]
  },
  {
   "cell_type": "markdown",
   "metadata": {},
   "source": [
    "#### ①  缺失值填充 ，“-111111111.0”表示没有获取到数据；用后一个元素填充前一个元素。"
   ]
  },
  {
   "cell_type": "code",
   "execution_count": 435,
   "metadata": {},
   "outputs": [],
   "source": [
    "original_df.replace(-111111111.0, np.nan, inplace=True)\n",
    "original_df['当前小时评分人数'] = original_df['当前小时评分人数'].fillna(method=\"bfill\")"
   ]
  },
  {
   "cell_type": "markdown",
   "metadata": {},
   "source": [
    "#### ② 离散变量one-hot编码"
   ]
  },
  {
   "cell_type": "code",
   "execution_count": 437,
   "metadata": {},
   "outputs": [],
   "source": [
    "## 具体到每周第几天\n",
    "original_df['week_monday'] = pd.get_dummies(original_df['weekday'])['Monday']\n",
    "original_df['week_tuesday'] = pd.get_dummies(original_df['weekday'])['Tuesday']\n",
    "original_df['week_wednesday'] = pd.get_dummies(original_df['weekday'])['Wednesday']\n",
    "original_df['week_thursday'] = pd.get_dummies(original_df['weekday'])['Thursday']\n",
    "original_df['week_friday'] = pd.get_dummies(original_df['weekday'])['Friday']\n",
    "original_df['week_saturday'] = pd.get_dummies(original_df['weekday'])['Saturday']\n",
    "original_df['week_sunday'] = pd.get_dummies(original_df['weekday'])['Sunday']"
   ]
  },
  {
   "cell_type": "code",
   "execution_count": 444,
   "metadata": {},
   "outputs": [],
   "source": [
    "## 推广等级a\\b\\c\n",
    "original_df['推广位等级_a'] = pd.get_dummies(original_df['影片推广位等级'])['a']\n",
    "original_df['推广位等级_b'] = pd.get_dummies(original_df['影片推广位等级'])['b']\n",
    "original_df['推广位等级_c'] = pd.get_dummies(original_df['影片推广位等级'])['c']"
   ]
  },
  {
   "cell_type": "code",
   "execution_count": 477,
   "metadata": {},
   "outputs": [],
   "source": [
    "# pd.get_dummies(original_df['time_partition'])"
   ]
  },
  {
   "cell_type": "code",
   "execution_count": 478,
   "metadata": {},
   "outputs": [],
   "source": [
    "## 每天的时间区间\n",
    "original_df['time_partition_0'] = pd.get_dummies(original_df['time_partition'])[0]\n",
    "original_df['time_partition_1'] = pd.get_dummies(original_df['time_partition'])[1]\n",
    "original_df['time_partition_2'] = pd.get_dummies(original_df['time_partition'])[2]"
   ]
  },
  {
   "cell_type": "markdown",
   "metadata": {},
   "source": [
    "#### 3. 删除无用特征"
   ]
  },
  {
   "cell_type": "code",
   "execution_count": null,
   "metadata": {},
   "outputs": [],
   "source": [
    "original_df.columns = [ '电影ID','时间', '当前热度值', '新增热度值','当前点击量','新增点击量','当前评论数','新增评论数','当前点赞数','新增点赞数',\n",
    "            '当前踩数','新增踩数','当前评分数','推广位','影片推广位等级','当前小时弹幕数','当前小时新增弹幕数','当前小时评分人数',\n",
    "            '当前小时新增评分人数','当前小时五星评分人数','当前小时四星评分人数','当前小时三星评分人数','当前小时二星评分人数',\n",
    "            '当前小时一星评分人数','当日爱奇艺播放指数','影片上线时间','导演','编剧','制片','美术','主演']"
   ]
  },
  {
   "cell_type": "code",
   "execution_count": 449,
   "metadata": {},
   "outputs": [],
   "source": [
    "del original_df['时间']\n",
    "del original_df['新增评论数']\n",
    "del original_df['新增点赞数']\n",
    "del original_df['新增踩数']\n",
    "del original_df['当前小时弹幕数']\n",
    "del original_df['当前小时新增弹幕数']\n",
    "del original_df['当前小时新增评分人数']\n",
    "del original_df['当前小时一星评分人数']\n",
    "del original_df['当前小时二星评分人数']\n",
    "del original_df['当前小时三星评分人数']\n",
    "del original_df['当前小时四星评分人数']\n",
    "del original_df['当前小时五星评分人数']"
   ]
  },
  {
   "cell_type": "code",
   "execution_count": 451,
   "metadata": {},
   "outputs": [],
   "source": [
    "del original_df['推广位']\n",
    "del original_df['影片推广位等级']"
   ]
  },
  {
   "cell_type": "code",
   "execution_count": 456,
   "metadata": {},
   "outputs": [],
   "source": [
    "del original_df['导演']\n",
    "del original_df['主演']\n",
    "del original_df['weekday']\n",
    "del original_df['date']"
   ]
  },
  {
   "cell_type": "code",
   "execution_count": 458,
   "metadata": {},
   "outputs": [],
   "source": [
    "del original_df['影片上线时间']"
   ]
  },
  {
   "cell_type": "code",
   "execution_count": 480,
   "metadata": {},
   "outputs": [],
   "source": [
    "del original_df['time_partition']"
   ]
  },
  {
   "cell_type": "code",
   "execution_count": 483,
   "metadata": {},
   "outputs": [
    {
     "data": {
      "text/plain": [
       "Index(['电影ID', '当前热度值', '新增热度值', '当前点击量', '新增点击量', '当前评论数', '当前点赞数', '当前踩数',\n",
       "       '当前评分数', '当前小时评分人数', '当日爱奇艺播放指数', 'time_interval', '巴晨旭', '郭靖', '朱锐斌',\n",
       "       '潘文杰', '唐顺风', '干志文', '薛少', '诸佳倩', '胡正兵', '褚会林', '张伟', '刘洋', '李伟', '王伟',\n",
       "       '张浩', '张磊', '冯芷墨', '张涛', 'hour', 'is_weekday', '推广位-VIP', '推广位-无',\n",
       "       '推广位-网大', '点击量新增百分比', '热度值新增百分比', 'week_monday', 'week_tuesday',\n",
       "       'week_wednesday', 'week_thursday', 'week_friday', 'week_saturday',\n",
       "       'week_sunday', '推广位等级_a', '推广位等级_b', '推广位等级_c', 'time_partition_0',\n",
       "       'time_partition_1', 'time_partition_2'],\n",
       "      dtype='object')"
      ]
     },
     "execution_count": 483,
     "metadata": {},
     "output_type": "execute_result"
    }
   ],
   "source": [
    "original_df.columns"
   ]
  },
  {
   "cell_type": "code",
   "execution_count": 467,
   "metadata": {},
   "outputs": [],
   "source": [
    "# '当前评分数'和'当前小时评分人数'不存在线性关系，两个特征均保留；"
   ]
  },
  {
   "cell_type": "markdown",
   "metadata": {},
   "source": [
    "### 3. xgboost训练"
   ]
  },
  {
   "cell_type": "code",
   "execution_count": 489,
   "metadata": {},
   "outputs": [],
   "source": [
    "y_total = original_df['当前点击量']\n",
    "y_new_add_amount = original_df['新增点击量']\n",
    "y_new_add_percent = original_df['点击量新增百分比']"
   ]
  },
  {
   "cell_type": "code",
   "execution_count": 490,
   "metadata": {},
   "outputs": [],
   "source": [
    "del original_df['当前点击量']\n",
    "del original_df['新增点击量']\n",
    "del original_df['点击量新增百分比']"
   ]
  },
  {
   "cell_type": "code",
   "execution_count": 496,
   "metadata": {},
   "outputs": [],
   "source": [
    "x_train = original_df"
   ]
  },
  {
   "cell_type": "markdown",
   "metadata": {},
   "source": [
    "### 3.1 直接预测，训练一次。"
   ]
  },
  {
   "cell_type": "markdown",
   "metadata": {},
   "source": [
    "#### Ⅰ 预测“当前点击量”"
   ]
  },
  {
   "cell_type": "code",
   "execution_count": 527,
   "metadata": {},
   "outputs": [
    {
     "data": {
      "text/plain": [
       "XGBRegressor(base_score=0.5, booster='gbtree', colsample_bylevel=1,\n",
       "       colsample_bytree=1, gamma=0, learning_rate=0.1, max_delta_step=0,\n",
       "       max_depth=3, min_child_weight=1, missing=None, n_estimators=100,\n",
       "       n_jobs=1, nthread=None, objective='reg:linear', random_state=0,\n",
       "       reg_alpha=0, reg_lambda=1, scale_pos_weight=1, seed=None,\n",
       "       silent=True, subsample=1)"
      ]
     },
     "execution_count": 527,
     "metadata": {},
     "output_type": "execute_result"
    }
   ],
   "source": [
    "import xgboost as xgb\n",
    "\n",
    "model = xgb.XGBRegressor()\n",
    "model.fit(x_train, y_total)"
   ]
  },
  {
   "cell_type": "code",
   "execution_count": 528,
   "metadata": {},
   "outputs": [],
   "source": [
    "x_test = original_df.head(5)"
   ]
  },
  {
   "cell_type": "code",
   "execution_count": 529,
   "metadata": {},
   "outputs": [
    {
     "data": {
      "text/plain": [
       "array([7491616., 7491616., 7491616., 7491616., 7491616.], dtype=float32)"
      ]
     },
     "execution_count": 529,
     "metadata": {},
     "output_type": "execute_result"
    }
   ],
   "source": [
    "model.predict(x_test)"
   ]
  },
  {
   "cell_type": "code",
   "execution_count": 523,
   "metadata": {},
   "outputs": [
    {
     "data": {
      "text/plain": [
       "0    8986157.0\n",
       "1    8987183.0\n",
       "2    8987387.0\n",
       "3    8988308.0\n",
       "4    8990561.0\n",
       "Name: 当前点击量, dtype: float64"
      ]
     },
     "execution_count": 523,
     "metadata": {},
     "output_type": "execute_result"
    }
   ],
   "source": [
    "y_total[:5]"
   ]
  },
  {
   "cell_type": "markdown",
   "metadata": {},
   "source": [
    "#### Ⅱ 预测“新增点击量”"
   ]
  },
  {
   "cell_type": "code",
   "execution_count": 530,
   "metadata": {},
   "outputs": [
    {
     "data": {
      "text/plain": [
       "XGBRegressor(base_score=0.5, booster='gbtree', colsample_bylevel=1,\n",
       "       colsample_bytree=1, gamma=0, learning_rate=0.1, max_delta_step=0,\n",
       "       max_depth=3, min_child_weight=1, missing=None, n_estimators=100,\n",
       "       n_jobs=1, nthread=None, objective='reg:linear', random_state=0,\n",
       "       reg_alpha=0, reg_lambda=1, scale_pos_weight=1, seed=None,\n",
       "       silent=True, subsample=1)"
      ]
     },
     "execution_count": 530,
     "metadata": {},
     "output_type": "execute_result"
    }
   ],
   "source": [
    "import xgboost as xgb\n",
    "\n",
    "model = xgb.XGBRegressor()\n",
    "model.fit(x_train, y_new_add_amount)"
   ]
  },
  {
   "cell_type": "code",
   "execution_count": 533,
   "metadata": {},
   "outputs": [
    {
     "data": {
      "text/plain": [
       "array([527.9856 , 561.1641 , 594.05646, 691.3973 , 691.3973 , 691.3973 ,\n",
       "       597.60767, 355.6258 , 294.10297, 209.04045], dtype=float32)"
      ]
     },
     "execution_count": 533,
     "metadata": {},
     "output_type": "execute_result"
    }
   ],
   "source": [
    "x_test = original_df.head(10)\n",
    "model.predict(x_test)"
   ]
  },
  {
   "cell_type": "code",
   "execution_count": 534,
   "metadata": {},
   "outputs": [
    {
     "data": {
      "text/plain": [
       "0     481.0\n",
       "1    1026.0\n",
       "2     204.0\n",
       "3     921.0\n",
       "4    2253.0\n",
       "5     965.0\n",
       "6    2047.0\n",
       "7     467.0\n",
       "8     847.0\n",
       "9     216.0\n",
       "Name: 新增点击量, dtype: float64"
      ]
     },
     "execution_count": 534,
     "metadata": {},
     "output_type": "execute_result"
    }
   ],
   "source": [
    "y_new_add_amount[:10]"
   ]
  },
  {
   "cell_type": "markdown",
   "metadata": {},
   "source": [
    "#### 卅 预测“点击量新增百分比”"
   ]
  },
  {
   "cell_type": "code",
   "execution_count": 535,
   "metadata": {},
   "outputs": [
    {
     "data": {
      "text/plain": [
       "XGBRegressor(base_score=0.5, booster='gbtree', colsample_bylevel=1,\n",
       "       colsample_bytree=1, gamma=0, learning_rate=0.1, max_delta_step=0,\n",
       "       max_depth=3, min_child_weight=1, missing=None, n_estimators=100,\n",
       "       n_jobs=1, nthread=None, objective='reg:linear', random_state=0,\n",
       "       reg_alpha=0, reg_lambda=1, scale_pos_weight=1, seed=None,\n",
       "       silent=True, subsample=1)"
      ]
     },
     "execution_count": 535,
     "metadata": {},
     "output_type": "execute_result"
    }
   ],
   "source": [
    "import xgboost as xgb\n",
    "\n",
    "model_percent = xgb.XGBRegressor()\n",
    "model_percent.fit(x_train, y_new_add_percent)"
   ]
  },
  {
   "cell_type": "code",
   "execution_count": 536,
   "metadata": {},
   "outputs": [
    {
     "data": {
      "text/plain": [
       "array([1.1256337e-04, 1.3598800e-04, 1.3598800e-04, 1.7389655e-04,\n",
       "       1.7389655e-04, 1.7389655e-04, 1.7121434e-04, 8.1837177e-05,\n",
       "       5.8531761e-05, 3.6478043e-05], dtype=float32)"
      ]
     },
     "execution_count": 536,
     "metadata": {},
     "output_type": "execute_result"
    }
   ],
   "source": [
    "x_test = original_df.head(10)\n",
    "model_percent.predict(x_test)"
   ]
  },
  {
   "cell_type": "code",
   "execution_count": 537,
   "metadata": {},
   "outputs": [
    {
     "data": {
      "text/plain": [
       "0    0.000000\n",
       "1    0.000114\n",
       "2    0.000023\n",
       "3    0.000102\n",
       "4    0.000251\n",
       "5    0.000107\n",
       "6    0.000228\n",
       "7    0.000052\n",
       "8    0.000094\n",
       "9    0.000024\n",
       "Name: 点击量新增百分比, dtype: float64"
      ]
     },
     "execution_count": 537,
     "metadata": {},
     "output_type": "execute_result"
    }
   ],
   "source": [
    "y_new_add_percent[:10]"
   ]
  },
  {
   "cell_type": "markdown",
   "metadata": {},
   "source": [
    "### 3.2 交叉验证, 数据必须准换成array格式，不能是dataframe"
   ]
  },
  {
   "cell_type": "code",
   "execution_count": 538,
   "metadata": {},
   "outputs": [],
   "source": [
    "from sklearn.model_selection import KFold, train_test_split, GridSearchCV\n",
    "from sklearn.metrics import confusion_matrix, mean_squared_error"
   ]
  },
  {
   "cell_type": "code",
   "execution_count": 577,
   "metadata": {},
   "outputs": [],
   "source": [
    "import numpy as np\n",
    "x_train = np.array(x_train)\n",
    "y_total = np.array(y_total)"
   ]
  },
  {
   "cell_type": "code",
   "execution_count": 580,
   "metadata": {},
   "outputs": [
    {
     "name": "stdout",
     "output_type": "stream",
     "text": [
      "1607238.690669565\n",
      "1568300.3454919353\n",
      "1556074.0471406905\n",
      "1564692.301803818\n",
      "1578584.797183935\n",
      "1577417.7422327443\n",
      "1552214.9754228748\n",
      "1571899.6695898243\n",
      "1574801.3732289008\n",
      "1582756.2196362552\n"
     ]
    }
   ],
   "source": [
    "kf = KFold(n_splits=10, shuffle=True)\n",
    "for train_index, test_index in kf.split(x_train):\n",
    "#     print(\"TRAIN:\", x_train[train_index], \"TEST:\", y_total[train_index])\n",
    "    xgb_model = xgb.XGBRegressor().fit(x_train[train_index], y_total[train_index])\n",
    "    predictions = xgb_model.predict(x_train[test_index])\n",
    "    actuals = y_total[test_index]\n",
    "    print(np.sqrt(mean_squared_error(actuals, predictions)))"
   ]
  },
  {
   "cell_type": "code",
   "execution_count": null,
   "metadata": {},
   "outputs": [],
   "source": []
  },
  {
   "cell_type": "code",
   "execution_count": null,
   "metadata": {},
   "outputs": [],
   "source": []
  },
  {
   "cell_type": "code",
   "execution_count": 1,
   "metadata": {},
   "outputs": [],
   "source": [
    "import pandas as pd\n",
    "ddff = pd.read_csv(\"./original_df_2.csv\")"
   ]
  },
  {
   "cell_type": "code",
   "execution_count": 13,
   "metadata": {},
   "outputs": [
    {
     "data": {
      "text/plain": [
       "72"
      ]
     },
     "execution_count": 13,
     "metadata": {},
     "output_type": "execute_result"
    }
   ],
   "source": [
    "len(ddff.columns)"
   ]
  },
  {
   "cell_type": "code",
   "execution_count": 18,
   "metadata": {},
   "outputs": [],
   "source": [
    "ddff.columns= ['heat_value', 'new_add_heat_value','comment_number','new_add_comment_number','favorite_number','new_add_favorite_number',\n",
    "               'dislike_number','new_add_dislike_number','scoring','evaluation number per hour','aiqiyi play index this day','time_interval',\n",
    "               'bachnxu','guojing','panwenjie','zhuruibin','tangshunfeng','ganzhiwen','xueshao','zhuhuilin','zhujiaqian','huzhengbin','zhangwei',\n",
    "               'liuyang','zhanghao','liwei','wangwei','zhanglei','fengzhimo','zhangtao','is_weekday','tuiguang-VIP','tuiguang-None','tuiguang-wangda',\n",
    "               'week_monday', 'week_tuesday', 'week_wednesday', 'week_thursday','week_friday', 'week_saturday', 'week_sunday','tuiguang_a','tuiguang_b',\n",
    "               'tuiguang_c','time_partition_0', 'time_partition_1', 'time_partition_2',\n",
    "               'hour00', 'hour01', 'hour02', 'hour03', 'hour04', 'hour05', 'hour06',\n",
    "               'hour07', 'hour08', 'hour09', 'hour10', 'hour11', 'hour12', 'hour13',\n",
    "               'hour14', 'hour15', 'hour16', 'hour17', 'hour18', 'hour19', 'hour20',\n",
    "               'hour21', 'hour22', 'hour23', 'heat_value_window_size_6']"
   ]
  },
  {
   "cell_type": "code",
   "execution_count": 15,
   "metadata": {},
   "outputs": [
    {
     "data": {
      "text/plain": [
       "72"
      ]
     },
     "execution_count": 15,
     "metadata": {},
     "output_type": "execute_result"
    }
   ],
   "source": [
    "len(aaaa)"
   ]
  },
  {
   "cell_type": "code",
   "execution_count": null,
   "metadata": {},
   "outputs": [],
   "source": []
  },
  {
   "cell_type": "code",
   "execution_count": 3,
   "metadata": {},
   "outputs": [],
   "source": [
    "del ddff['Unnamed: 0']"
   ]
  },
  {
   "cell_type": "code",
   "execution_count": 19,
   "metadata": {},
   "outputs": [],
   "source": [
    "X = ddff"
   ]
  },
  {
   "cell_type": "code",
   "execution_count": 21,
   "metadata": {},
   "outputs": [],
   "source": [
    "# X"
   ]
  },
  {
   "cell_type": "markdown",
   "metadata": {},
   "source": [
    "#### 基于xgboost原生接口"
   ]
  },
  {
   "cell_type": "code",
   "execution_count": 568,
   "metadata": {},
   "outputs": [
    {
     "name": "stderr",
     "output_type": "stream",
     "text": [
      "/home/wujiaocan/anaconda3/lib/python3.6/site-packages/matplotlib/font_manager.py:1328: UserWarning: findfont: Font family ['sans-serif'] not found. Falling back to DejaVu Sans\n",
      "  (prop.get_family(), self.defaultFamily[fontext]))\n"
     ]
    },
    {
     "data": {
      "image/png": "[encoded data removed]",
      "text/plain": [
       "<Figure size 432x288 with 1 Axes>"
      ]
     },
     "metadata": {},
     "output_type": "display_data"
    }
   ],
   "source": [
    "import xgboost as xgb\n",
    "from xgboost import plot_importance\n",
    "from matplotlib import pyplot as plt\n",
    "from sklearn.model_selection import train_test_split\n",
    "\n",
    "\n",
    "# XGBoost训练过程\n",
    "X_train, X_test, y_train, y_test = train_test_split(x_train, y_total, test_size=0.2, random_state=0)\n",
    "\n",
    "params = {\n",
    "    'booster': 'gbtree',\n",
    "    'objective': 'reg:gamma',\n",
    "    'gamma': 0.1,\n",
    "    'max_depth': 3,\n",
    "    'lambda': 3,\n",
    "    'subsample': 0.7,\n",
    "    'colsample_bytree': 0.7,\n",
    "    'min_child_weight': 3,\n",
    "    'silent': 1,\n",
    "    'eta': 0.1,\n",
    "    'seed': 1000,\n",
    "    'nthread': 4,\n",
    "}\n",
    "\n",
    "dtrain = xgb.DMatrix(X_train, y_train)\n",
    "num_rounds = 300\n",
    "plst = params.items()\n",
    "model = xgb.train(plst, dtrain, num_rounds)\n",
    "\n",
    "# 对测试集进行预测\n",
    "dtest = xgb.DMatrix(X_test)\n",
    "ans = model.predict(dtest)\n",
    "\n",
    "# 显示重要特征\n",
    "plot_importance(model)\n",
    "plt.show()"
   ]
  },
  {
   "cell_type": "code",
   "execution_count": 560,
   "metadata": {},
   "outputs": [
    {
     "name": "stdout",
     "output_type": "stream",
     "text": [
      "MSE: 6677231092969.631\n",
      "RMSE: 2584033.879996474\n"
     ]
    }
   ],
   "source": [
    "from sklearn import metrics\n",
    "print(\"MSE:\",metrics.mean_squared_error(y_test, ans))\n",
    "print(\"RMSE:\",np.sqrt(metrics.mean_squared_error(y_test, ans))) "
   ]
  },
  {
   "cell_type": "markdown",
   "metadata": {},
   "source": [
    "#### 基于sklearn接口"
   ]
  },
  {
   "cell_type": "code",
   "execution_count": 22,
   "metadata": {},
   "outputs": [
    {
     "name": "stderr",
     "output_type": "stream",
     "text": [
      "/home/wujiaocan/anaconda3/lib/python3.6/site-packages/matplotlib/font_manager.py:1328: UserWarning: findfont: Font family ['sans-serif'] not found. Falling back to DejaVu Sans\n",
      "  (prop.get_family(), self.defaultFamily[fontext]))\n"
     ]
    },
    {
     "data": {
      "image/png": "[encoded data removed]",
      "text/plain": [
       "<Figure size 432x288 with 1 Axes>"
      ]
     },
     "metadata": {},
     "output_type": "display_data"
    }
   ],
   "source": [
    "import xgboost as xgb\n",
    "from xgboost import plot_importance\n",
    "from matplotlib import pyplot as plt\n",
    "from sklearn.model_selection import train_test_split\n",
    "\n",
    "# XGBoost训练过程\n",
    "X_train, X_test, y_train, y_test = train_test_split(X, y_new_add_amount, test_size=0.2, random_state=0)\n",
    "\n",
    "# model = xgb.XGBRegressor(max_depth=5, learning_rate=0.1, n_estimators=160, silent=True, objective='reg:gamma')\n",
    "model = xgb.XGBRegressor()\n",
    "model.fit(X_train, y_train)\n",
    "\n",
    "# 对测试集进行预测\n",
    "ans = model.predict(X_test)\n",
    "\n",
    "# 显示重要特征\n",
    "plot_importance(model)\n",
    "plt.show() "
   ]
  },
  {
   "cell_type": "code",
   "execution_count": 24,
   "metadata": {},
   "outputs": [],
   "source": [
    "?plot_importance"
   ]
  },
  {
   "cell_type": "code",
   "execution_count": 571,
   "metadata": {
    "scrolled": true
   },
   "outputs": [
    {
     "name": "stdout",
     "output_type": "stream",
     "text": [
      "MSE: 2388087974175.9717\n",
      "RMSE: 1545343.9662987564\n"
     ]
    }
   ],
   "source": [
    "from sklearn import metrics\n",
    "print(\"MSE:\",metrics.mean_squared_error(y_test, ans))\n",
    "print(\"RMSE:\",np.sqrt(metrics.mean_squared_error(y_test, ans))) "
   ]
  },
  {
   "cell_type": "code",
   "execution_count": 611,
   "metadata": {},
   "outputs": [
    {
     "name": "stderr",
     "output_type": "stream",
     "text": [
      "Exception ignored in: <bound method Booster.__del__ of <xgboost.core.Booster object at 0x7f726b0d8b00>>\n",
      "Traceback (most recent call last):\n",
      "  File \"/home/wujiaocan/anaconda3/lib/python3.6/site-packages/xgboost/core.py\", line 868, in __del__\n",
      "    if self.handle is not None:\n",
      "AttributeError: 'Booster' object has no attribute 'handle'\n"
     ]
    }
   ],
   "source": [
    "X_test.to_excel(\"./a.xlsx\")"
   ]
  },
  {
   "cell_type": "code",
   "execution_count": 612,
   "metadata": {},
   "outputs": [],
   "source": [
    "y_test.to_excel(\"./b.xlsx\")"
   ]
  },
  {
   "cell_type": "code",
   "execution_count": 614,
   "metadata": {},
   "outputs": [],
   "source": [
    "pd.DataFrame(ans).to_excel(\"./c.xlsx\")"
   ]
  },
  {
   "cell_type": "code",
   "execution_count": 566,
   "metadata": {},
   "outputs": [
    {
     "data": {
      "text/plain": [
       "Index(['电影ID', '当前热度值', '新增热度值', '当前评论数', '当前点赞数', '当前踩数', '当前评分数', '当前小时评分人数',\n",
       "       '当日爱奇艺播放指数', 'time_interval', '巴晨旭', '郭靖', '朱锐斌', '潘文杰', '唐顺风', '干志文',\n",
       "       '薛少', '诸佳倩', '胡正兵', '褚会林', '张伟', '刘洋', '李伟', '王伟', '张浩', '张磊', '冯芷墨',\n",
       "       '张涛', 'hour', 'is_weekday', '推广位-VIP', '推广位-无', '推广位-网大', '热度值新增百分比',\n",
       "       'week_monday', 'week_tuesday', 'week_wednesday', 'week_thursday',\n",
       "       'week_friday', 'week_saturday', 'week_sunday', '推广位等级_a', '推广位等级_b',\n",
       "       '推广位等级_c', 'time_partition_0', 'time_partition_1', 'time_partition_2'],\n",
       "      dtype='object')"
      ]
     },
     "execution_count": 566,
     "metadata": {},
     "output_type": "execute_result"
    }
   ],
   "source": [
    "original_df.columns"
   ]
  },
  {
   "cell_type": "code",
   "execution_count": 574,
   "metadata": {},
   "outputs": [],
   "source": [
    "original_df.columns = [ 'movieID', 'heat value now', 'new add heat value','comments number now','favorite number now',\n",
    "            'dislike number now','evaluation score now','evaluation number now per hour','aqiyi play index this day','time_interval',\n",
    "                      'bachenxu', 'guojing', 'zhuruibin', 'panwenjie', 'tangshunfeng', 'ganzhiwen',\n",
    "       'xueshao', 'zhujiaqian', 'huzhengbin', 'zhuhuilin', 'zhangwei', 'liuyang', 'liwei', 'wangwei', 'zhanghao', 'zhanglei', 'fengzhimo',\n",
    "       'zhangtao', 'hour', 'is_weekday', 'promotion place-VIP', 'promotion place-no', 'promotion place-wangda', 'heat value new add percent',\n",
    "       'week_monday', 'week_tuesday', 'week_wednesday', 'week_thursday',\n",
    "       'week_friday', 'week_saturday', 'week_sunday', 'promotion place level_a', 'promotion place level_b',\n",
    "       'promotion place level_c', 'time_partition_0', 'time_partition_1', 'time_partition_2']"
   ]
  },
  {
   "cell_type": "code",
   "execution_count": null,
   "metadata": {},
   "outputs": [],
   "source": [
    "# 1、把movieID去掉试试，非个性化的领域里，感觉不是很实用。\n",
    "# 2、调一下模型，多跑出几组对比数据，记录下来看看整体损失情况吧。\n",
    "# 3、预测目标，改为  新增点击量  跑跑看吧。 新增点击量 相对  当前点击量，问题还是会更少一些，能保证总点击量是一个递增的关系。预测总点击量时，热度是先增后减的趋势，对y增益最大，但在前后总点击相同时，就会有一些问题，无法保证总点击递增。\n",
    "# 4、如果是预测新增点击量的话，特征可能要有一定的变化，例如新增点击、新增评论等。 x和y会相对对应一些。 虽然特征非常稀疏。"
   ]
  },
  {
   "cell_type": "markdown",
   "metadata": {},
   "source": [
    "### 去掉movieID"
   ]
  },
  {
   "cell_type": "code",
   "execution_count": 618,
   "metadata": {},
   "outputs": [],
   "source": [
    "del original_df['movieID']"
   ]
  },
  {
   "cell_type": "markdown",
   "metadata": {},
   "source": [
    "### 去掉“movieID”之后，rmse从RMSE: 1545343.9662987564上升到RMSE: 1602423.961660249"
   ]
  },
  {
   "cell_type": "markdown",
   "metadata": {},
   "source": [
    "#### 预测总点击量"
   ]
  },
  {
   "cell_type": "code",
   "execution_count": 623,
   "metadata": {},
   "outputs": [
    {
     "name": "stdout",
     "output_type": "stream",
     "text": [
      "MSE: 2567762552902.927\n",
      "RMSE: 1602423.961660249\n"
     ]
    },
    {
     "name": "stderr",
     "output_type": "stream",
     "text": [
      "/home/wujiaocan/anaconda3/lib/python3.6/site-packages/matplotlib/font_manager.py:1328: UserWarning: findfont: Font family ['sans-serif'] not found. Falling back to DejaVu Sans\n",
      "  (prop.get_family(), self.defaultFamily[fontext]))\n"
     ]
    },
    {
     "data": {
      "image/png": "[encoded data removed]",
      "text/plain": [
       "<Figure size 432x288 with 1 Axes>"
      ]
     },
     "metadata": {},
     "output_type": "display_data"
    }
   ],
   "source": [
    "import xgboost as xgb\n",
    "from xgboost import plot_importance\n",
    "from matplotlib import pyplot as plt\n",
    "from sklearn.model_selection import train_test_split\n",
    "\n",
    "# XGBoost训练过程\n",
    "X_train_2, X_test_2, y_train_2, y_test_2 = train_test_split(x_train, y_total, test_size=0.2, random_state=2)\n",
    "\n",
    "# model = xgb.XGBRegressor(max_depth=5, learning_rate=0.1, n_estimators=160, silent=True, objective='reg:gamma')\n",
    "model_2 = xgb.XGBRegressor()\n",
    "model_2.fit(X_train_2, y_train_2)\n",
    "\n",
    "# 对测试集进行预测\n",
    "ans_2 = model_2.predict(X_test_2)\n",
    "\n",
    "# 输出误差\n",
    "print(\"MSE:\",metrics.mean_squared_error(y_test_2, ans_2))\n",
    "print(\"RMSE:\",np.sqrt(metrics.mean_squared_error(y_test_2, ans_2))) \n",
    "\n",
    "# 显示重要特征\n",
    "plot_importance(model_2)\n",
    "plt.show() "
   ]
  }
 ],
 "metadata": {
  "kernelspec": {
   "display_name": "Python 3",
   "language": "python",
   "name": "python3"
  },
  "language_info": {
   "codemirror_mode": {
    "name": "ipython",
    "version": 3
   },
   "file_extension": ".py",
   "mimetype": "text/x-python",
   "name": "python",
   "nbconvert_exporter": "python",
   "pygments_lexer": "ipython3",
   "version": "3.6.5"
  }
 },
 "nbformat": 4,
 "nbformat_minor": 2
}
