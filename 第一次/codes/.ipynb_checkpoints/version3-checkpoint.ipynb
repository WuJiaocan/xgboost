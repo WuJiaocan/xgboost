{
 "cells": [
  {
   "cell_type": "markdown",
   "metadata": {},
   "source": [
    "### 用来预测新增量，特征改变，删除movieID之外，加上一些“XX新增”特征"
   ]
  },
  {
   "cell_type": "markdown",
   "metadata": {},
   "source": [
    "### 1.读取数据；加字段名；查看数据形状：827565行 x 31列"
   ]
  },
  {
   "cell_type": "code",
   "execution_count": 7,
   "metadata": {},
   "outputs": [],
   "source": [
    "import pandas as pd\n",
    "import numpy as np\n",
    "import calendar\n",
    "import datetime\n",
    "from datetime import datetime\n",
    "from sklearn.preprocessing import OneHotEncoder\n",
    "import requests\n",
    "\n",
    "import matplotlib.pyplot as plt\n",
    "%matplotlib inline\n",
    "plt.rcParams['font.sans-serif'] = ['SimHei']\n",
    "# plt.rcParams['font.serif'] = ['Microsoft YaHei']"
   ]
  },
  {
   "cell_type": "code",
   "execution_count": 127,
   "metadata": {},
   "outputs": [
    {
     "name": "stderr",
     "output_type": "stream",
     "text": [
      "/home/wujiaocan/anaconda3/lib/python3.6/site-packages/ipykernel_launcher.py:1: ParserWarning: Falling back to the 'python' engine because the 'c' engine does not support regex separators (separators > 1 char and different from '\\s+' are interpreted as regex); you can avoid this warning by specifying engine='python'.\n",
      "  \"\"\"Entry point for launching an IPython kernel.\n"
     ]
    }
   ],
   "source": [
    "original_df = pd.read_csv(\"./data/filter_time_data.txt\", sep='\\t\\t', header=None)"
   ]
  },
  {
   "cell_type": "code",
   "execution_count": 128,
   "metadata": {},
   "outputs": [],
   "source": [
    "original_df.columns = [ '电影ID','时间', '当前热度值', '新增热度值','当前点击量','新增点击量','当前评论数','新增评论数','当前点赞数','新增点赞数',\n",
    "            '当前踩数','新增踩数','当前评分数','推广位','影片推广位等级','当前小时弹幕数','当前小时新增弹幕数','当前小时评分人数',\n",
    "            '当前小时新增评分人数','当前小时五星评分人数','当前小时四星评分人数','当前小时三星评分人数','当前小时二星评分人数',\n",
    "            '当前小时一星评分人数','当日爱奇艺播放指数','影片上线时间','导演','编剧','制片','美术','主演']"
   ]
  },
  {
   "cell_type": "code",
   "execution_count": 68,
   "metadata": {},
   "outputs": [
    {
     "data": {
      "text/plain": [
       "Index(['电影ID', '时间', '当前热度值', '新增热度值', '当前点击量', '新增点击量', '当前评论数', '新增评论数',\n",
       "       '当前点赞数', '新增点赞数', '当前踩数', '新增踩数', '当前评分数', '推广位', '影片推广位等级', '当前小时弹幕数',\n",
       "       '当前小时新增弹幕数', '当前小时评分人数', '当前小时新增评分人数', '当前小时五星评分人数', '当前小时四星评分人数',\n",
       "       '当前小时三星评分人数', '当前小时二星评分人数', '当前小时一星评分人数', '当日爱奇艺播放指数', '影片上线时间', '导演',\n",
       "       '编剧', '制片', '美术', '主演'],\n",
       "      dtype='object')"
      ]
     },
     "execution_count": 68,
     "metadata": {},
     "output_type": "execute_result"
    }
   ],
   "source": [
    "original_df.columns"
   ]
  },
  {
   "cell_type": "code",
   "execution_count": 70,
   "metadata": {},
   "outputs": [],
   "source": [
    "def get_time_interval(x, y):\n",
    "    '''\n",
    "        获取影片已经上映多久；x:现在时间； y:影片上映时间；\n",
    "    '''\n",
    "    from dateutil.parser import parse\n",
    "    a = parse(x)\n",
    "    b = parse(y)\n",
    "    return (a - b).total_seconds()"
   ]
  },
  {
   "cell_type": "code",
   "execution_count": 71,
   "metadata": {},
   "outputs": [],
   "source": [
    "original_df['time_interval'] = original_df.apply(\n",
    "    lambda row: get_time_interval(row['时间'], row['影片上线时间']), axis=1)"
   ]
  },
  {
   "cell_type": "code",
   "execution_count": 73,
   "metadata": {},
   "outputs": [],
   "source": [
    "# original_df.columns"
   ]
  },
  {
   "cell_type": "code",
   "execution_count": 74,
   "metadata": {},
   "outputs": [],
   "source": [
    "def get_each_movie_relevant_name(data, name_type):\n",
    "    '''\n",
    "        按电影ID去重后，获取每所有影片的导演/主演总名单\n",
    "    '''\n",
    "    relevant_name = []\n",
    "    cleaned_relevant_name = []\n",
    "\n",
    "    # 获取每部影片的导演/主演名字，一个或若干个\n",
    "    for movie_id in data['电影ID'].unique():\n",
    "        relevant_name.extend(data[data['电影ID'] == movie_id][name_type].unique().tolist())\n",
    "    # 将某部影片的若干个导演/主演名字，拆开成一个一个\n",
    "    for name_pair in relevant_name:\n",
    "        if name_pair and len(str(name_pair).split(\",\")) > 1:\n",
    "            cleaned_relevant_name.extend(name_pair.split(\",\"))\n",
    "        else:\n",
    "            cleaned_relevant_name.append(name_pair)\n",
    "\n",
    "    return cleaned_relevant_name\n",
    "\n",
    "def transfer0to1(data, name_type, name_list, dic):\n",
    "    for num, item in enumerate(data[name_type]):\n",
    "\n",
    "        if item and len(str(item).split(\",\")) == 1:\n",
    "            if item in name_list:\n",
    "                data.iloc[num, dic[item]] = 1\n",
    "\n",
    "        if item and len(str(item).split(\",\")) > 1:\n",
    "            for n in item.split(\",\"):\n",
    "                if n in name_list:\n",
    "                    data.iloc[num, dic[n]] = 1\n",
    "                else:\n",
    "                    continue"
   ]
  },
  {
   "cell_type": "code",
   "execution_count": 75,
   "metadata": {},
   "outputs": [],
   "source": [
    "# director_names = get_each_movie_relevant_name(original_df, \"导演\")\n",
    "# actor_names = get_each_movie_relevant_name(original_df, \"主演\")\n",
    "\n",
    "# top_10_directors = pd.Series(director_names).value_counts()[:10].index.tolist()\n",
    "# top_8_actors = pd.Series(actor_names).value_counts()[:8].index.tolist()\n",
    "\n",
    "top_10_directors = ['巴晨旭', '郭靖', '潘文杰', '朱锐斌', '唐顺风', '干志文', '薛少', '褚会林', '诸佳倩', '胡正兵']\n",
    "top_8_actors = ['张伟', '刘洋', '张浩', '李伟', '王伟', '张磊', '冯芷墨', '张涛']\n",
    "\n",
    "for name in top_10_directors + top_8_actors:\n",
    "    original_df[name] = 0"
   ]
  },
  {
   "cell_type": "code",
   "execution_count": 102,
   "metadata": {},
   "outputs": [
    {
     "data": {
      "text/plain": [
       "Index(['电影ID', '时间', '当前热度值', '新增热度值', '当前点击量', '新增点击量', '当前评论数', '新增评论数',\n",
       "       '当前点赞数', '新增点赞数', '当前踩数', '新增踩数', '当前评分数', '推广位', '影片推广位等级', '当前小时弹幕数',\n",
       "       '当前小时新增弹幕数', '当前小时评分人数', '当前小时新增评分人数', '当前小时五星评分人数', '当前小时四星评分人数',\n",
       "       '当前小时三星评分人数', '当前小时二星评分人数', '当前小时一星评分人数', '当日爱奇艺播放指数', '影片上线时间', '导演',\n",
       "       '编剧', '制片', '美术', '主演', 'time_interval', '巴晨旭', '郭靖', '潘文杰', '朱锐斌',\n",
       "       '唐顺风', '干志文', '薛少', '胡正兵', '褚会林', '诸佳倩', '张伟', '刘洋', '张浩', '王伟', '李伟',\n",
       "       '张磊', '冯芷墨', '张涛', 'weekday', 'is_weekday', '推广位-VIP', '推广位-无',\n",
       "       '推广位-网大', 'week_monday', 'week_tuesday', 'week_wednesday',\n",
       "       'week_thursday', 'week_friday', 'week_saturday', 'week_sunday',\n",
       "       '推广位等级_a', '推广位等级_b', '推广位等级_c', 'hour', 'time_partition',\n",
       "       'time_partition_0', 'time_partition_1', 'time_partition_2', 'hour00',\n",
       "       'hour01', 'hour02', 'hour03', 'hour04', 'hour05', 'hour06', 'hour07',\n",
       "       'hour08', 'hour09', 'hour10', 'hour11', 'hour12', 'hour13', 'hour14',\n",
       "       'hour15', 'hour16', 'hour17', 'hour18', 'hour19', 'hour20', 'hour21',\n",
       "       'hour22', 'hour23', 'heat_value_window_size_6'],\n",
       "      dtype='object')"
      ]
     },
     "execution_count": 102,
     "metadata": {},
     "output_type": "execute_result"
    }
   ],
   "source": [
    "original_df.columns"
   ]
  },
  {
   "cell_type": "code",
   "execution_count": 77,
   "metadata": {},
   "outputs": [],
   "source": [
    "combine_name_number = {}\n",
    "number = -18  # -18取决现在dataframe的列的情况\n",
    "for name in top_10_directors + top_8_actors:\n",
    "    combine_name_number[name] = number\n",
    "    number += 1"
   ]
  },
  {
   "cell_type": "code",
   "execution_count": 81,
   "metadata": {},
   "outputs": [],
   "source": [
    "# transfer0to1(original_df, \"导演\", top_10_directors + top_8_actors, combine_name_number)\n",
    "# transfer0to1(original_df, \"主演\", top_10_directors + top_8_actors, combine_name_number)"
   ]
  },
  {
   "cell_type": "code",
   "execution_count": 82,
   "metadata": {},
   "outputs": [],
   "source": [
    "def get_weekday(x):\n",
    "    '''\n",
    "        将日期转化为对应的星期数\n",
    "    '''\n",
    "    dateString = x.split()[0]\n",
    "    week_day = datetime.strptime(dateString, \"%Y-%m-%d\").weekday()\n",
    "    return calendar.day_name[week_day]\n",
    "\n",
    "def is_weekday(day):\n",
    "    '''\n",
    "    判断是否是工作日,是为1，不是为0。\n",
    "    '''\n",
    "    if day == \"Saturday\" or day == \"Sunday\":\n",
    "        return 0\n",
    "    else:\n",
    "        return 1"
   ]
  },
  {
   "cell_type": "code",
   "execution_count": 83,
   "metadata": {},
   "outputs": [],
   "source": [
    "original_df['weekday'] = original_df['时间'].apply(get_weekday)\n",
    "original_df['is_weekday'] = original_df['weekday'].apply(is_weekday)"
   ]
  },
  {
   "cell_type": "code",
   "execution_count": 86,
   "metadata": {},
   "outputs": [],
   "source": [
    "original_df['推广位-VIP'] = pd.get_dummies(original_df['推广位'])['VIP-电影']\n",
    "original_df['推广位-无'] = pd.get_dummies(original_df['推广位'])['无']\n",
    "original_df['推广位-网大'] = pd.get_dummies(original_df['推广位'])['电影-网大']"
   ]
  },
  {
   "cell_type": "code",
   "execution_count": 87,
   "metadata": {},
   "outputs": [],
   "source": [
    "original_df['week_monday'] = pd.get_dummies(original_df['weekday'])['Monday']\n",
    "original_df['week_tuesday'] = pd.get_dummies(original_df['weekday'])['Tuesday']\n",
    "original_df['week_wednesday'] = pd.get_dummies(original_df['weekday'])['Wednesday']\n",
    "original_df['week_thursday'] = pd.get_dummies(original_df['weekday'])['Thursday']\n",
    "original_df['week_friday'] = pd.get_dummies(original_df['weekday'])['Friday']\n",
    "original_df['week_saturday'] = pd.get_dummies(original_df['weekday'])['Saturday']\n",
    "original_df['week_sunday'] = pd.get_dummies(original_df['weekday'])['Sunday']"
   ]
  },
  {
   "cell_type": "code",
   "execution_count": 88,
   "metadata": {},
   "outputs": [],
   "source": [
    "original_df['推广位等级_a'] = pd.get_dummies(original_df['影片推广位等级'])['a']\n",
    "original_df['推广位等级_b'] = pd.get_dummies(original_df['影片推广位等级'])['b']\n",
    "original_df['推广位等级_c'] = pd.get_dummies(original_df['影片推广位等级'])['c']"
   ]
  },
  {
   "cell_type": "code",
   "execution_count": 90,
   "metadata": {},
   "outputs": [],
   "source": [
    "def get_hour(x):\n",
    "    '''\n",
    "        用“时间”的时间戳补充新特征小时\"hour\"\n",
    "    '''\n",
    "    return x.split()[1].split(\":\")[0]\n",
    "\n",
    "def get_time_partition(x):\n",
    "    '''\n",
    "        将时间点转化为对应的时间区间\n",
    "    '''\n",
    "    x = int(x)\n",
    "    if x in range(1, 11):   # 1:00-10:00\n",
    "        return 0\n",
    "    if x in range(11, 21):  # 11:00-20:00\n",
    "        return 1\n",
    "    else:                   # 21:00-0:00\n",
    "        return 2"
   ]
  },
  {
   "cell_type": "code",
   "execution_count": 91,
   "metadata": {},
   "outputs": [],
   "source": [
    "original_df[\"hour\"] = original_df[\"时间\"].apply(get_hour)\n",
    "original_df['time_partition'] = original_df['hour'].apply(get_time_partition)\n",
    "\n",
    "original_df['time_partition_0'] = pd.get_dummies(original_df['time_partition'])[0]\n",
    "original_df['time_partition_1'] = pd.get_dummies(original_df['time_partition'])[1]\n",
    "original_df['time_partition_2'] = pd.get_dummies(original_df['time_partition'])[2]"
   ]
  },
  {
   "cell_type": "code",
   "execution_count": 93,
   "metadata": {},
   "outputs": [],
   "source": [
    "for col in pd.get_dummies(original_df['hour']).columns:\n",
    "    original_df['hour'+col] = pd.get_dummies(original_df['hour'])[col]"
   ]
  },
  {
   "cell_type": "code",
   "execution_count": 95,
   "metadata": {},
   "outputs": [],
   "source": [
    "def MaxMinNormalization(x):\n",
    "    '''\n",
    "        \"当前热度值\"归一化处理，0为该列min,6304为该列max\n",
    "    '''\n",
    "    x = (x - 0) / (6304 - 0)\n",
    "    return x"
   ]
  },
  {
   "cell_type": "code",
   "execution_count": 97,
   "metadata": {},
   "outputs": [],
   "source": [
    "# 先将“当前热度值”按照最小-最大标准化\n",
    "original_df['当前热度值'] = original_df['当前热度值'].apply(MaxMinNormalization)"
   ]
  },
  {
   "cell_type": "code",
   "execution_count": 100,
   "metadata": {},
   "outputs": [],
   "source": [
    "# 再利用标准后之间的数据按时间窗口大小6求平均值\n",
    "# new_now_heat_value = []\n",
    "# for i in range(original_df.shape[0]):\n",
    "#     new_now_heat_value.append(original_df.iloc[i:i+6, :]['当前热度值'].mean())"
   ]
  },
  {
   "cell_type": "code",
   "execution_count": null,
   "metadata": {},
   "outputs": [],
   "source": [
    "for i in range(5):\n",
    "    new_now_heat_value.insert(i, 0)"
   ]
  },
  {
   "cell_type": "code",
   "execution_count": 101,
   "metadata": {},
   "outputs": [],
   "source": [
    "# original_df['heat_value_window_size_6'] = pd.DataFrame(new_now_heat_value)\n",
    "original_df['heat_value_window_size_6'] = 0"
   ]
  },
  {
   "cell_type": "code",
   "execution_count": null,
   "metadata": {},
   "outputs": [],
   "source": []
  },
  {
   "cell_type": "code",
   "execution_count": 105,
   "metadata": {},
   "outputs": [],
   "source": [
    "# 1. 删除“电影ID”\n",
    "del original_df['电影ID']\n",
    "\n",
    "# 2. 删除缺失值最多的一列“美术”\n",
    "del original_df['美术']\n",
    "\n",
    "# 3. 删除已经提取出高频名字的“导演”，“主演”\n",
    "del original_df['导演']\n",
    "del original_df['主演']\n",
    "\n",
    "# 4. 删除“编剧”，“制片”\n",
    "del original_df['影片上线时间']\n",
    "del original_df['编剧']\n",
    "del original_df['制片']\n",
    "\n",
    "# 5. 删除用0替换“+11111111”之后，0项占比过大的“当前弹幕数”和“当前小时新增弹幕数”\n",
    "del original_df['当前小时弹幕数']\n",
    "del original_df['当前小时新增弹幕数']\n",
    "\n",
    "# 6. “当前小时评分人数”，用后一位填充；删除“当前小时新增评分人数”\n",
    "original_df['当前小时评分人数'].replace(-111111111.0, np.nan, inplace=True)\n",
    "original_df['当前小时评分人数'] = original_df['当前小时评分人数'].fillna(method=\"bfill\")\n",
    "del original_df['当前小时新增评分人数']\n",
    "\n",
    "# 7. 删除'当前小时一星评分人数'，'当前小时二星评分人数'，'当前小时三星评分人数'，'当前小时四星评分人数'，'当前小时五星评分人数'\n",
    "del original_df['当前小时一星评分人数']\n",
    "del original_df['当前小时二星评分人数']\n",
    "del original_df['当前小时三星评分人数']\n",
    "del original_df['当前小时四星评分人数']\n",
    "del original_df['当前小时五星评分人数']\n",
    "\n",
    "# 8. 删除以转成one-hot编码的离散特征\n",
    "del original_df['时间']\n",
    "del original_df['weekday']\n",
    "del original_df['hour']\n",
    "del original_df['影片推广位等级']\n",
    "del original_df['推广位']\n",
    "del original_df['time_partition']"
   ]
  },
  {
   "cell_type": "code",
   "execution_count": 108,
   "metadata": {},
   "outputs": [],
   "source": []
  },
  {
   "cell_type": "code",
   "execution_count": 111,
   "metadata": {},
   "outputs": [],
   "source": [
    "del original_df['当前点击量']\n",
    "del original_df['新增点击量']"
   ]
  },
  {
   "cell_type": "code",
   "execution_count": 112,
   "metadata": {},
   "outputs": [
    {
     "data": {
      "text/plain": [
       "Index(['当前热度值', '新增热度值', '当前评论数', '新增评论数', '当前点赞数', '新增点赞数', '当前踩数', '新增踩数',\n",
       "       '当前评分数', '当前小时评分人数', '当日爱奇艺播放指数', 'time_interval', '巴晨旭', '郭靖', '潘文杰',\n",
       "       '朱锐斌', '唐顺风', '干志文', '薛少', '胡正兵', '褚会林', '诸佳倩', '张伟', '刘洋', '张浩', '王伟',\n",
       "       '李伟', '张磊', '冯芷墨', '张涛', 'is_weekday', '推广位-VIP', '推广位-无', '推广位-网大',\n",
       "       'week_monday', 'week_tuesday', 'week_wednesday', 'week_thursday',\n",
       "       'week_friday', 'week_saturday', 'week_sunday', '推广位等级_a', '推广位等级_b',\n",
       "       '推广位等级_c', 'time_partition_0', 'time_partition_1', 'time_partition_2',\n",
       "       'hour00', 'hour01', 'hour02', 'hour03', 'hour04', 'hour05', 'hour06',\n",
       "       'hour07', 'hour08', 'hour09', 'hour10', 'hour11', 'hour12', 'hour13',\n",
       "       'hour14', 'hour15', 'hour16', 'hour17', 'hour18', 'hour19', 'hour20',\n",
       "       'hour21', 'hour22', 'hour23', 'heat_value_window_size_6'],\n",
       "      dtype='object')"
      ]
     },
     "execution_count": 112,
     "metadata": {},
     "output_type": "execute_result"
    }
   ],
   "source": [
    "original_df.columns"
   ]
  },
  {
   "cell_type": "code",
   "execution_count": null,
   "metadata": {},
   "outputs": [],
   "source": [
    "top_10_directors = ['巴晨旭', '郭靖', '潘文杰', '朱锐斌', '唐顺风', '干志文', '薛少', '褚会林', '诸佳倩', '胡正兵']\n",
    "top_8_actors = ['张伟', '刘洋', '张浩', '李伟', '王伟', '张磊', '冯芷墨', '张涛']"
   ]
  },
  {
   "cell_type": "code",
   "execution_count": 113,
   "metadata": {},
   "outputs": [
    {
     "data": {
      "text/plain": [
       "72"
      ]
     },
     "execution_count": 113,
     "metadata": {},
     "output_type": "execute_result"
    }
   ],
   "source": [
    "len(original_df.columns)"
   ]
  },
  {
   "cell_type": "code",
   "execution_count": null,
   "metadata": {},
   "outputs": [],
   "source": [
    "'当前热度值', '新增热度值', '当前评论数', '新增评论数', '当前点赞数', '新增点赞数',\n",
    "       '当前踩数', '新增踩数', '当前评分数', '当前小时评分人数', '当日爱奇艺播放指数', 'time_interval',\n",
    "       '巴晨旭', '郭靖', '潘文杰', '朱锐斌', '唐顺风', '干志文', '薛少', '褚会林', '诸佳倩', '胡正兵',\n",
    "       '张伟', '刘洋', '张浩', '李伟', '王伟', '张磊', '冯芷墨', '张涛', 'is_weekday',\n",
    "       '推广位-VIP', '推广位-无', '推广位-网大', 'week_monday', 'week_tuesday',\n",
    "       'week_wednesday', 'week_thursday', 'week_friday', 'week_saturday',\n",
    "       'week_sunday', '推广位等级_a', '推广位等级_b', '推广位等级_c', 'time_partition_0',\n",
    "       'time_partition_1', 'time_partition_2', 'hour00', 'hour01', 'hour02',\n",
    "       'hour03', 'hour04', 'hour05', 'hour06', 'hour07', 'hour08', 'hour09',\n",
    "       'hour10', 'hour11', 'hour12', 'hour13', 'hour14', 'hour15', 'hour16',\n",
    "       'hour17', 'hour18', 'hour19', 'hour20', 'hour21', 'hour22', 'hour23',\n",
    "       'heat_value_window_size_6'"
   ]
  },
  {
   "cell_type": "code",
   "execution_count": null,
   "metadata": {},
   "outputs": [],
   "source": []
  },
  {
   "cell_type": "code",
   "execution_count": 114,
   "metadata": {},
   "outputs": [
    {
     "data": {
      "text/plain": [
       "['巴晨旭', '郭靖', '潘文杰', '朱锐斌', '唐顺风', '干志文', '薛少', '胡正兵', '褚会林', '诸佳倩']"
      ]
     },
     "execution_count": 114,
     "metadata": {},
     "output_type": "execute_result"
    }
   ],
   "source": [
    "top_10_directors"
   ]
  },
  {
   "cell_type": "code",
   "execution_count": 115,
   "metadata": {},
   "outputs": [
    {
     "data": {
      "text/plain": [
       "['张伟', '刘洋', '张浩', '王伟', '李伟', '张磊', '冯芷墨', '张涛']"
      ]
     },
     "execution_count": 115,
     "metadata": {},
     "output_type": "execute_result"
    }
   ],
   "source": [
    "top_8_actors"
   ]
  },
  {
   "cell_type": "code",
   "execution_count": null,
   "metadata": {},
   "outputs": [],
   "source": []
  },
  {
   "cell_type": "code",
   "execution_count": null,
   "metadata": {},
   "outputs": [],
   "source": []
  },
  {
   "cell_type": "code",
   "execution_count": null,
   "metadata": {},
   "outputs": [],
   "source": []
  },
  {
   "cell_type": "markdown",
   "metadata": {},
   "source": [
    "### 2. 特征工程"
   ]
  },
  {
   "cell_type": "markdown",
   "metadata": {},
   "source": [
    "#### 2.1.1 删除特征\"美术\"，缺失了99.8%的特征；删除“制片”，删除“编剧”\n",
    "#### “影片上映时间”留着与“时间”做差，统计距离上映的时常；\n",
    "#### “导演”，“演员”，每部影片去重后，统计频数较高的导演和演员；"
   ]
  },
  {
   "cell_type": "code",
   "execution_count": null,
   "metadata": {},
   "outputs": [],
   "source": [
    "## 删除“美术”，“制片”，“编剧”"
   ]
  },
  {
   "cell_type": "code",
   "execution_count": 6,
   "metadata": {},
   "outputs": [],
   "source": [
    "del original_df['美术']\n",
    "del original_df['制片']\n",
    "del original_df['编剧']"
   ]
  },
  {
   "cell_type": "code",
   "execution_count": null,
   "metadata": {},
   "outputs": [],
   "source": [
    "## 增加“time_interval”特征，计算“时间”距离“上映时间”的差值"
   ]
  },
  {
   "cell_type": "code",
   "execution_count": 7,
   "metadata": {},
   "outputs": [],
   "source": [
    "def get_time_interval(x, y):\n",
    "    '''\n",
    "        x:现在时间； y:影片上映时间；\n",
    "    '''\n",
    "    from dateutil.parser import parse\n",
    "    a = parse(x)\n",
    "    b = parse(y)\n",
    "    return (a-b).total_seconds()"
   ]
  },
  {
   "cell_type": "code",
   "execution_count": 8,
   "metadata": {},
   "outputs": [],
   "source": [
    "original_df['time_interval'] = original_df.apply(lambda row: get_time_interval(row['时间'], row['影片上线时间']), axis=1)"
   ]
  },
  {
   "cell_type": "code",
   "execution_count": 15,
   "metadata": {},
   "outputs": [],
   "source": [
    "## 增加“高频导演”，“高频演员”特征"
   ]
  },
  {
   "cell_type": "code",
   "execution_count": 9,
   "metadata": {},
   "outputs": [],
   "source": [
    "def get_each_movie_relevant_name(name_type):\n",
    "    '''\n",
    "        获取每部影片的导演/主演名单\n",
    "    '''\n",
    "    relevant_name = []\n",
    "    cleaned_relevant_name = []\n",
    "    \n",
    "    for movie_id in original_df['电影ID'].unique():\n",
    "        relevant_name.extend(original_df[original_df['电影ID']==movie_id][name_type].unique().tolist())\n",
    "        \n",
    "    for name_pair in relevant_name:\n",
    "        if name_pair and len(str(name_pair).split(\",\"))>1:\n",
    "            cleaned_relevant_name.extend(name_pair.split(\",\"))\n",
    "        else:\n",
    "            cleaned_relevant_name.append(name_pair)\n",
    "            \n",
    "    return cleaned_relevant_name"
   ]
  },
  {
   "cell_type": "code",
   "execution_count": 10,
   "metadata": {},
   "outputs": [],
   "source": [
    "director_names =  get_each_movie_relevant_name(\"导演\")\n",
    "actor_names = get_each_movie_relevant_name(\"主演\")"
   ]
  },
  {
   "cell_type": "code",
   "execution_count": 232,
   "metadata": {},
   "outputs": [],
   "source": [
    "## 85%的导演的名字只出现过一次，截取出现次数top7的10个导演的名字作为高频导演特征；\n",
    "# 6: 3个 # 7: 1个 # 8：1 # 9：1 # 10：2 # 12：1 # 18：1"
   ]
  },
  {
   "cell_type": "code",
   "execution_count": 161,
   "metadata": {},
   "outputs": [
    {
     "data": {
      "text/plain": [
       "count    3075.000000\n",
       "mean        1.224065\n",
       "std         0.741163\n",
       "min         1.000000\n",
       "25%         1.000000\n",
       "50%         1.000000\n",
       "75%         1.000000\n",
       "max        18.000000\n",
       "dtype: float64"
      ]
     },
     "execution_count": 161,
     "metadata": {},
     "output_type": "execute_result"
    }
   ],
   "source": [
    "pd.Series(director_names).value_counts().describe()"
   ]
  },
  {
   "cell_type": "code",
   "execution_count": 209,
   "metadata": {},
   "outputs": [
    {
     "data": {
      "text/plain": [
       "True     2619\n",
       "False     456\n",
       "dtype: int64"
      ]
     },
     "execution_count": 209,
     "metadata": {},
     "output_type": "execute_result"
    }
   ],
   "source": [
    "(pd.Series(director_names).value_counts() == 1).value_counts()"
   ]
  },
  {
   "cell_type": "code",
   "execution_count": 231,
   "metadata": {},
   "outputs": [],
   "source": [
    "# 只出现1次的演员名字占了69%， 只出现2次的演员名字占了16%，加一起占总共演员出现次数的85%;\n",
    "# 24：1个 # 21：1个 # 18：3个 # 17：1个 # 16：1个 # 14：1个 \n",
    "# 保留8个top6出现次数最多的演员名字"
   ]
  },
  {
   "cell_type": "code",
   "execution_count": 211,
   "metadata": {},
   "outputs": [
    {
     "data": {
      "text/plain": [
       "count    3706.000000\n",
       "mean        1.711549\n",
       "std         1.668850\n",
       "min         1.000000\n",
       "25%         1.000000\n",
       "50%         1.000000\n",
       "75%         2.000000\n",
       "max        24.000000\n",
       "dtype: float64"
      ]
     },
     "execution_count": 211,
     "metadata": {},
     "output_type": "execute_result"
    }
   ],
   "source": [
    "pd.Series(actor_names).value_counts().describe()"
   ]
  },
  {
   "cell_type": "code",
   "execution_count": 229,
   "metadata": {},
   "outputs": [
    {
     "data": {
      "text/plain": [
       "False    3118\n",
       "True      588\n",
       "dtype: int64"
      ]
     },
     "execution_count": 229,
     "metadata": {},
     "output_type": "execute_result"
    }
   ],
   "source": [
    "(pd.Series(actor_names).value_counts() == 2).value_counts()"
   ]
  },
  {
   "cell_type": "code",
   "execution_count": 11,
   "metadata": {},
   "outputs": [],
   "source": [
    "top_10_directors = pd.Series(director_names).value_counts()[:10].index.tolist()"
   ]
  },
  {
   "cell_type": "code",
   "execution_count": 12,
   "metadata": {},
   "outputs": [],
   "source": [
    "top_8_actors = pd.Series(actor_names).value_counts()[:8].index.tolist()"
   ]
  },
  {
   "cell_type": "code",
   "execution_count": 13,
   "metadata": {},
   "outputs": [],
   "source": [
    "## 新增18列导演名和主演名，全部置为0；\n",
    "for name in top_10_directors + top_8_actors:\n",
    "    original_df[name] = 0"
   ]
  },
  {
   "cell_type": "code",
   "execution_count": 344,
   "metadata": {},
   "outputs": [],
   "source": [
    "## 如果每行“导演”或“主演”列有top_10_directors或top_8_actors中的一个，则在对应的人名列将0置为1\n",
    "# def transfer0to1(name):\n",
    "#     test = []\n",
    "#     if name and len(str(name).split(\",\")) == 1:\n",
    "#         if name in (top_10_directors):\n",
    "#             print(name)\n",
    "#             original_df[name] = 1\n",
    "#         else:\n",
    "#             print(str(name) + \"not in list\")\n",
    "#     if name and len(str(name).split(\",\")) > 1:\n",
    "#         for n in  name.split(\",\"):\n",
    "#             if n in (top_10_directors + top_8_actors):\n",
    "#                 original_df[n] = 1\n",
    "#             else:\n",
    "#                 continue"
   ]
  },
  {
   "cell_type": "code",
   "execution_count": 319,
   "metadata": {},
   "outputs": [],
   "source": [
    "## 按列索引批量删除dataframe多列\n",
    "# x = list(range(-3,0,1))\n",
    "# original_df.drop(original_df.columns[x], axis=1, inplace=True)"
   ]
  },
  {
   "cell_type": "code",
   "execution_count": 410,
   "metadata": {},
   "outputs": [],
   "source": [
    "# original_df['张涛'].value_counts()"
   ]
  },
  {
   "cell_type": "code",
   "execution_count": 409,
   "metadata": {},
   "outputs": [],
   "source": [
    "# original_df.iloc[ 10000:11000 ,-18: ]"
   ]
  },
  {
   "cell_type": "code",
   "execution_count": null,
   "metadata": {},
   "outputs": [],
   "source": [
    "# original_df.columns[-19]"
   ]
  },
  {
   "cell_type": "code",
   "execution_count": 14,
   "metadata": {},
   "outputs": [],
   "source": [
    "## 将新增的高频导演/演员的列名 与 数字索引对应起来\n",
    "combine_name_number = {}\n",
    "number = -18\n",
    "\n",
    "for name in top_10_directors + top_8_actors:\n",
    "    combine_name_number[name] = number\n",
    "    number += 1"
   ]
  },
  {
   "cell_type": "code",
   "execution_count": 379,
   "metadata": {},
   "outputs": [],
   "source": [
    "# combine_name_number"
   ]
  },
  {
   "cell_type": "code",
   "execution_count": 16,
   "metadata": {},
   "outputs": [],
   "source": [
    "for num, item in enumerate(original_df[\"主演\"]):\n",
    "#     print(num)\n",
    "    \n",
    "    if item and len(str(item).split(\",\")) == 1:\n",
    "        if item in (top_10_directors + top_8_actors):\n",
    "            original_df.iloc[num, combine_name_number[item]] = 1\n",
    "            \n",
    "    if item and len(str(item).split(\",\")) > 1:\n",
    "        for n in item.split(\",\"):\n",
    "            if n in (top_10_directors + top_8_actors):\n",
    "                original_df.iloc[num, combine_name_number[n]] = 1\n",
    "            else:\n",
    "                continue"
   ]
  },
  {
   "cell_type": "markdown",
   "metadata": {},
   "source": [
    "#### 2.1.2 特征\"时间\"为时间格式，只需要保留时刻时间，日期时间可以舍弃，因为新预测的样本来自未来的日期，而且不是重要特征。"
   ]
  },
  {
   "cell_type": "code",
   "execution_count": 11,
   "metadata": {},
   "outputs": [],
   "source": [
    "# 时间格式为日期+时间戳，将特征“时间”转成新的特征“hour”\n",
    "def get_date(x):\n",
    "    return x.split()[0]\n",
    "\n",
    "def get_hour(x):\n",
    "    return x.split()[1].split(\":\")[0]"
   ]
  },
  {
   "cell_type": "code",
   "execution_count": 129,
   "metadata": {},
   "outputs": [],
   "source": [
    "original_df[\"date\"] = original_df[\"时间\"].apply(get_date)"
   ]
  },
  {
   "cell_type": "code",
   "execution_count": 19,
   "metadata": {},
   "outputs": [],
   "source": [
    "original_df[\"hour\"] = original_df[\"时间\"].apply(get_hour)"
   ]
  },
  {
   "cell_type": "code",
   "execution_count": 10,
   "metadata": {},
   "outputs": [],
   "source": [
    "# 将“hour”特征分为3个时间区间特征\n",
    "# 1-10点； 11-20点； 21-0点；\n",
    "def get_time_partition(x):\n",
    "    x = int(x)\n",
    "    if x in range(1,11):\n",
    "        return 0\n",
    "    if x in range(11,21):\n",
    "        return 1\n",
    "    else:\n",
    "        return 2"
   ]
  },
  {
   "cell_type": "code",
   "execution_count": 21,
   "metadata": {},
   "outputs": [],
   "source": [
    "original_df['time_partition'] = original_df['hour'].apply(get_time_partition)"
   ]
  },
  {
   "cell_type": "code",
   "execution_count": 22,
   "metadata": {},
   "outputs": [],
   "source": [
    "# 补充新特征\"weekday\"，日期对应的星期数\n",
    "def get_weekday(x):\n",
    "    dateString = x.split()[0]\n",
    "    week_day = datetime.strptime(dateString, \"%Y-%m-%d\").weekday()\n",
    "    return calendar.day_name[week_day]"
   ]
  },
  {
   "cell_type": "code",
   "execution_count": 23,
   "metadata": {},
   "outputs": [],
   "source": [
    "original_df['weekday'] = original_df['时间'].apply(get_weekday)"
   ]
  },
  {
   "cell_type": "code",
   "execution_count": 24,
   "metadata": {},
   "outputs": [],
   "source": [
    "# 判断是否是工作日,是为1，不是为0。\n",
    "def is_weekday(day):\n",
    "    if day == \"Saturday\" or day == \"Sunday\":\n",
    "        return 0\n",
    "    else:\n",
    "        return 1"
   ]
  },
  {
   "cell_type": "code",
   "execution_count": 25,
   "metadata": {},
   "outputs": [],
   "source": [
    "original_df['is_weekday'] = original_df['weekday'].apply(is_weekday)"
   ]
  },
  {
   "cell_type": "markdown",
   "metadata": {},
   "source": [
    "#### 2.1.3 特征\"推广位\"，有3个属性，99.9%属性为“无”，保留"
   ]
  },
  {
   "cell_type": "code",
   "execution_count": 26,
   "metadata": {},
   "outputs": [],
   "source": [
    "original_df['推广位-VIP'] = pd.get_dummies(original_df['推广位'])['VIP-电影']\n",
    "original_df['推广位-无'] = pd.get_dummies(original_df['推广位'])['无']\n",
    "original_df['推广位-网大'] = pd.get_dummies(original_df['推广位'])['电影-网大']"
   ]
  },
  {
   "cell_type": "markdown",
   "metadata": {},
   "source": [
    "#### 2.1.4 新增特征“点击量新增百分比”，查看一周内某部影片的点击量的新增趋势"
   ]
  },
  {
   "cell_type": "code",
   "execution_count": 27,
   "metadata": {},
   "outputs": [],
   "source": [
    "original_df['点击量新增百分比'] = original_df['新增点击量'][1:] / original_df['当前点击量'][:-1]\n",
    "original_df['点击量新增百分比'] = original_df['点击量新增百分比'].fillna(0)"
   ]
  },
  {
   "cell_type": "markdown",
   "metadata": {},
   "source": [
    "#### 2.1.5 新增特征“热度值新增百分比”；“当日爱奇艺播放指数”的新增百分比不再增加，version1中已探索过"
   ]
  },
  {
   "cell_type": "code",
   "execution_count": 28,
   "metadata": {},
   "outputs": [],
   "source": [
    "# 获取新增热度值百分比\n",
    "original_df['热度值新增百分比'] = original_df['新增热度值'][1:] / original_df['当前热度值'][:-1]\n",
    "original_df['热度值新增百分比'] = original_df['热度值新增百分比'].fillna(0)"
   ]
  },
  {
   "cell_type": "markdown",
   "metadata": {},
   "source": [
    "#### 2.1.6 分析剩余特征"
   ]
  },
  {
   "cell_type": "code",
   "execution_count": null,
   "metadata": {},
   "outputs": [],
   "source": [
    "# “当前评论数”，“当前点赞数”，“当前踩数”，“当前评分数”变幅几乎可以忽略不计，其对应的“新增”列绝大部分都为0，无意义；\n",
    "# '当前小时弹幕数','当前小时新增弹幕数'缺失值高达0.45，考虑舍弃；\n",
    "# '当前小时评分人数'，缺失值占0.29，考虑填充之后作为一个特征，其对应的“新增”列为0项和缺失项占0.71，舍弃；"
   ]
  },
  {
   "cell_type": "markdown",
   "metadata": {},
   "source": [
    "#### ①  缺失值填充 ，“-111111111.0”表示没有获取到数据；用后一个元素填充前一个元素。"
   ]
  },
  {
   "cell_type": "code",
   "execution_count": 29,
   "metadata": {},
   "outputs": [],
   "source": [
    "original_df.replace(-111111111.0, np.nan, inplace=True)\n",
    "original_df['当前小时评分人数'] = original_df['当前小时评分人数'].fillna(method=\"bfill\")"
   ]
  },
  {
   "cell_type": "markdown",
   "metadata": {},
   "source": [
    "#### ② 离散变量one-hot编码"
   ]
  },
  {
   "cell_type": "code",
   "execution_count": 30,
   "metadata": {},
   "outputs": [],
   "source": [
    "## 具体到每周第几天\n",
    "original_df['week_monday'] = pd.get_dummies(original_df['weekday'])['Monday']\n",
    "original_df['week_tuesday'] = pd.get_dummies(original_df['weekday'])['Tuesday']\n",
    "original_df['week_wednesday'] = pd.get_dummies(original_df['weekday'])['Wednesday']\n",
    "original_df['week_thursday'] = pd.get_dummies(original_df['weekday'])['Thursday']\n",
    "original_df['week_friday'] = pd.get_dummies(original_df['weekday'])['Friday']\n",
    "original_df['week_saturday'] = pd.get_dummies(original_df['weekday'])['Saturday']\n",
    "original_df['week_sunday'] = pd.get_dummies(original_df['weekday'])['Sunday']"
   ]
  },
  {
   "cell_type": "code",
   "execution_count": 31,
   "metadata": {},
   "outputs": [],
   "source": [
    "## 推广等级a\\b\\c\n",
    "original_df['推广位等级_a'] = pd.get_dummies(original_df['影片推广位等级'])['a']\n",
    "original_df['推广位等级_b'] = pd.get_dummies(original_df['影片推广位等级'])['b']\n",
    "original_df['推广位等级_c'] = pd.get_dummies(original_df['影片推广位等级'])['c']"
   ]
  },
  {
   "cell_type": "code",
   "execution_count": 477,
   "metadata": {},
   "outputs": [],
   "source": [
    "# pd.get_dummies(original_df['time_partition'])"
   ]
  },
  {
   "cell_type": "code",
   "execution_count": 32,
   "metadata": {},
   "outputs": [],
   "source": [
    "## 每天的时间区间\n",
    "original_df['time_partition_0'] = pd.get_dummies(original_df['time_partition'])[0]\n",
    "original_df['time_partition_1'] = pd.get_dummies(original_df['time_partition'])[1]\n",
    "original_df['time_partition_2'] = pd.get_dummies(original_df['time_partition'])[2]"
   ]
  },
  {
   "cell_type": "markdown",
   "metadata": {},
   "source": [
    "#### 3. 删除无用特征"
   ]
  },
  {
   "cell_type": "code",
   "execution_count": 33,
   "metadata": {},
   "outputs": [
    {
     "data": {
      "text/plain": [
       "Index(['电影ID', '时间', '当前热度值', '新增热度值', '当前点击量', '新增点击量', '当前评论数', '新增评论数',\n",
       "       '当前点赞数', '新增点赞数', '当前踩数', '新增踩数', '当前评分数', '推广位', '影片推广位等级', '当前小时弹幕数',\n",
       "       '当前小时新增弹幕数', '当前小时评分人数', '当前小时新增评分人数', '当前小时五星评分人数', '当前小时四星评分人数',\n",
       "       '当前小时三星评分人数', '当前小时二星评分人数', '当前小时一星评分人数', '当日爱奇艺播放指数', '影片上线时间', '导演',\n",
       "       '主演', 'time_interval', '巴晨旭', '郭靖', '潘文杰', '朱锐斌', '唐顺风', '干志文', '薛少',\n",
       "       '褚会林', '诸佳倩', '胡正兵', '张伟', '刘洋', '张浩', '李伟', '王伟', '张磊', '冯芷墨', '张涛',\n",
       "       'date', 'hour', 'time_partition', 'weekday', 'is_weekday', '推广位-VIP',\n",
       "       '推广位-无', '推广位-网大', '点击量新增百分比', '热度值新增百分比', 'week_monday',\n",
       "       'week_tuesday', 'week_wednesday', 'week_thursday', 'week_friday',\n",
       "       'week_saturday', 'week_sunday', '推广位等级_a', '推广位等级_b', '推广位等级_c',\n",
       "       'time_partition_0', 'time_partition_1', 'time_partition_2'],\n",
       "      dtype='object')"
      ]
     },
     "execution_count": 33,
     "metadata": {},
     "output_type": "execute_result"
    }
   ],
   "source": [
    "original_df.columns"
   ]
  },
  {
   "cell_type": "code",
   "execution_count": 34,
   "metadata": {},
   "outputs": [],
   "source": [
    "del original_df['电影ID']\n",
    "del original_df['时间']\n",
    "# del original_df['新增评论数']\n",
    "# del original_df['新增点赞数']\n",
    "# del original_df['新增踩数']\n",
    "del original_df['当前小时弹幕数']\n",
    "# del original_df['当前小时新增弹幕数']\n",
    "# del original_df['当前小时新增评分人数']\n",
    "del original_df['当前小时一星评分人数']\n",
    "del original_df['当前小时二星评分人数']\n",
    "del original_df['当前小时三星评分人数']\n",
    "del original_df['当前小时四星评分人数']\n",
    "del original_df['当前小时五星评分人数']"
   ]
  },
  {
   "cell_type": "code",
   "execution_count": 35,
   "metadata": {},
   "outputs": [],
   "source": [
    "del original_df['推广位']\n",
    "del original_df['影片推广位等级']"
   ]
  },
  {
   "cell_type": "code",
   "execution_count": 36,
   "metadata": {},
   "outputs": [],
   "source": [
    "del original_df['导演']\n",
    "del original_df['主演']\n",
    "del original_df['weekday']\n",
    "del original_df['date']"
   ]
  },
  {
   "cell_type": "code",
   "execution_count": 37,
   "metadata": {},
   "outputs": [],
   "source": [
    "del original_df['影片上线时间']"
   ]
  },
  {
   "cell_type": "code",
   "execution_count": 38,
   "metadata": {},
   "outputs": [],
   "source": [
    "del original_df['time_partition']"
   ]
  },
  {
   "cell_type": "code",
   "execution_count": 44,
   "metadata": {},
   "outputs": [
    {
     "data": {
      "text/plain": [
       "Index(['当前热度值', '新增热度值', '当前评论数', '新增评论数', '当前点赞数', '新增点赞数', '当前踩数', '新增踩数',\n",
       "       '当前评分数', '当前小时新增弹幕数', '当前小时评分人数', '当前小时新增评分人数', '当日爱奇艺播放指数',\n",
       "       'time_interval', '巴晨旭', '郭靖', '潘文杰', '朱锐斌', '唐顺风', '干志文', '薛少', '褚会林',\n",
       "       '诸佳倩', '胡正兵', '张伟', '刘洋', '张浩', '李伟', '王伟', '张磊', '冯芷墨', '张涛', 'hour',\n",
       "       'is_weekday', '推广位-VIP', '推广位-无', '推广位-网大', '热度值新增百分比', 'week_monday',\n",
       "       'week_tuesday', 'week_wednesday', 'week_thursday', 'week_friday',\n",
       "       'week_saturday', 'week_sunday', '推广位等级_a', '推广位等级_b', '推广位等级_c',\n",
       "       'time_partition_0', 'time_partition_1', 'time_partition_2'],\n",
       "      dtype='object')"
      ]
     },
     "execution_count": 44,
     "metadata": {},
     "output_type": "execute_result"
    }
   ],
   "source": [
    "original_df.columns"
   ]
  },
  {
   "cell_type": "code",
   "execution_count": null,
   "metadata": {},
   "outputs": [],
   "source": [
    "original_df.columns = [ '电影ID','时间', '当前热度值', '新增热度值','当前点击量','新增点击量','当前评论数','新增评论数','当前点赞数','新增点赞数',\n",
    "            '当前踩数','新增踩数','当前评分数','推广位','影片推广位等级','当前小时弹幕数','当前小时新增弹幕数','当前小时评分人数',\n",
    "            '当前小时新增评分人数','当前小时五星评分人数','当前小时四星评分人数','当前小时三星评分人数','当前小时二星评分人数',\n",
    "            '当前小时一星评分人数','当日爱奇艺播放指数','影片上线时间','导演','编剧','制片','美术','主演']"
   ]
  },
  {
   "cell_type": "code",
   "execution_count": 467,
   "metadata": {},
   "outputs": [],
   "source": [
    "# '当前评分数'和'当前小时评分人数'不存在线性关系，两个特征均保留；"
   ]
  },
  {
   "cell_type": "markdown",
   "metadata": {},
   "source": [
    "### 3. xgboost训练"
   ]
  },
  {
   "cell_type": "code",
   "execution_count": 40,
   "metadata": {},
   "outputs": [],
   "source": [
    "y_total = original_df['当前点击量']\n",
    "y_new_add_amount = original_df['新增点击量']\n",
    "y_new_add_percent = original_df['点击量新增百分比']"
   ]
  },
  {
   "cell_type": "code",
   "execution_count": 41,
   "metadata": {},
   "outputs": [],
   "source": [
    "del original_df['当前点击量']\n",
    "del original_df['新增点击量']\n",
    "del original_df['点击量新增百分比']"
   ]
  },
  {
   "cell_type": "code",
   "execution_count": 52,
   "metadata": {},
   "outputs": [],
   "source": [
    "for col in pd.get_dummies(original_df['hour']).columns:\n",
    "    original_df['hour'+col] = pd.get_dummies(original_df['hour'])[col]"
   ]
  },
  {
   "cell_type": "code",
   "execution_count": 57,
   "metadata": {},
   "outputs": [],
   "source": [
    "del original_df['hour']"
   ]
  },
  {
   "cell_type": "code",
   "execution_count": 58,
   "metadata": {},
   "outputs": [
    {
     "data": {
      "text/plain": [
       "Index(['当前热度值', '新增热度值', '当前评论数', '新增评论数', '当前点赞数', '新增点赞数', '当前踩数', '新增踩数',\n",
       "       '当前评分数', '当前小时新增弹幕数', '当前小时评分人数', '当前小时新增评分人数', '当日爱奇艺播放指数',\n",
       "       'time_interval', '巴晨旭', '郭靖', '潘文杰', '朱锐斌', '唐顺风', '干志文', '薛少', '褚会林',\n",
       "       '诸佳倩', '胡正兵', '张伟', '刘洋', '张浩', '李伟', '王伟', '张磊', '冯芷墨', '张涛',\n",
       "       'is_weekday', '推广位-VIP', '推广位-无', '推广位-网大', '热度值新增百分比', 'week_monday',\n",
       "       'week_tuesday', 'week_wednesday', 'week_thursday', 'week_friday',\n",
       "       'week_saturday', 'week_sunday', '推广位等级_a', '推广位等级_b', '推广位等级_c',\n",
       "       'time_partition_0', 'time_partition_1', 'time_partition_2', 'hour00',\n",
       "       'hour01', 'hour02', 'hour03', 'hour04', 'hour05', 'hour06', 'hour07',\n",
       "       'hour08', 'hour09', 'hour10', 'hour11', 'hour12', 'hour13', 'hour14',\n",
       "       'hour15', 'hour16', 'hour17', 'hour18', 'hour19', 'hour20', 'hour21',\n",
       "       'hour22', 'hour23'],\n",
       "      dtype='object')"
      ]
     },
     "execution_count": 58,
     "metadata": {},
     "output_type": "execute_result"
    }
   ],
   "source": [
    "original_df.columns"
   ]
  },
  {
   "cell_type": "code",
   "execution_count": 78,
   "metadata": {},
   "outputs": [],
   "source": [
    "# original_df.to_excel(\"./original_df.xlsx\")"
   ]
  },
  {
   "cell_type": "markdown",
   "metadata": {},
   "source": [
    "### 3.1 直接预测，训练一次。"
   ]
  },
  {
   "cell_type": "markdown",
   "metadata": {},
   "source": [
    "#### Ⅱ 预测“新增点击量”"
   ]
  },
  {
   "cell_type": "code",
   "execution_count": 59,
   "metadata": {},
   "outputs": [],
   "source": [
    "x_train = original_df"
   ]
  },
  {
   "cell_type": "code",
   "execution_count": 60,
   "metadata": {},
   "outputs": [
    {
     "name": "stderr",
     "output_type": "stream",
     "text": [
      "/home/wujiaocan/anaconda3/lib/python3.6/site-packages/matplotlib/font_manager.py:1328: UserWarning: findfont: Font family ['sans-serif'] not found. Falling back to DejaVu Sans\n",
      "  (prop.get_family(), self.defaultFamily[fontext]))\n"
     ]
    },
    {
     "data": {
      "image/png": "[encoded data removed]",
      "text/plain": [
       "<Figure size 432x288 with 1 Axes>"
      ]
     },
     "metadata": {},
     "output_type": "display_data"
    }
   ],
   "source": [
    "import xgboost as xgb\n",
    "from xgboost import plot_importance\n",
    "from matplotlib import pyplot as plt\n",
    "from sklearn.model_selection import train_test_split\n",
    "\n",
    "# XGBoost训练过程\n",
    "X_train, X_test, y_train, y_test = train_test_split(x_train, y_new_add_amount, test_size=0.2, random_state=0)\n",
    "\n",
    "# model = xgb.XGBRegressor(max_depth=5, learning_rate=0.1, n_estimators=160, silent=True, objective='reg:gamma')\n",
    "model = xgb.XGBRegressor()\n",
    "model.fit(X_train, y_train)\n",
    "\n",
    "# 对测试集进行预测\n",
    "ans = model.predict(X_test)\n",
    "\n",
    "# 显示重要特征\n",
    "plot_importance(model)\n",
    "plt.show() "
   ]
  },
  {
   "cell_type": "code",
   "execution_count": 61,
   "metadata": {},
   "outputs": [
    {
     "name": "stdout",
     "output_type": "stream",
     "text": [
      "MSE: 3432262.749649172\n",
      "RMSE: 1852.6367020139626\n"
     ]
    }
   ],
   "source": [
    "from sklearn import metrics\n",
    "print(\"MSE:\",metrics.mean_squared_error(y_test, ans))\n",
    "print(\"RMSE:\",np.sqrt(metrics.mean_squared_error(y_test, ans))) "
   ]
  },
  {
   "cell_type": "code",
   "execution_count": 73,
   "metadata": {},
   "outputs": [
    {
     "name": "stdout",
     "output_type": "stream",
     "text": [
      "MSE: 1410750.7644944387\n",
      "RMSE: 1187.7502955143555\n"
     ]
    },
    {
     "name": "stderr",
     "output_type": "stream",
     "text": [
      "Exception ignored in: <bound method DMatrix.__del__ of <xgboost.core.DMatrix object at 0x7f921cc2eba8>>\n",
      "Traceback (most recent call last):\n",
      "  File \"/home/wujiaocan/anaconda3/lib/python3.6/site-packages/xgboost/core.py\", line 482, in __del__\n",
      "    if self.handle is not None:\n",
      "AttributeError: 'DMatrix' object has no attribute 'handle'\n",
      "/home/wujiaocan/anaconda3/lib/python3.6/site-packages/matplotlib/font_manager.py:1328: UserWarning: findfont: Font family ['sans-serif'] not found. Falling back to DejaVu Sans\n",
      "  (prop.get_family(), self.defaultFamily[fontext]))\n"
     ]
    },
    {
     "data": {
      "image/png": "[encoded data removed]",
      "text/plain": [
       "<Figure size 432x288 with 1 Axes>"
      ]
     },
     "metadata": {},
     "output_type": "display_data"
    }
   ],
   "source": [
    "import xgboost as xgb\n",
    "from xgboost import plot_importance\n",
    "from matplotlib import pyplot as plt\n",
    "from sklearn.model_selection import train_test_split\n",
    "from sklearn import metrics\n",
    "\n",
    "# XGBoost训练过程\n",
    "X_train, X_test, y_train, y_test = train_test_split(x_train, y_new_add_amount, test_size=0.2, random_state=1)\n",
    "\n",
    "model = xgb.XGBRegressor(max_depth=4, learning_rate=0.1, n_estimators=150, silent=True, min_child_weight=3)\n",
    "# # model_1 = xgb.XGBRegressor()\n",
    "model.fit(X_train, y_train)\n",
    "\n",
    "# # 对测试集进行预测\n",
    "ans = model.predict(X_test)\n",
    "\n",
    "# # 显示误差\n",
    "\n",
    "print(\"MSE:\",metrics.mean_squared_error(y_test, ans))\n",
    "print(\"RMSE:\",np.sqrt(metrics.mean_squared_error(y_test, ans))) \n",
    "\n",
    "# # 显示重要特征\n",
    "plot_importance(model)\n",
    "plt.show() "
   ]
  },
  {
   "cell_type": "code",
   "execution_count": 96,
   "metadata": {},
   "outputs": [],
   "source": [
    "original_df['当前小时新增评分人数']  = original_df['当前小时新增评分人数'].fillna(0)"
   ]
  },
  {
   "cell_type": "code",
   "execution_count": 83,
   "metadata": {},
   "outputs": [],
   "source": [
    "original_df['当前小时新增弹幕数'] = original_df['当前小时新增弹幕数'].fillna(0)"
   ]
  },
  {
   "cell_type": "code",
   "execution_count": 117,
   "metadata": {},
   "outputs": [],
   "source": [
    "?xgb.XGBRegressor"
   ]
  },
  {
   "cell_type": "code",
   "execution_count": 103,
   "metadata": {},
   "outputs": [
    {
     "name": "stdout",
     "output_type": "stream",
     "text": [
      "MSE: 1284947.4692702414\n",
      "RMSE: 1133.555234327045\n"
     ]
    },
    {
     "name": "stderr",
     "output_type": "stream",
     "text": [
      "/home/wujiaocan/anaconda3/lib/python3.6/site-packages/matplotlib/font_manager.py:1328: UserWarning: findfont: Font family ['sans-serif'] not found. Falling back to DejaVu Sans\n",
      "  (prop.get_family(), self.defaultFamily[fontext]))\n"
     ]
    },
    {
     "data": {
      "image/png": "[encoded data removed]",
      "text/plain": [
       "<Figure size 432x288 with 1 Axes>"
      ]
     },
     "metadata": {},
     "output_type": "display_data"
    }
   ],
   "source": [
    "import xgboost as xgb\n",
    "from xgboost import plot_importance\n",
    "from matplotlib import pyplot as plt\n",
    "from sklearn.model_selection import train_test_split\n",
    "from sklearn import metrics\n",
    "\n",
    "# XGBoost训练过程\n",
    "X_train, X_test, y_train, y_test = train_test_split(x_train, y_new_add_amount, test_size=0.2, random_state=1)\n",
    "\n",
    "model = xgb.XGBRegressor(max_depth=4, learning_rate=0.1, n_estimators=150, silent=True, min_child_weight=3)\n",
    "# # model_1 = xgb.XGBRegressor()\n",
    "model.fit(X_train, y_train)\n",
    "\n",
    "# # 对测试集进行预测\n",
    "ans = model.predict(X_test)\n",
    "\n",
    "# # 显示误差\n",
    "\n",
    "print(\"MSE:\",metrics.mean_squared_error(y_test, ans))\n",
    "print(\"RMSE:\",np.sqrt(metrics.mean_squared_error(y_test, ans))) \n",
    "\n",
    "# # 显示重要特征\n",
    "plot_importance(model)\n",
    "plt.show() "
   ]
  },
  {
   "cell_type": "code",
   "execution_count": 111,
   "metadata": {},
   "outputs": [
    {
     "name": "stderr",
     "output_type": "stream",
     "text": [
      "/home/wujiaocan/anaconda3/lib/python3.6/site-packages/sklearn/preprocessing/data.py:164: UserWarning: Numerical issues were encountered when centering the data and might not be solved. Dataset may contain too large values. You may need to prescale your features.\n",
      "  warnings.warn(\"Numerical issues were encountered \"\n"
     ]
    }
   ],
   "source": [
    "from sklearn import preprocessing\n",
    "time_interval_scaled = preprocessing.scale(x_train['time_interval'])"
   ]
  },
  {
   "cell_type": "code",
   "execution_count": 115,
   "metadata": {},
   "outputs": [],
   "source": [
    "# original_df.iloc[1:5,40:60]"
   ]
  },
  {
   "cell_type": "code",
   "execution_count": null,
   "metadata": {},
   "outputs": [
    {
     "name": "stdout",
     "output_type": "stream",
     "text": [
      "max_depth:10\n",
      "n_estimator:95\n",
      "learning_rate:0.07\n",
      "subsample:0.8999999999999999\n",
      "min_child_weight:5\n"
     ]
    },
    {
     "name": "stderr",
     "output_type": "stream",
     "text": [
      "/home/wujiaocan/anaconda3/lib/python3.6/site-packages/sklearn/cross_validation.py:553: Warning: The least populated class in y has only 1 members, which is too few. The minimum number of labels for any class cannot be less than n_folds=5.\n",
      "  % (min_labels, self.n_folds)), Warning)\n"
     ]
    }
   ],
   "source": [
    "import numpy as np\n",
    "import pandas as pd\n",
    "from sklearn.preprocessing import MinMaxScaler\n",
    "import xgboost as xgb\n",
    "from random import shuffle\n",
    "# from xgboost.sklearn import XGBClassifier\n",
    "from sklearn.cross_validation import cross_val_score\n",
    "import pickle\n",
    "import time\n",
    "from hyperopt import fmin, tpe, hp,space_eval,rand,Trials,partial,STATUS_OK\n",
    "\n",
    "# def loadFile(fileName = \"E://zalei//browsetop200Pca.csv\"):\n",
    "#     data = pd.read_csv(fileName,header=None)\n",
    "#     data = data.values\n",
    "#     return data\n",
    "\n",
    "# data = loadFile()\n",
    "# label = data[:,-1]\n",
    "# attrs = data[:,:-1]\n",
    "# labels = label.reshape((1,-1))\n",
    "# label = labels.tolist()[0]\n",
    "\n",
    "# minmaxscaler = MinMaxScaler()\n",
    "# attrs = minmaxscaler.fit_transform(attrs)\n",
    "\n",
    "# index = range(0,len(y_new_add_amount))\n",
    "# shuffle(index)\n",
    "\n",
    "# trainIndex = index[:int(len(y_new_add_amount)*0.7)]\n",
    "# print(len(trainIndex))\n",
    "# testIndex = index[int(len(lay_new_add_amountbel)*0.7):]\n",
    "# print(len(testIndex))\n",
    "\n",
    "# attr_train = x_train[trainIndex,:]\n",
    "# print(attr_train.shape)\n",
    "# attr_test = x_train[testIndex,:]\n",
    "# print(attr_test.shape)\n",
    "\n",
    "# label_train = y_new_add_amount[:,trainIndex].tolist()[0]\n",
    "# print(len(label_train))\n",
    "# label_test = y_new_add_amount[:,testIndex].tolist()[0]\n",
    "# print(len(label_test))\n",
    "# print(np.mat(label_train).reshape((-1,1)).shape)\n",
    "\n",
    "X_train, X_test, y_train, y_test = train_test_split(x_train, y_new_add_amount, test_size=0.2, random_state=1)\n",
    "\n",
    "def GBM(argsDict):\n",
    "    max_depth = argsDict[\"max_depth\"] + 5\n",
    "    n_estimators = argsDict['n_estimators'] * 5 + 50\n",
    "    learning_rate = argsDict[\"learning_rate\"] * 0.02 + 0.05\n",
    "    subsample = argsDict[\"subsample\"] * 0.1 + 0.7\n",
    "    min_child_weight = argsDict[\"min_child_weight\"]+1\n",
    "    print(\"max_depth:\" + str(max_depth))\n",
    "    print(\"n_estimator:\" + str(n_estimators)) \n",
    "    print(\"learning_rate:\" + str(learning_rate)) \n",
    "    print(\"subsample:\" + str(subsample)) \n",
    "    print(\"min_child_weight:\" + str(min_child_weight)) \n",
    "    global attr_train,label_train\n",
    "\n",
    "    gbm = xgb.XGBClassifier(nthread=4,    #进程数\n",
    "                            max_depth=max_depth,  #最大深度\n",
    "                            n_estimators=n_estimators,   #树的数量\n",
    "                            learning_rate=learning_rate, #学习率\n",
    "                            subsample=subsample,      #采样数\n",
    "                            min_child_weight=min_child_weight,   #孩子数\n",
    "                            max_delta_step = 10,  #10步不降则停止\n",
    "                            objective=\"reg:linear\")\n",
    "\n",
    "    metric = cross_val_score(gbm, X_train,y_train,cv=5,scoring=\"roc_auc\").mean()\n",
    "    print(\"metric:\", metric)\n",
    "    return -metric\n",
    "\n",
    "space = {\"max_depth\":hp.randint(\"max_depth\",15),\n",
    "#          \"n_estimators\":hp.randint(\"n_estimators\",10),  #[0,1,2,3,4,5] -> [50,]\n",
    "#          \"learning_rate\":hp.randint(\"learning_rate\",6),  #[0,1,2,3,4,5] -> 0.05,0.06\n",
    "#          \"subsample\":hp.randint(\"subsample\",4),#[0,1,2,3] -> [0.7,0.8,0.9,1.0]\n",
    "#          \"min_child_weight\":hp.randint(\"min_child_weight\",5), #\n",
    "        }\n",
    "algo = partial(tpe.suggest,n_startup_jobs=1)\n",
    "best = fmin(GBM,space,algo=algo,max_evals=4)\n",
    "\n",
    "print(\"best:\",best)\n",
    "print(\"GBM(best)\", GBM(best))"
   ]
  },
  {
   "cell_type": "code",
   "execution_count": 106,
   "metadata": {},
   "outputs": [],
   "source": [
    "# from sklearn.grid_search import GridSearchCV\n",
    "\n",
    "# X_train, X_test, y_train, y_test = train_test_split(x_train, y_new_add_amount, test_size=0.1, random_state=2)\n",
    "\n",
    "# cv_params = {'n_estimators': [100, 200, 300, 400, 500, 600, 700, 800]}\n",
    "# other_params = {'learning_rate': 0.1, 'n_estimators': 500, 'max_depth': 3, 'min_child_weight': 1, 'seed': 0,\n",
    "#                 'subsample': 0.8, 'colsample_bytree': 0.8, 'gamma': 0, 'reg_alpha': 0, 'reg_lambda': 1}\n",
    "\n",
    "# model = xgb.XGBRegressor(**other_params)\n",
    "# optimized_GBM = GridSearchCV(estimator=model, param_grid=cv_params, scoring='r2', cv=5, verbose=1, n_jobs=4)\n",
    "# optimized_GBM.fit(X_train, y_train)\n",
    "# evalute_result = optimized_GBM.grid_scores_\n",
    "# print('每轮迭代运行结果:{0}'.format(evalute_result))\n",
    "# print('参数的最佳取值：{0}'.format(optimized_GBM.best_params_))\n",
    "# print('最佳模型得分:{0}'.format(optimized_GBM.best_score_))"
   ]
  },
  {
   "cell_type": "code",
   "execution_count": null,
   "metadata": {},
   "outputs": [],
   "source": []
  },
  {
   "cell_type": "code",
   "execution_count": 3,
   "metadata": {},
   "outputs": [],
   "source": [
    "import pandas as pd\n",
    "original_df = pd.read_csv(\"./original_df.csv\")"
   ]
  },
  {
   "cell_type": "code",
   "execution_count": 4,
   "metadata": {},
   "outputs": [],
   "source": [
    "del original_df['Unnamed: 0']"
   ]
  },
  {
   "cell_type": "code",
   "execution_count": 5,
   "metadata": {},
   "outputs": [],
   "source": [
    "def MaxMinNormalization(x):\n",
    "    x = (x - 0) / (6304 - 0);\n",
    "    return x"
   ]
  },
  {
   "cell_type": "code",
   "execution_count": 6,
   "metadata": {},
   "outputs": [],
   "source": [
    "original_df['当前热度值'] = original_df['当前热度值'].apply(MaxMinNormalization)"
   ]
  },
  {
   "cell_type": "code",
   "execution_count": 7,
   "metadata": {},
   "outputs": [],
   "source": [
    "X = original_df"
   ]
  },
  {
   "cell_type": "code",
   "execution_count": 11,
   "metadata": {},
   "outputs": [
    {
     "name": "stderr",
     "output_type": "stream",
     "text": [
      "/home/wujiaocan/anaconda3/lib/python3.6/site-packages/ipykernel_launcher.py:1: ParserWarning: Falling back to the 'python' engine because the 'c' engine does not support regex separators (separators > 1 char and different from '\\s+' are interpreted as regex); you can avoid this warning by specifying engine='python'.\n",
      "  \"\"\"Entry point for launching an IPython kernel.\n"
     ]
    }
   ],
   "source": [
    "df = pd.read_csv(\"./data/filter_time_data.txt\", sep='\\t\\t', header=None)"
   ]
  },
  {
   "cell_type": "code",
   "execution_count": 12,
   "metadata": {},
   "outputs": [],
   "source": [
    "df.columns = [ '电影ID','时间', '当前热度值', '新增热度值','当前点击量','新增点击量','当前评论数','新增评论数','当前点赞数','新增点赞数',\n",
    "            '当前踩数','新增踩数','当前评分数','推广位','影片推广位等级','当前小时弹幕数','当前小时新增弹幕数','当前小时评分人数',\n",
    "            '当前小时新增评分人数','当前小时五星评分人数','当前小时四星评分人数','当前小时三星评分人数','当前小时二星评分人数',\n",
    "            '当前小时一星评分人数','当日爱奇艺播放指数','影片上线时间','导演','编剧','制片','美术','主演']"
   ]
  },
  {
   "cell_type": "code",
   "execution_count": 13,
   "metadata": {},
   "outputs": [],
   "source": [
    "y_new_add_amount = df['新增点击量']"
   ]
  },
  {
   "cell_type": "code",
   "execution_count": 14,
   "metadata": {},
   "outputs": [
    {
     "name": "stdout",
     "output_type": "stream",
     "text": [
      "MSE: 2160386.9621943617\n",
      "RMSE: 1469.8254869862483\n"
     ]
    }
   ],
   "source": [
    "import xgboost as xgb\n",
    "from xgboost import plot_importance\n",
    "from matplotlib import pyplot as plt\n",
    "from sklearn.model_selection import train_test_split\n",
    "from sklearn import metrics\n",
    "import numpy as np\n",
    "\n",
    "#XGBoost训练过程\n",
    "X_train, X_test, y_train, y_test = train_test_split(X, y_new_add_amount,test_size=0.2, random_state=0)\n",
    "\n",
    "model = xgb.XGBRegressor(max_depth=8, n_estimators=500, gamma=0.169, colsample_bytree=0.5)\n",
    "# model = xgb.XGBRegressor()\n",
    "model.fit(X_train, y_train)\n",
    "\n",
    "# # 对测试集进行预测\n",
    "ans = model.predict(X_test)\n",
    "\n",
    "# # 显示误差\n",
    "print(\"MSE:\",metrics.mean_squared_error(y_test, ans))\n",
    "print(\"RMSE:\",np.sqrt(metrics.mean_squared_error(y_test, ans))) "
   ]
  },
  {
   "cell_type": "code",
   "execution_count": 30,
   "metadata": {},
   "outputs": [
    {
     "data": {
      "text/plain": [
       "Index(['当前热度值', '新增热度值', '当前评论数', '新增评论数', '当前点赞数', '新增点赞数', '当前踩数', '新增踩数',\n",
       "       '当前评分数', '当前小时新增弹幕数', '当前小时评分人数', '当前小时新增评分人数', '当日爱奇艺播放指数',\n",
       "       'time_interval', '巴晨旭', '郭靖', '潘文杰', '朱锐斌', '唐顺风', '干志文', '薛少', '褚会林',\n",
       "       '诸佳倩', '胡正兵', '张伟', '刘洋', '张浩', '李伟', '王伟', '张磊', '冯芷墨', '张涛',\n",
       "       'is_weekday', '推广位-VIP', '推广位-无', '推广位-网大', '热度值新增百分比', 'week_monday',\n",
       "       'week_tuesday', 'week_wednesday', 'week_thursday', 'week_friday',\n",
       "       'week_saturday', 'week_sunday', '推广位等级_a', '推广位等级_b', '推广位等级_c',\n",
       "       'time_partition_0', 'time_partition_1', 'time_partition_2', 'hour00',\n",
       "       'hour01', 'hour02', 'hour03', 'hour04', 'hour05', 'hour06', 'hour07',\n",
       "       'hour08', 'hour09', 'hour10', 'hour11', 'hour12', 'hour13', 'hour14',\n",
       "       'hour15', 'hour16', 'hour17', 'hour18', 'hour19', 'hour20', 'hour21',\n",
       "       'hour22', 'hour23'],\n",
       "      dtype='object')"
      ]
     },
     "execution_count": 30,
     "metadata": {},
     "output_type": "execute_result"
    }
   ],
   "source": [
    "X.columns"
   ]
  },
  {
   "cell_type": "code",
   "execution_count": 24,
   "metadata": {},
   "outputs": [
    {
     "ename": "TypeError",
     "evalue": "concat() got multiple values for argument 'axis'",
     "output_type": "error",
     "traceback": [
      "\u001b[0;31m---------------------------------------------------------------------------\u001b[0m",
      "\u001b[0;31mTypeError\u001b[0m                                 Traceback (most recent call last)",
      "\u001b[0;32m<ipython-input-24-5068c9230a21>\u001b[0m in \u001b[0;36m<module>\u001b[0;34m()\u001b[0m\n\u001b[0;32m----> 1\u001b[0;31m \u001b[0mpd\u001b[0m\u001b[0;34m.\u001b[0m\u001b[0mconcat\u001b[0m\u001b[0;34m(\u001b[0m\u001b[0mX_test\u001b[0m\u001b[0;34m,\u001b[0m\u001b[0my_test\u001b[0m\u001b[0;34m,\u001b[0m\u001b[0mans\u001b[0m\u001b[0;34m,\u001b[0m\u001b[0maxis\u001b[0m\u001b[0;34m=\u001b[0m\u001b[0;36m1\u001b[0m\u001b[0;34m)\u001b[0m\u001b[0;34m\u001b[0m\u001b[0m\n\u001b[0m",
      "\u001b[0;31mTypeError\u001b[0m: concat() got multiple values for argument 'axis'"
     ]
    }
   ],
   "source": [
    "pd.concat(X_test,y_test,ans,axis=1)"
   ]
  },
  {
   "cell_type": "code",
   "execution_count": 26,
   "metadata": {},
   "outputs": [],
   "source": [
    "y_test.to_excel(\"./test_data2.xlsx\")"
   ]
  },
  {
   "cell_type": "code",
   "execution_count": 28,
   "metadata": {},
   "outputs": [],
   "source": [
    "pd.DataFrame(ans).to_excel(\"./test_data4.xlsx\")"
   ]
  },
  {
   "cell_type": "code",
   "execution_count": 29,
   "metadata": {},
   "outputs": [],
   "source": [
    "X_test.to_excel(\"./test_data3.xlsx\")"
   ]
  },
  {
   "cell_type": "code",
   "execution_count": null,
   "metadata": {},
   "outputs": [],
   "source": []
  }
 ],
 "metadata": {
  "kernelspec": {
   "display_name": "Python 3",
   "language": "python",
   "name": "python3"
  },
  "language_info": {
   "codemirror_mode": {
    "name": "ipython",
    "version": 3
   },
   "file_extension": ".py",
   "mimetype": "text/x-python",
   "name": "python",
   "nbconvert_exporter": "python",
   "pygments_lexer": "ipython3",
   "version": "3.6.5"
  }
 },
 "nbformat": 4,
 "nbformat_minor": 2
}
