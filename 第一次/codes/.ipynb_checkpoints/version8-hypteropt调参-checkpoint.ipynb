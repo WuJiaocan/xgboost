{
 "cells": [
  {
   "cell_type": "markdown",
   "metadata": {},
   "source": [
    "### 只测试“新增点击量”作为label，因此需要新增一些“新增xx”的特征，但是又两列需要fillna(0),之前有一列用了fillna(method=\"bfill\")"
   ]
  },
  {
   "cell_type": "markdown",
   "metadata": {},
   "source": [
    "### 用hyperopt调参"
   ]
  },
  {
   "cell_type": "markdown",
   "metadata": {},
   "source": [
    "#### 读取训练集所有特征"
   ]
  },
  {
   "cell_type": "code",
   "execution_count": 39,
   "metadata": {},
   "outputs": [],
   "source": [
    "# import pandas as pd\n",
    "# original_df = pd.read_csv(\"./original_df_2.csv\")"
   ]
  },
  {
   "cell_type": "code",
   "execution_count": 37,
   "metadata": {},
   "outputs": [],
   "source": [
    "# del original_df['Unnamed: 0']"
   ]
  },
  {
   "cell_type": "code",
   "execution_count": 31,
   "metadata": {},
   "outputs": [],
   "source": [
    "# del original_df['当前小时新增评分人数']"
   ]
  },
  {
   "cell_type": "code",
   "execution_count": 36,
   "metadata": {},
   "outputs": [],
   "source": [
    "# X = original_df"
   ]
  },
  {
   "cell_type": "code",
   "execution_count": 35,
   "metadata": {},
   "outputs": [],
   "source": [
    "# original_df.columns"
   ]
  },
  {
   "cell_type": "code",
   "execution_count": 34,
   "metadata": {},
   "outputs": [],
   "source": [
    "# len(original_df.columns)"
   ]
  },
  {
   "cell_type": "code",
   "execution_count": 12,
   "metadata": {},
   "outputs": [],
   "source": [
    "# original_df['当前热度值']"
   ]
  },
  {
   "cell_type": "code",
   "execution_count": 26,
   "metadata": {},
   "outputs": [],
   "source": [
    "# original_df.to_csv(\"original_df_2.csv\")"
   ]
  },
  {
   "cell_type": "markdown",
   "metadata": {},
   "source": [
    "#### 读取源数据，获得label"
   ]
  },
  {
   "cell_type": "code",
   "execution_count": 8,
   "metadata": {},
   "outputs": [
    {
     "name": "stderr",
     "output_type": "stream",
     "text": [
      "/home/wujiaocan/anaconda3/lib/python3.6/site-packages/ipykernel_launcher.py:1: ParserWarning: Falling back to the 'python' engine because the 'c' engine does not support regex separators (separators > 1 char and different from '\\s+' are interpreted as regex); you can avoid this warning by specifying engine='python'.\n",
      "  \"\"\"Entry point for launching an IPython kernel.\n"
     ]
    }
   ],
   "source": [
    "df = pd.read_csv(\"./data/filter_time_data.txt\", sep='\\t\\t', header=None)"
   ]
  },
  {
   "cell_type": "code",
   "execution_count": 9,
   "metadata": {},
   "outputs": [],
   "source": [
    "df.columns = [ '电影ID','时间', '当前热度值', '新增热度值','当前点击量','新增点击量','当前评论数','新增评论数','当前点赞数','新增点赞数',\n",
    "            '当前踩数','新增踩数','当前评分数','推广位','影片推广位等级','当前小时弹幕数','当前小时新增弹幕数','当前小时评分人数',\n",
    "            '当前小时新增评分人数','当前小时五星评分人数','当前小时四星评分人数','当前小时三星评分人数','当前小时二星评分人数',\n",
    "            '当前小时一星评分人数','当日爱奇艺播放指数','影片上线时间','导演','编剧','制片','美术','主演']"
   ]
  },
  {
   "cell_type": "code",
   "execution_count": 7,
   "metadata": {},
   "outputs": [],
   "source": [
    "df['点击量新增百分比'] = df['新增点击量'][1:] / df['当前点击量'][:-1]\n",
    "df['点击量新增百分比'] = df['点击量新增百分比'].fillna(0)"
   ]
  },
  {
   "cell_type": "code",
   "execution_count": 10,
   "metadata": {},
   "outputs": [],
   "source": [
    "y_total = df['当前点击量']\n",
    "y_new_add_amount = df['新增点击量']\n",
    "# y_new_add_percent = df['点击量新增百分比']"
   ]
  },
  {
   "cell_type": "markdown",
   "metadata": {},
   "source": [
    "### 3. xgboost训练"
   ]
  },
  {
   "cell_type": "code",
   "execution_count": 11,
   "metadata": {},
   "outputs": [],
   "source": [
    "import numpy as np\n",
    "import pandas as pd\n",
    "from hyperopt import hp, tpe\n",
    "from hyperopt.fmin import fmin\n",
    "from sklearn.model_selection import cross_val_score, StratifiedKFold\n",
    "from sklearn.ensemble import RandomForestClassifier\n",
    "from sklearn.metrics import make_scorer\n",
    "import xgboost as xgb\n",
    "# import lightgbm as lgbm"
   ]
  },
  {
   "cell_type": "code",
   "execution_count": 11,
   "metadata": {},
   "outputs": [],
   "source": [
    "def gini(truth, predictions):\n",
    "    g = np.asarray(np.c_[truth, predictions, np.arange(len(truth)) ], dtype=np.float)\n",
    "    g = g[np.lexsort((g[:,2], -1*g[:,1]))]\n",
    "    gs = g[:,0].cumsum().sum() / g[:,0].sum()\n",
    "    gs -= (len(truth) + 1) / 2.\n",
    "    return gs / len(truth)\n",
    "def gini_xgb(predictions, truth):\n",
    "    truth = truth.get_label()\n",
    "    return 'gini', -1.0 * gini(truth, predictions) / gini(truth, truth)\n",
    "def gini_lgb(truth, predictions):\n",
    "    score = gini(truth, predictions) / gini(truth, truth)\n",
    "    return 'gini', score, True\n",
    "def gini_sklearn(truth, predictions):\n",
    "    return gini(truth, predictions) / gini(truth, truth)\n",
    "gini_scorer = make_scorer(gini_sklearn, greater_is_better=True, needs_proba=True)"
   ]
  },
  {
   "cell_type": "code",
   "execution_count": 12,
   "metadata": {},
   "outputs": [],
   "source": [
    "# 最重要的参数是:\n",
    "\n",
    "# 树的数量(n_estimators)\n",
    "# 学习速率-后树的影响较小(learning_rate)\n",
    "# 树深度(max_depth)\n",
    "# gamma-过拟合参数。\n",
    "# colsample_bytree-减少过度拟合"
   ]
  },
  {
   "cell_type": "code",
   "execution_count": 19,
   "metadata": {},
   "outputs": [],
   "source": [
    "# def objective(params):\n",
    "#     params = {\n",
    "#         'max_depth': int(params['max_depth']),\n",
    "#         'min_chlid_weight': int(params['min_chlid_weight']),\n",
    "#         'n_estimators':int(params['n_estimators']),\n",
    "#         'learning_rate':\"{:.3f}\".format(params['learning_rate']),\n",
    "#         'gamma': \"{:.3f}\".format(params['gamma']),\n",
    "#         'colsample_bytree': '{:.3f}'.format(params['colsample_bytree']),\n",
    "#     }\n",
    "\n",
    "#     clf = xgb.XGBRegressor(\n",
    "# #         max_depth=8,\n",
    "# #         n_estimators=250,\n",
    "# #         learning_rate=0.05,\n",
    "#         n_jobs=4,\n",
    "#         **params\n",
    "#     )\n",
    "\n",
    "#     score = cross_val_score(clf, X, y_new_add_amount, scoring='r2', cv=StratifiedKFold()).mean()\n",
    "#     print(score, params)\n",
    "#     return score\n",
    "\n",
    "# space = {\n",
    "#     'max_depth': hp.quniform('max_depth', 2, 8, 1),\n",
    "#     'min_chlid_weight': hp.quniform('min_chlid_weight', 1, 8, 2),\n",
    "#     'n_estimators': hp.quniform('max_depth', 400, 800, 100),\n",
    "#     'learning_rate': hp.uniform('learning_rate', 0, 0.1),\n",
    "#     'colsample_bytree': hp.uniform('colsample_bytree', 0.3, 1.0),\n",
    "#     'gamma': hp.uniform('gamma', 0.0, 0.5),\n",
    "# }\n",
    "\n",
    "# best = fmin(fn=objective,\n",
    "#             space=space,\n",
    "#             algo=tpe.suggest,\n",
    "#             max_evals=8)"
   ]
  },
  {
   "cell_type": "code",
   "execution_count": null,
   "metadata": {},
   "outputs": [
    {
     "name": "stderr",
     "output_type": "stream",
     "text": [
      "/home/wujiaocan/anaconda3/lib/python3.6/site-packages/sklearn/model_selection/_split.py:605: Warning: The least populated class in y has only 1 members, which is too few. The minimum number of members in any class cannot be less than n_splits=3.\n",
      "  % (min_groups, self.n_splits)), Warning)\n"
     ]
    }
   ],
   "source": [
    "def objective(params):\n",
    "    params = {\n",
    "        'max_depth': int(params['max_depth']),\n",
    "        'gamma': \"{:.3f}\".format(params['gamma']),\n",
    "        'colsample_bytree': '{:.3f}'.format(params['colsample_bytree']),\n",
    "    }\n",
    "\n",
    "    clf = xgb.XGBRegressor(\n",
    "        n_estimators=250,\n",
    "        learning_rate=0.05,\n",
    "        n_jobs=4,\n",
    "        **params\n",
    "    )\n",
    "\n",
    "    score = cross_val_score(clf, X, y_total, scoring=\"r2\", cv=StratifiedKFold()).mean()\n",
    "    print(\"Gini {:.3f} params {}\".format(score, params))\n",
    "    return score\n",
    "\n",
    "space = {\n",
    "    'max_depth': hp.quniform('max_depth', 2, 8, 1),\n",
    "    'colsample_bytree': hp.uniform('colsample_bytree', 0.3, 1.0),\n",
    "    'gamma': hp.uniform('gamma', 0.0, 0.5),\n",
    "}\n",
    "\n",
    "best = fmin(fn=objective,\n",
    "            space=space,\n",
    "            algo=tpe.suggest,\n",
    "            max_evals=10)"
   ]
  },
  {
   "cell_type": "code",
   "execution_count": 12,
   "metadata": {},
   "outputs": [
    {
     "name": "stdout",
     "output_type": "stream",
     "text": [
      "Hyperopt estimated optimum {'colsample_bytree': 0.8957822073838446, 'gamma': 0.027698143119166907, 'max_depth': 7.0}\n"
     ]
    }
   ],
   "source": [
    "print(\"Hyperopt estimated optimum {}\".format(best))"
   ]
  },
  {
   "cell_type": "code",
   "execution_count": null,
   "metadata": {},
   "outputs": [],
   "source": []
  },
  {
   "cell_type": "code",
   "execution_count": null,
   "metadata": {},
   "outputs": [],
   "source": []
  },
  {
   "cell_type": "code",
   "execution_count": null,
   "metadata": {},
   "outputs": [],
   "source": []
  },
  {
   "cell_type": "code",
   "execution_count": 10,
   "metadata": {},
   "outputs": [],
   "source": [
    "# import numpy as np\n",
    "# import pandas as pd\n",
    "# from sklearn.preprocessing import MinMaxScaler\n",
    "# import xgboost as xgb\n",
    "# from random import shuffle\n",
    "# # from xgboost.sklearn import XGBClassifier\n",
    "# from sklearn.cross_validation import cross_val_score\n",
    "# import pickle\n",
    "# import time\n",
    "# from hyperopt import fmin, tpe, hp,space_eval,rand,Trials,partial,STATUS_OK\n",
    "\n",
    "# X_train, X_test, y_train, y_test = train_test_split(x_train, y_new_add_amount, test_size=0.2, random_state=1)\n",
    "\n",
    "# def GBM(argsDict):\n",
    "#     max_depth = argsDict[\"max_depth\"] + 5\n",
    "#     n_estimators = argsDict['n_estimators'] * 5 + 50\n",
    "#     learning_rate = argsDict[\"learning_rate\"] * 0.02 + 0.05\n",
    "#     subsample = argsDict[\"subsample\"] * 0.1 + 0.7\n",
    "#     min_child_weight = argsDict[\"min_child_weight\"]+1\n",
    "#     print(\"max_depth:\" + str(max_depth))\n",
    "#     print(\"n_estimator:\" + str(n_estimators)) \n",
    "#     print(\"learning_rate:\" + str(learning_rate)) \n",
    "#     print(\"subsample:\" + str(subsample)) \n",
    "#     print(\"min_child_weight:\" + str(min_child_weight)) \n",
    "#     global attr_train,label_train\n",
    "\n",
    "#     gbm = xgb.XBGRegressor(nthread=4,    #进程数\n",
    "#                             max_depth=max_depth,  #最大深度\n",
    "#                             n_estimators=n_estimators,   #树的数量\n",
    "#                             learning_rate=learning_rate, #学习率\n",
    "#                             subsample=subsample,      #采样数\n",
    "#                             min_child_weight=min_child_weight,   #孩子数\n",
    "#                             max_delta_step = 10,  #10步不降则停止\n",
    "#                             objective=\"reg:linear\")\n",
    "\n",
    "#     metric = cross_val_score(gbm, X_train,y_train,cv=5,scoring=\"r2\").mean()\n",
    "#     print(\"metric:\", metric)\n",
    "#     return -metric\n",
    "\n",
    "# space = {\"max_depth\":hp.randint(\"max_depth\",15),\n",
    "#          \"n_estimators\":hp.randint(\"n_estimators\",10),  #[0,1,2,3,4,5] -> [50,]\n",
    "#          \"learning_rate\":hp.randint(\"learning_rate\",6),  #[0,1,2,3,4,5] -> 0.05,0.06\n",
    "#          \"subsample\":hp.randint(\"subsample\",4),#[0,1,2,3] -> [0.7,0.8,0.9,1.0]\n",
    "#          \"min_child_weight\":hp.randint(\"min_child_weight\",5), #\n",
    "#         }\n",
    "# algo = partial(tpe.suggest,n_startup_jobs=1)\n",
    "# best = fmin(GBM,space,algo=algo,max_evals=4)\n",
    "\n",
    "# print(\"best:\",best)\n",
    "# print(\"GBM(best)\", GBM(best))"
   ]
  },
  {
   "cell_type": "code",
   "execution_count": null,
   "metadata": {},
   "outputs": [],
   "source": []
  }
 ],
 "metadata": {
  "kernelspec": {
   "display_name": "Python 3",
   "language": "python",
   "name": "python3"
  },
  "language_info": {
   "codemirror_mode": {
    "name": "ipython",
    "version": 3
   },
   "file_extension": ".py",
   "mimetype": "text/x-python",
   "name": "python",
   "nbconvert_exporter": "python",
   "pygments_lexer": "ipython3",
   "version": "3.6.5"
  }
 },
 "nbformat": 4,
 "nbformat_minor": 2
}
