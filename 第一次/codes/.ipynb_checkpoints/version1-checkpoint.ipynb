{
 "cells": [
  {
   "cell_type": "code",
   "execution_count": 1,
   "metadata": {},
   "outputs": [],
   "source": [
    "# ddff.columns= ['heat_value', 'new_add_heat_value','comment_number','new_add_comment_number','favorite_number','new_add_favorite_number',\n",
    "#                'dislike_number','new_add_dislike_number','scoring','evaluation number per hour','aiqiyi play index this day','time_interval',\n",
    "#                'bachnxu','guojing','panwenjie','zhuruibin','tangshunfeng','ganzhiwen','xueshao','zhuhuilin','zhujiaqian','huzhengbin','zhangwei',\n",
    "#                'liuyang','zhanghao','liwei','wangwei','zhanglei','fengzhimo','zhangtao','is_weekday','tuiguang-VIP','tuiguang-None','tuiguang-wangda',\n",
    "#                'week_monday', 'week_tuesday', 'week_wednesday', 'week_thursday','week_friday', 'week_saturday', 'week_sunday','tuiguang_a','tuiguang_b',\n",
    "#                'tuiguang_c','time_partition_0', 'time_partition_1', 'time_partition_2',\n",
    "#                'hour00', 'hour01', 'hour02', 'hour03', 'hour04', 'hour05', 'hour06',\n",
    "#                'hour07', 'hour08', 'hour09', 'hour10', 'hour11', 'hour12', 'hour13',\n",
    "#                'hour14', 'hour15', 'hour16', 'hour17', 'hour18', 'hour19', 'hour20',\n",
    "#                'hour21', 'hour22', 'hour23', 'heat_value_window_size_6']"
   ]
  },
  {
   "cell_type": "markdown",
   "metadata": {},
   "source": [
    "### 任务：预测某部电影在未来某个时间点的“新增点击量”\n",
    "### 分析：\n",
    "### 1. 因为任务问题是要基于某部电影的历史数据来预测未来某一时间点这部电影的新增点击量，所以电影本身的特征相对于趋势性的特征来说，影响度会差一些，所以例如\"影片上线时间\"，\"导演\"，\"编剧\"，\"制片\"，\"美术\"，\"主演\"等特征先不考虑；而且如果都考虑的话，特征会过于稀疏；\n",
    "### 2. "
   ]
  },
  {
   "cell_type": "markdown",
   "metadata": {},
   "source": [
    "### 1.读取数据；加字段名；查看数据形状：827565行 x 31列"
   ]
  },
  {
   "cell_type": "code",
   "execution_count": 10,
   "metadata": {},
   "outputs": [],
   "source": [
    "import pandas as pd\n",
    "import numpy as np\n",
    "import calendar\n",
    "import datetime\n",
    "# from datetime import datetime\n",
    "from sklearn.preprocessing import OneHotEncoder\n",
    "import requests\n",
    "\n",
    "import matplotlib.pyplot as plt\n",
    "%matplotlib inline"
   ]
  },
  {
   "cell_type": "code",
   "execution_count": 77,
   "metadata": {},
   "outputs": [
    {
     "name": "stderr",
     "output_type": "stream",
     "text": [
      "/home/wujiaocan/anaconda3/lib/python3.6/site-packages/ipykernel_launcher.py:1: ParserWarning: Falling back to the 'python' engine because the 'c' engine does not support regex separators (separators > 1 char and different from '\\s+' are interpreted as regex); you can avoid this warning by specifying engine='python'.\n",
      "  \"\"\"Entry point for launching an IPython kernel.\n"
     ]
    }
   ],
   "source": [
    "original_df = pd.read_csv(\"./data/filter_time_data.txt\", sep='\\t\\t', header=None, encoding='utf-8')"
   ]
  },
  {
   "cell_type": "code",
   "execution_count": 63,
   "metadata": {},
   "outputs": [],
   "source": [
    "# original_df.columns = ['电影ID', '时间', '当前热度值', '新增热度值', '当前点击量', '新增点击量', '当前评论数', '新增评论数', '当前点赞数', '新增点赞数',\n",
    "#                            '当前踩数', '新增踩数', '当前评分数', '推广位', '影片推广位等级', '当前小时弹幕数', '当前小时新增弹幕数', '当前小时评分人数',\n",
    "#                            '当前小时新增评分人数', '当前小时五星评分人数', '当前小时四星评分人数', '当前小时三星评分人数', '当前小时二星评分人数',\n",
    "#                            '当前小时一星评分人数', '当日爱奇艺播放指数', '影片上线时间', '导演', '编剧', '制片', '美术', '主演']"
   ]
  },
  {
   "cell_type": "code",
   "execution_count": 24,
   "metadata": {},
   "outputs": [
    {
     "data": {
      "text/plain": [
       "(827565, 31)"
      ]
     },
     "execution_count": 24,
     "metadata": {},
     "output_type": "execute_result"
    }
   ],
   "source": [
    "# 827565行 * 31列\n",
    "df.shape"
   ]
  },
  {
   "cell_type": "markdown",
   "metadata": {},
   "source": [
    "### 2. 数据探索"
   ]
  },
  {
   "cell_type": "markdown",
   "metadata": {},
   "source": [
    "#### 2.1 导演 编剧  制片  美术  主演  这5个字段有缺失值"
   ]
  },
  {
   "cell_type": "code",
   "execution_count": 102,
   "metadata": {},
   "outputs": [],
   "source": [
    "# 哪一列存在缺失值\n",
    "# df.isnull().any()"
   ]
  },
  {
   "cell_type": "code",
   "execution_count": 108,
   "metadata": {
    "scrolled": false
   },
   "outputs": [],
   "source": [
    "# 查看每一列共有多少行是有值的\n",
    "# df.info()"
   ]
  },
  {
   "cell_type": "code",
   "execution_count": 28,
   "metadata": {},
   "outputs": [
    {
     "data": {
      "text/plain": [
       "美术            826080\n",
       "编剧             99977\n",
       "制片             67313\n",
       "导演             34151\n",
       "主演             30191\n",
       "当前评论数              0\n",
       "当前踩数               0\n",
       "新增点赞数              0\n",
       "当前点赞数              0\n",
       "新增评论数              0\n",
       "当前点击量              0\n",
       "新增点击量              0\n",
       "当前评分数              0\n",
       "新增热度值              0\n",
       "当前热度值              0\n",
       "时间                 0\n",
       "新增踩数               0\n",
       "当前小时弹幕数            0\n",
       "推广位                0\n",
       "影片推广位等级            0\n",
       "当前小时新增弹幕数          0\n",
       "当前小时评分人数           0\n",
       "当前小时新增评分人数         0\n",
       "当前小时五星评分人数         0\n",
       "当前小时四星评分人数         0\n",
       "当前小时三星评分人数         0\n",
       "当前小时二星评分人数         0\n",
       "当前小时一星评分人数         0\n",
       "当日爱奇艺播放指数          0\n",
       "影片上线时间             0\n",
       "电影ID               0\n",
       "dtype: int64"
      ]
     },
     "execution_count": 28,
     "metadata": {},
     "output_type": "execute_result"
    }
   ],
   "source": [
    "# 列名按缺失值的多少降序排列\n",
    "df.isnull().sum().sort_values(ascending=False) "
   ]
  },
  {
   "cell_type": "markdown",
   "metadata": {},
   "source": [
    "#### 2.1.1 删除特征\"美术\"，缺失了99.8%的特征；删除影片自身的特征"
   ]
  },
  {
   "cell_type": "code",
   "execution_count": 29,
   "metadata": {},
   "outputs": [],
   "source": [
    "# 826080/827565 = 0.9982055790179624\n",
    "del df['美术']"
   ]
  },
  {
   "cell_type": "code",
   "execution_count": 39,
   "metadata": {},
   "outputs": [],
   "source": [
    "del df['影片上线时间']\n",
    "del df['导演']"
   ]
  },
  {
   "cell_type": "code",
   "execution_count": 40,
   "metadata": {},
   "outputs": [],
   "source": [
    "del df['制片']\n",
    "del df['编剧']\n",
    "del df['主演']"
   ]
  },
  {
   "cell_type": "code",
   "execution_count": 48,
   "metadata": {},
   "outputs": [],
   "source": [
    "del df['影片推广位等级']"
   ]
  },
  {
   "cell_type": "markdown",
   "metadata": {},
   "source": [
    "#### 2.1.2 特征\"时间\"为时间格式，只需要保留时刻时间，日期时间可以舍弃，因为新预测的样本来自未来的日期，而且不是重要特征。"
   ]
  },
  {
   "cell_type": "code",
   "execution_count": 67,
   "metadata": {},
   "outputs": [],
   "source": [
    "# 时间格式为日期+时间戳，将特征“时间”转成新的特征“hour”\n",
    "def get_date(x):\n",
    "    return x.split()[0]\n",
    "\n",
    "def get_hour(x):\n",
    "    return x.split()[1].split(\":\")[0]"
   ]
  },
  {
   "cell_type": "code",
   "execution_count": 22,
   "metadata": {},
   "outputs": [],
   "source": [
    "original_df[\"date\"] = original_df[\"时间\"].apply(get_date)"
   ]
  },
  {
   "cell_type": "code",
   "execution_count": 69,
   "metadata": {},
   "outputs": [],
   "source": [
    "original_df[\"hour\"] = original_df[\"时间\"].apply(get_hour)"
   ]
  },
  {
   "cell_type": "code",
   "execution_count": 33,
   "metadata": {},
   "outputs": [],
   "source": [
    "# 补充新特征\"weekday\"，日期对应的星期数\n",
    "def get_weekday(x):\n",
    "    dateString = x.split()[0]\n",
    "    week_day = datetime.strptime(dateString, \"%Y-%m-%d\").weekday()\n",
    "    return calendar.day_name[week_day]"
   ]
  },
  {
   "cell_type": "code",
   "execution_count": 34,
   "metadata": {},
   "outputs": [],
   "source": [
    "df['weekday'] = df['时间'].apply(get_weekday)"
   ]
  },
  {
   "cell_type": "code",
   "execution_count": 35,
   "metadata": {},
   "outputs": [],
   "source": [
    "# 判断是否是工作日,是为1，不是为0。\n",
    "def is_weekday(day):\n",
    "    if day == \"Saturday\" or day == \"Sunday\":\n",
    "        return 0\n",
    "    else:\n",
    "        return 1"
   ]
  },
  {
   "cell_type": "code",
   "execution_count": 36,
   "metadata": {},
   "outputs": [],
   "source": [
    "df['is_weekday'] = df['weekday'].apply(is_weekday)"
   ]
  },
  {
   "cell_type": "code",
   "execution_count": 46,
   "metadata": {},
   "outputs": [],
   "source": [
    "del df['时间']"
   ]
  },
  {
   "cell_type": "code",
   "execution_count": 41,
   "metadata": {},
   "outputs": [
    {
     "data": {
      "text/html": [
       "<div>\n",
       "<style scoped>\n",
       "    .dataframe tbody tr th:only-of-type {\n",
       "        vertical-align: middle;\n",
       "    }\n",
       "\n",
       "    .dataframe tbody tr th {\n",
       "        vertical-align: top;\n",
       "    }\n",
       "\n",
       "    .dataframe thead th {\n",
       "        text-align: right;\n",
       "    }\n",
       "</style>\n",
       "<table border=\"1\" class=\"dataframe\">\n",
       "  <thead>\n",
       "    <tr style=\"text-align: right;\">\n",
       "      <th></th>\n",
       "      <th>电影ID</th>\n",
       "      <th>时间</th>\n",
       "      <th>当前热度值</th>\n",
       "      <th>新增热度值</th>\n",
       "      <th>当前点击量</th>\n",
       "      <th>新增点击量</th>\n",
       "      <th>当前评论数</th>\n",
       "      <th>新增评论数</th>\n",
       "      <th>当前点赞数</th>\n",
       "      <th>新增点赞数</th>\n",
       "      <th>...</th>\n",
       "      <th>当前小时新增评分人数</th>\n",
       "      <th>当前小时五星评分人数</th>\n",
       "      <th>当前小时四星评分人数</th>\n",
       "      <th>当前小时三星评分人数</th>\n",
       "      <th>当前小时二星评分人数</th>\n",
       "      <th>当前小时一星评分人数</th>\n",
       "      <th>当日爱奇艺播放指数</th>\n",
       "      <th>hour</th>\n",
       "      <th>weekday</th>\n",
       "      <th>is_weekday</th>\n",
       "    </tr>\n",
       "  </thead>\n",
       "  <tbody>\n",
       "    <tr>\n",
       "      <th>0</th>\n",
       "      <td>4</td>\n",
       "      <td>2018-09-04 18:00:00</td>\n",
       "      <td>2813.0</td>\n",
       "      <td>-1.0</td>\n",
       "      <td>8986157.0</td>\n",
       "      <td>481.0</td>\n",
       "      <td>412.0</td>\n",
       "      <td>0.0</td>\n",
       "      <td>978.0</td>\n",
       "      <td>0.0</td>\n",
       "      <td>...</td>\n",
       "      <td>-111111111.0</td>\n",
       "      <td>-111111111.0</td>\n",
       "      <td>-111111111.0</td>\n",
       "      <td>-111111111.0</td>\n",
       "      <td>-111111111.0</td>\n",
       "      <td>-111111111.0</td>\n",
       "      <td>13938.0</td>\n",
       "      <td>18</td>\n",
       "      <td>Tuesday</td>\n",
       "      <td>1</td>\n",
       "    </tr>\n",
       "  </tbody>\n",
       "</table>\n",
       "<p>1 rows × 28 columns</p>\n",
       "</div>"
      ],
      "text/plain": [
       "   电影ID                   时间   当前热度值  新增热度值      当前点击量  新增点击量  当前评论数  新增评论数  \\\n",
       "0     4  2018-09-04 18:00:00  2813.0   -1.0  8986157.0  481.0  412.0    0.0   \n",
       "\n",
       "   当前点赞数  新增点赞数     ...       当前小时新增评分人数   当前小时五星评分人数   当前小时四星评分人数  \\\n",
       "0  978.0    0.0     ...     -111111111.0 -111111111.0 -111111111.0   \n",
       "\n",
       "    当前小时三星评分人数   当前小时二星评分人数   当前小时一星评分人数  当日爱奇艺播放指数  hour  weekday  is_weekday  \n",
       "0 -111111111.0 -111111111.0 -111111111.0    13938.0    18  Tuesday           1  \n",
       "\n",
       "[1 rows x 28 columns]"
      ]
     },
     "execution_count": 41,
     "metadata": {},
     "output_type": "execute_result"
    }
   ],
   "source": [
    "df.head(1)"
   ]
  },
  {
   "cell_type": "markdown",
   "metadata": {},
   "source": []
  },
  {
   "cell_type": "markdown",
   "metadata": {},
   "source": [
    "##### 由于训练集的数据为9月4号-9月25号，这段时间内节假日很少，故“是否是节假日”这个特征相比“是否是周末”影响会小很多，故先不考虑这个特征"
   ]
  },
  {
   "cell_type": "code",
   "execution_count": 244,
   "metadata": {},
   "outputs": [],
   "source": [
    "# 判断是否是节假日,是为1，不是为0。\n",
    "# def is_holiday(day):\n",
    "#     '''\n",
    "#         day格式为\"20181015\"\n",
    "#     '''\n",
    "#     day = day.split()[0].replace(\"-\",\"\")\n",
    "#     api = 'http://tool.bitefu.net/jiari/'\n",
    "#     params = {'d': day, 'apiserviceid': 1116}\n",
    "#     rep = requests.get(api, params)\n",
    "#     res = rep.text\n",
    "#     return 1 if res != \"0\" else 0"
   ]
  },
  {
   "cell_type": "code",
   "execution_count": null,
   "metadata": {},
   "outputs": [],
   "source": [
    "# df['is_holiday'] = df['时间'].apply(is_holiday)"
   ]
  },
  {
   "cell_type": "markdown",
   "metadata": {},
   "source": [
    "#### 2.1.3 特征\"推广位\"，有3个属性，99.9%属性为“无”，保留"
   ]
  },
  {
   "cell_type": "code",
   "execution_count": 61,
   "metadata": {},
   "outputs": [
    {
     "data": {
      "text/plain": [
       "array(['无', 'VIP-电影', '电影-网大'], dtype=object)"
      ]
     },
     "execution_count": 61,
     "metadata": {},
     "output_type": "execute_result"
    }
   ],
   "source": [
    "df[\"推广位\"].unique()"
   ]
  },
  {
   "cell_type": "code",
   "execution_count": 65,
   "metadata": {},
   "outputs": [
    {
     "data": {
      "text/plain": [
       "3"
      ]
     },
     "execution_count": 65,
     "metadata": {},
     "output_type": "execute_result"
    }
   ],
   "source": [
    "df[df[\"推广位\"]==\"VIP-电影\"].shape[0]"
   ]
  },
  {
   "cell_type": "code",
   "execution_count": 66,
   "metadata": {},
   "outputs": [
    {
     "data": {
      "text/plain": [
       "144"
      ]
     },
     "execution_count": 66,
     "metadata": {},
     "output_type": "execute_result"
    }
   ],
   "source": [
    "df[df[\"推广位\"]==\"电影-网大\"].shape[0]"
   ]
  },
  {
   "cell_type": "code",
   "execution_count": 44,
   "metadata": {},
   "outputs": [],
   "source": [
    "del df['推广位']"
   ]
  },
  {
   "cell_type": "code",
   "execution_count": 177,
   "metadata": {},
   "outputs": [],
   "source": [
    "# df.head(1)"
   ]
  },
  {
   "cell_type": "markdown",
   "metadata": {},
   "source": [
    "#### 1.2.4 探索“新增点击量”在每周的大概趋势"
   ]
  },
  {
   "cell_type": "markdown",
   "metadata": {},
   "source": [
    "#### 新增特征“点击量新增百分比”，查看一周内某部影片的点击量的新增趋势\n",
    "#### 发现时间段[0点-10点]之间，新增点击量为负值或增幅很小\n",
    "#### 时间段[10点-20点]之间，新增点击量增幅开始慢慢上升\n",
    "#### 时间段[20点-24点]之间，新增点击量增幅最大，甚至达到一天内增幅最大值"
   ]
  },
  {
   "cell_type": "code",
   "execution_count": 178,
   "metadata": {},
   "outputs": [],
   "source": [
    "# original_df.head(1)"
   ]
  },
  {
   "cell_type": "code",
   "execution_count": 10,
   "metadata": {},
   "outputs": [],
   "source": [
    "original_df['点击量新增百分比'] = original_df['新增点击量'][1:] / original_df['当前点击量'][:-1]"
   ]
  },
  {
   "cell_type": "code",
   "execution_count": 11,
   "metadata": {},
   "outputs": [],
   "source": [
    "original_df['点击量新增百分比'] = original_df['点击量新增百分比'].fillna(0)"
   ]
  },
  {
   "cell_type": "code",
   "execution_count": 138,
   "metadata": {},
   "outputs": [],
   "source": [
    "# original_df.head(10)"
   ]
  },
  {
   "cell_type": "code",
   "execution_count": 1,
   "metadata": {},
   "outputs": [],
   "source": [
    "def get_movie_new_add_click_percent(date_range, movie_id):\n",
    "    weekday = []\n",
    "    for i in range(date_range):\n",
    "        weekday.append(original_df[(original_df['date']==i) & (original_df['电影ID']==movie_id)])\n",
    "    return weekday"
   ]
  },
  {
   "cell_type": "code",
   "execution_count": 3,
   "metadata": {},
   "outputs": [],
   "source": [
    "# get_movie_new_add_click_percent([\"2018-09-10\"])"
   ]
  },
  {
   "cell_type": "code",
   "execution_count": null,
   "metadata": {},
   "outputs": [],
   "source": [
    "import datetime\n",
    " \n",
    "def get_dateRange(beginDate, endDate):\n",
    "    dates = []\n",
    "    dt = datetime.datetime.strptime(beginDate, \"%Y-%m-%d\")\n",
    "    date = beginDate[:]\n",
    "    while date <= endDate:\n",
    "        dates.append(date)\n",
    "        dt = dt + datetime.timedelta(1)\n",
    "        date = dt.strftime(\"%Y-%m-%d\")\n",
    "    return dates"
   ]
  },
  {
   "cell_type": "code",
   "execution_count": null,
   "metadata": {},
   "outputs": [],
   "source": [
    "dateRange('2018-09-10', '2018-09-23')"
   ]
  },
  {
   "cell_type": "code",
   "execution_count": 148,
   "metadata": {},
   "outputs": [],
   "source": [
    "weekday1 = original_df[(original_df['date']==\"2018-09-10\") & (original_df['电影ID']==4)]\n",
    "weekday2 = original_df[(original_df['date']==\"2018-09-11\") & (original_df['电影ID']==4)]\n",
    "weekday3 = original_df[(original_df['date']==\"2018-09-12\") & (original_df['电影ID']==4)]\n",
    "weekday4 = original_df[(original_df['date']==\"2018-09-13\") & (original_df['电影ID']==4)]\n",
    "weekday5 = original_df[(original_df['date']==\"2018-09-14\") & (original_df['电影ID']==4)]\n",
    "weekday6 = original_df[(original_df['date']==\"2018-09-15\") & (original_df['电影ID']==4)]\n",
    "weekday7 = original_df[(original_df['date']==\"2018-09-16\") & (original_df['电影ID']==4)]"
   ]
  },
  {
   "cell_type": "code",
   "execution_count": 175,
   "metadata": {
    "scrolled": false
   },
   "outputs": [
    {
     "data": {
      "image/png": "[encoded data removed]",
      "text/plain": [
       "<Figure size 720x360 with 1 Axes>"
      ]
     },
     "metadata": {},
     "output_type": "display_data"
    }
   ],
   "source": [
    "plt.figure(figsize=(10,5))\n",
    "# fig, (ax1, ax2) = plt.subplots(1,2,sharex=True,sharey=True)\n",
    "# f, ((ax11, ax12), (ax13, ax14)) = plt.subplots(2, 2, sharex=True, sharey=True)\n",
    "\n",
    "y1 = weekday1['点击量新增百分比'].tolist()\n",
    "y2 = weekday2['点击量新增百分比'].tolist()\n",
    "y3 = weekday3['点击量新增百分比'].tolist()\n",
    "y4 = weekday4['点击量新增百分比'].tolist()\n",
    "y5 = weekday5['点击量新增百分比'].tolist()\n",
    "y6 = weekday6['点击量新增百分比'].tolist()\n",
    "y7 = weekday7['点击量新增百分比'].tolist()\n",
    "\n",
    "l1, = plt.plot(y1,'-o',c='green')\n",
    "l2, = plt.plot(y2,'-o',c='red')\n",
    "l3, = plt.plot(y3,'-o',c='blue')\n",
    "l4, = plt.plot(y4,'-o',c='pink')\n",
    "l5, = plt.plot(y5,'-o',c='purple')\n",
    "l6, = plt.plot(y6,'-o',c='black')\n",
    "l7, = plt.plot(y7,'-o',c='yellow')\n",
    "\n",
    "\n",
    "plt.title('new add click trend of movie 4 during one week(2018/9/10-2018/9/16)')\n",
    "plt.xlabel('hour')\n",
    "plt.ylabel('new_add_click')\n",
    "plt.legend((l1, l2, l3, l4, l5, l6, l7), ('monday', 'tuesday','wendsday','tuesday','friday','saturday','sunday'))\n",
    "plt.ylim((-0.0005, 0.0005))\n",
    "\n",
    "plt.show()"
   ]
  },
  {
   "cell_type": "code",
   "execution_count": 143,
   "metadata": {},
   "outputs": [],
   "source": [
    "weekday1 = original_df[(original_df['date']==\"2018-09-10\") & (original_df['电影ID']==3623)]\n",
    "weekday2 = original_df[(original_df['date']==\"2018-09-11\") & (original_df['电影ID']==3623)]\n",
    "weekday3 = original_df[(original_df['date']==\"2018-09-12\") & (original_df['电影ID']==3623)]\n",
    "weekday4 = original_df[(original_df['date']==\"2018-09-13\") & (original_df['电影ID']==3623)]\n",
    "weekday5 = original_df[(original_df['date']==\"2018-09-14\") & (original_df['电影ID']==3623)]\n",
    "weekday6 = original_df[(original_df['date']==\"2018-09-15\") & (original_df['电影ID']==3623)]\n",
    "weekday7 = original_df[(original_df['date']==\"2018-09-16\") & (original_df['电影ID']==3623)]"
   ]
  },
  {
   "cell_type": "code",
   "execution_count": 160,
   "metadata": {},
   "outputs": [
    {
     "data": {
      "image/png": "[encoded data removed]",
      "text/plain": [
       "<Figure size 720x360 with 1 Axes>"
      ]
     },
     "metadata": {},
     "output_type": "display_data"
    }
   ],
   "source": [
    "plt.figure(figsize=(10,5))\n",
    "\n",
    "y1 = weekday1['点击量新增百分比'].tolist()\n",
    "y2 = weekday2['点击量新增百分比'].tolist()\n",
    "y3 = weekday3['点击量新增百分比'].tolist()\n",
    "y4 = weekday4['点击量新增百分比'].tolist()\n",
    "y5 = weekday5['点击量新增百分比'].tolist()\n",
    "y6 = weekday6['点击量新增百分比'].tolist()\n",
    "y7 = weekday7['点击量新增百分比'].tolist()\n",
    "\n",
    "l1, = plt.plot(y1,'-o',c='green')\n",
    "l2, = plt.plot(y2,'-o',c='red')\n",
    "l3, = plt.plot(y3,'-o',c='blue')\n",
    "l4, = plt.plot(y4,'-o',c='pink')\n",
    "l5, = plt.plot(y5,'-o',c='purple')\n",
    "l6, = plt.plot(y6,'-o',c='black')\n",
    "l7, = plt.plot(y7,'-o',c='yellow')\n",
    "\n",
    "plt.title('new add click trend of movie 3623 during one week(2018/9/10-2018/9/16)')\n",
    "plt.xlabel('hour')\n",
    "plt.ylabel('new_add_click')\n",
    "plt.legend((l1, l2, l3, l4, l5, l6, l7), ('monday', 'tuesday','wendsday','tuesday','friday','saturday','sunday'))\n",
    "\n",
    "plt.ylim((-0.0005, 0.0005))\n",
    "\n",
    "plt.show()"
   ]
  },
  {
   "cell_type": "code",
   "execution_count": 163,
   "metadata": {},
   "outputs": [],
   "source": [
    "weekday1 = original_df[(original_df['date']==\"2018-09-17\") & (original_df['电影ID']==4)]\n",
    "weekday2 = original_df[(original_df['date']==\"2018-09-18\") & (original_df['电影ID']==4)]\n",
    "weekday3 = original_df[(original_df['date']==\"2018-09-19\") & (original_df['电影ID']==4)]\n",
    "weekday4 = original_df[(original_df['date']==\"2018-09-20\") & (original_df['电影ID']==4)]\n",
    "weekday5 = original_df[(original_df['date']==\"2018-09-21\") & (original_df['电影ID']==4)]\n",
    "weekday6 = original_df[(original_df['date']==\"2018-09-22\") & (original_df['电影ID']==4)]\n",
    "weekday7 = original_df[(original_df['date']==\"2018-09-23\") & (original_df['电影ID']==4)]"
   ]
  },
  {
   "cell_type": "code",
   "execution_count": 166,
   "metadata": {},
   "outputs": [
    {
     "data": {
      "image/png": "[encoded data removed]",
      "text/plain": [
       "<Figure size 720x360 with 1 Axes>"
      ]
     },
     "metadata": {},
     "output_type": "display_data"
    }
   ],
   "source": [
    "plt.figure(figsize=(10,5))\n",
    "\n",
    "y1 = weekday1['点击量新增百分比'].tolist()\n",
    "y2 = weekday2['点击量新增百分比'].tolist()\n",
    "y3 = weekday3['点击量新增百分比'].tolist()\n",
    "y4 = weekday4['点击量新增百分比'].tolist()\n",
    "y5 = weekday5['点击量新增百分比'].tolist()\n",
    "y6 = weekday6['点击量新增百分比'].tolist()\n",
    "y7 = weekday7['点击量新增百分比'].tolist()\n",
    "\n",
    "l1, = plt.plot(y1,'-o',c='green')\n",
    "l2, = plt.plot(y2,'-o',c='red')\n",
    "l3, = plt.plot(y3,'-o',c='blue')\n",
    "l4, = plt.plot(y4,'-o',c='pink')\n",
    "l5, = plt.plot(y5,'-o',c='purple')\n",
    "l6, = plt.plot(y6,'-o',c='black')\n",
    "l7, = plt.plot(y7,'-o',c='yellow')\n",
    "\n",
    "plt.title('new add click trend of movie 4 during one week(2018/9/17-2018/9/23)')\n",
    "plt.xlabel('hour')\n",
    "plt.ylabel('new_add_click')\n",
    "plt.legend((l1, l2, l3, l4, l5, l6, l7), ('monday', 'tuesday','wendsday','tuesday','friday','saturday','sunday'))\n",
    "\n",
    "plt.ylim((-0.0005, 0.0005))\n",
    "\n",
    "plt.show()"
   ]
  },
  {
   "cell_type": "code",
   "execution_count": 167,
   "metadata": {},
   "outputs": [],
   "source": [
    "weekday1 = original_df[(original_df['date']==\"2018-09-17\") & (original_df['电影ID']==3623)]\n",
    "weekday2 = original_df[(original_df['date']==\"2018-09-18\") & (original_df['电影ID']==3623)]\n",
    "weekday3 = original_df[(original_df['date']==\"2018-09-19\") & (original_df['电影ID']==3623)]\n",
    "weekday4 = original_df[(original_df['date']==\"2018-09-20\") & (original_df['电影ID']==3623)]\n",
    "weekday5 = original_df[(original_df['date']==\"2018-09-21\") & (original_df['电影ID']==3623)]\n",
    "weekday6 = original_df[(original_df['date']==\"2018-09-22\") & (original_df['电影ID']==3623)]\n",
    "weekday7 = original_df[(original_df['date']==\"2018-09-23\") & (original_df['电影ID']==3623)]"
   ]
  },
  {
   "cell_type": "code",
   "execution_count": 168,
   "metadata": {},
   "outputs": [
    {
     "data": {
      "image/png": "[encoded data removed]",
      "text/plain": [
       "<Figure size 720x360 with 1 Axes>"
      ]
     },
     "metadata": {},
     "output_type": "display_data"
    }
   ],
   "source": [
    "plt.figure(figsize=(10,5))\n",
    "\n",
    "y1 = weekday1['点击量新增百分比'].tolist()\n",
    "y2 = weekday2['点击量新增百分比'].tolist()\n",
    "y3 = weekday3['点击量新增百分比'].tolist()\n",
    "y4 = weekday4['点击量新增百分比'].tolist()\n",
    "y5 = weekday5['点击量新增百分比'].tolist()\n",
    "y6 = weekday6['点击量新增百分比'].tolist()\n",
    "y7 = weekday7['点击量新增百分比'].tolist()\n",
    "\n",
    "l1, = plt.plot(y1,'-o',c='green')\n",
    "l2, = plt.plot(y2,'-o',c='red')\n",
    "l3, = plt.plot(y3,'-o',c='blue')\n",
    "l4, = plt.plot(y4,'-o',c='pink')\n",
    "l5, = plt.plot(y5,'-o',c='purple')\n",
    "l6, = plt.plot(y6,'-o',c='black')\n",
    "l7, = plt.plot(y7,'-o',c='yellow')\n",
    "\n",
    "plt.title('new add click trend of movie 3623 during one week(2018/9/17-2018/9/23)')\n",
    "plt.xlabel('hour')\n",
    "plt.ylabel('new_add_click')\n",
    "plt.legend((l1, l2, l3, l4, l5, l6, l7), ('monday', 'tuesday','wendsday','tuesday','friday','saturday','sunday'))\n",
    "\n",
    "plt.ylim((-0.0005, 0.0005))\n",
    "\n",
    "plt.show()"
   ]
  },
  {
   "cell_type": "markdown",
   "metadata": {},
   "source": [
    "#### 新增时间区间特征"
   ]
  },
  {
   "cell_type": "code",
   "execution_count": 221,
   "metadata": {},
   "outputs": [],
   "source": [
    "def get_time_interval(x):\n",
    "    x = int(x)\n",
    "    if x in range(1,11):\n",
    "        return 0\n",
    "    if x in range(11,21):\n",
    "        return 1\n",
    "    else:\n",
    "        return 2"
   ]
  },
  {
   "cell_type": "code",
   "execution_count": 222,
   "metadata": {},
   "outputs": [
    {
     "data": {
      "text/plain": [
       "1"
      ]
     },
     "execution_count": 222,
     "metadata": {},
     "output_type": "execute_result"
    }
   ],
   "source": [
    "get_time_interval(12)"
   ]
  },
  {
   "cell_type": "code",
   "execution_count": 223,
   "metadata": {},
   "outputs": [],
   "source": [
    "df['time_interval'] = df['hour'].apply(get_time_interval)"
   ]
  },
  {
   "cell_type": "code",
   "execution_count": 226,
   "metadata": {},
   "outputs": [],
   "source": [
    "# df.head(10)"
   ]
  },
  {
   "cell_type": "code",
   "execution_count": 225,
   "metadata": {},
   "outputs": [
    {
     "data": {
      "text/html": [
       "<div>\n",
       "<style scoped>\n",
       "    .dataframe tbody tr th:only-of-type {\n",
       "        vertical-align: middle;\n",
       "    }\n",
       "\n",
       "    .dataframe tbody tr th {\n",
       "        vertical-align: top;\n",
       "    }\n",
       "\n",
       "    .dataframe thead th {\n",
       "        text-align: right;\n",
       "    }\n",
       "</style>\n",
       "<table border=\"1\" class=\"dataframe\">\n",
       "  <thead>\n",
       "    <tr style=\"text-align: right;\">\n",
       "      <th></th>\n",
       "      <th>电影ID</th>\n",
       "      <th>时间</th>\n",
       "      <th>当前热度值</th>\n",
       "      <th>新增热度值</th>\n",
       "      <th>当前点击量</th>\n",
       "      <th>新增点击量</th>\n",
       "      <th>当前评论数</th>\n",
       "      <th>新增评论数</th>\n",
       "      <th>当前点赞数</th>\n",
       "      <th>新增点赞数</th>\n",
       "      <th>...</th>\n",
       "      <th>当前小时一星评分人数</th>\n",
       "      <th>当日爱奇艺播放指数</th>\n",
       "      <th>影片上线时间</th>\n",
       "      <th>导演</th>\n",
       "      <th>编剧</th>\n",
       "      <th>制片</th>\n",
       "      <th>美术</th>\n",
       "      <th>主演</th>\n",
       "      <th>date</th>\n",
       "      <th>点击量新增百分比</th>\n",
       "    </tr>\n",
       "  </thead>\n",
       "  <tbody>\n",
       "    <tr>\n",
       "      <th>0</th>\n",
       "      <td>4</td>\n",
       "      <td>2018-09-04 18:00:00</td>\n",
       "      <td>2813.0</td>\n",
       "      <td>-1.0</td>\n",
       "      <td>8986157.0</td>\n",
       "      <td>481.0</td>\n",
       "      <td>412.0</td>\n",
       "      <td>0.0</td>\n",
       "      <td>978.0</td>\n",
       "      <td>0.0</td>\n",
       "      <td>...</td>\n",
       "      <td>-111111111.0</td>\n",
       "      <td>13938.0</td>\n",
       "      <td>2017-03-17 18:50:39</td>\n",
       "      <td>喇英</td>\n",
       "      <td>喇英,翁颖宗</td>\n",
       "      <td>余泳妮</td>\n",
       "      <td>NaN</td>\n",
       "      <td>刘京永,李司隆,杨凡,喇英</td>\n",
       "      <td>2018-09-04</td>\n",
       "      <td>0.000000</td>\n",
       "    </tr>\n",
       "    <tr>\n",
       "      <th>1</th>\n",
       "      <td>4</td>\n",
       "      <td>2018-09-04 19:00:00</td>\n",
       "      <td>2811.0</td>\n",
       "      <td>-2.0</td>\n",
       "      <td>8987183.0</td>\n",
       "      <td>1026.0</td>\n",
       "      <td>412.0</td>\n",
       "      <td>0.0</td>\n",
       "      <td>978.0</td>\n",
       "      <td>0.0</td>\n",
       "      <td>...</td>\n",
       "      <td>-111111111.0</td>\n",
       "      <td>13938.0</td>\n",
       "      <td>2017-03-17 18:50:39</td>\n",
       "      <td>喇英</td>\n",
       "      <td>喇英,翁颖宗</td>\n",
       "      <td>余泳妮</td>\n",
       "      <td>NaN</td>\n",
       "      <td>刘京永,李司隆,杨凡,喇英</td>\n",
       "      <td>2018-09-04</td>\n",
       "      <td>0.000114</td>\n",
       "    </tr>\n",
       "  </tbody>\n",
       "</table>\n",
       "<p>2 rows × 33 columns</p>\n",
       "</div>"
      ],
      "text/plain": [
       "   电影ID                   时间   当前热度值  新增热度值      当前点击量   新增点击量  当前评论数  新增评论数  \\\n",
       "0     4  2018-09-04 18:00:00  2813.0   -1.0  8986157.0   481.0  412.0    0.0   \n",
       "1     4  2018-09-04 19:00:00  2811.0   -2.0  8987183.0  1026.0  412.0    0.0   \n",
       "\n",
       "   当前点赞数  新增点赞数    ...      当前小时一星评分人数  当日爱奇艺播放指数               影片上线时间  导演  \\\n",
       "0  978.0    0.0    ...    -111111111.0    13938.0  2017-03-17 18:50:39  喇英   \n",
       "1  978.0    0.0    ...    -111111111.0    13938.0  2017-03-17 18:50:39  喇英   \n",
       "\n",
       "       编剧   制片   美术             主演        date  点击量新增百分比  \n",
       "0  喇英,翁颖宗  余泳妮  NaN  刘京永,李司隆,杨凡,喇英  2018-09-04  0.000000  \n",
       "1  喇英,翁颖宗  余泳妮  NaN  刘京永,李司隆,杨凡,喇英  2018-09-04  0.000114  \n",
       "\n",
       "[2 rows x 33 columns]"
      ]
     },
     "execution_count": 225,
     "metadata": {},
     "output_type": "execute_result"
    }
   ],
   "source": [
    "original_df.head(2)"
   ]
  },
  {
   "cell_type": "markdown",
   "metadata": {},
   "source": [
    "#### 1.2.5 探索新增xx值的百分比与“点击量新增百分比”之间的关系"
   ]
  },
  {
   "cell_type": "code",
   "execution_count": 8,
   "metadata": {},
   "outputs": [],
   "source": [
    "# 获取新增热度值百分比\n",
    "original_df['热度值新增百分比'] = original_df['新增热度值'][1:] / original_df['当前热度值'][:-1]\n",
    "# 获取当日爱奇艺播放指数百分比\n",
    "original_df['播放指数新增百分比'] = (original_df['当日爱奇艺播放指数'][1:] - original_df['当日爱奇艺播放指数'][:-1])/original_df['当日爱奇艺播放指数'][:-1]\n",
    "original_df['热度值新增百分比'] = original_df['热度值新增百分比'].fillna(0)\n",
    "original_df['播放指数新增百分比'] = original_df['播放指数新增百分比'].fillna(0)"
   ]
  },
  {
   "cell_type": "code",
   "execution_count": 38,
   "metadata": {},
   "outputs": [
    {
     "data": {
      "text/plain": [
       "Index(['电影ID', '时间', '当前热度值', '新增热度值', '当前点击量', '新增点击量', '当前评论数', '新增评论数',\n",
       "       '当前点赞数', '新增点赞数', '当前踩数', '新增踩数', '当前评分数', '推广位', '影片推广位等级', '当前小时弹幕数',\n",
       "       '当前小时新增弹幕数', '当前小时评分人数', '当前小时新增评分人数', '当前小时五星评分人数', '当前小时四星评分人数',\n",
       "       '当前小时三星评分人数', '当前小时二星评分人数', '当前小时一星评分人数', '当日爱奇艺播放指数', '影片上线时间', '导演',\n",
       "       '编剧', '制片', '美术', '主演', '热度值新增百分比', '播放指数新增百分比', '点击量新增百分比', 'date'],\n",
       "      dtype='object')"
      ]
     },
     "execution_count": 38,
     "metadata": {},
     "output_type": "execute_result"
    }
   ],
   "source": [
    "original_df.columns"
   ]
  },
  {
   "cell_type": "markdown",
   "metadata": {},
   "source": [
    "##### 1.2.5.1 热度值新增百分比 与 点击量新增百分比 之间关系"
   ]
  },
  {
   "cell_type": "code",
   "execution_count": 16,
   "metadata": {},
   "outputs": [],
   "source": [
    "# '热度值新增百分比'与“点击量新增百分比”之间的关系\n",
    "\n",
    "weekday11 = original_df[(original_df['date']==\"2018-09-10\") & (original_df['电影ID']==54062)]\n",
    "weekday22 = original_df[(original_df['date']==\"2018-09-11\") & (original_df['电影ID']==54062)]\n",
    "weekday33 = original_df[(original_df['date']==\"2018-09-12\") & (original_df['电影ID']==54062)]\n",
    "weekday44 = original_df[(original_df['date']==\"2018-09-13\") & (original_df['电影ID']==54062)]\n",
    "weekday55 = original_df[(original_df['date']==\"2018-09-14\") & (original_df['电影ID']==54062)]\n",
    "weekday66 = original_df[(original_df['date']==\"2018-09-15\") & (original_df['电影ID']==54062)]\n",
    "weekday77 = original_df[(original_df['date']==\"2018-09-16\") & (original_df['电影ID']==54062)]\n",
    "\n",
    "weekday1 = original_df[(original_df['date']==\"2018-09-17\") & (original_df['电影ID']==54062)]\n",
    "weekday2 = original_df[(original_df['date']==\"2018-09-18\") & (original_df['电影ID']==54062)]\n",
    "weekday3 = original_df[(original_df['date']==\"2018-09-19\") & (original_df['电影ID']==54062)]\n",
    "weekday4 = original_df[(original_df['date']==\"2018-09-20\") & (original_df['电影ID']==54062)]\n",
    "weekday5 = original_df[(original_df['date']==\"2018-09-21\") & (original_df['电影ID']==54062)]\n",
    "weekday6 = original_df[(original_df['date']==\"2018-09-22\") & (original_df['电影ID']==54062)]\n",
    "weekday7 = original_df[(original_df['date']==\"2018-09-23\") & (original_df['电影ID']==54062)]"
   ]
  },
  {
   "cell_type": "code",
   "execution_count": 17,
   "metadata": {},
   "outputs": [
    {
     "data": {
      "image/png": "[encoded data removed]",
      "text/plain": [
       "<Figure size 720x360 with 1 Axes>"
      ]
     },
     "metadata": {},
     "output_type": "display_data"
    }
   ],
   "source": [
    "plt.figure(figsize=(10,5))\n",
    "\n",
    "y11 = weekday11['点击量新增百分比'].tolist()\n",
    "y22 = weekday22['点击量新增百分比'].tolist()\n",
    "y33 = weekday33['点击量新增百分比'].tolist()\n",
    "y44 = weekday44['点击量新增百分比'].tolist()\n",
    "y55 = weekday55['点击量新增百分比'].tolist()\n",
    "y66 = weekday66['点击量新增百分比'].tolist()\n",
    "y77 = weekday77['点击量新增百分比'].tolist()\n",
    "y1 = weekday1['点击量新增百分比'].tolist()\n",
    "y2 = weekday2['点击量新增百分比'].tolist()\n",
    "y3 = weekday3['点击量新增百分比'].tolist()\n",
    "y4 = weekday4['点击量新增百分比'].tolist()\n",
    "y5 = weekday5['点击量新增百分比'].tolist()\n",
    "y6 = weekday6['点击量新增百分比'].tolist()\n",
    "y7 = weekday7['点击量新增百分比'].tolist()\n",
    "\n",
    "x11 = weekday11['热度值新增百分比'].tolist()\n",
    "x22 = weekday22['热度值新增百分比'].tolist()\n",
    "x33 = weekday33['热度值新增百分比'].tolist()\n",
    "x44 = weekday44['热度值新增百分比'].tolist()\n",
    "x55 = weekday55['热度值新增百分比'].tolist()\n",
    "x66 = weekday66['热度值新增百分比'].tolist()\n",
    "x77 = weekday77['热度值新增百分比'].tolist()\n",
    "x1 = weekday1['热度值新增百分比'].tolist()\n",
    "x2 = weekday2['热度值新增百分比'].tolist()\n",
    "x3 = weekday3['热度值新增百分比'].tolist()\n",
    "x4 = weekday4['热度值新增百分比'].tolist()\n",
    "x5 = weekday5['热度值新增百分比'].tolist()\n",
    "x6 = weekday6['热度值新增百分比'].tolist()\n",
    "x7 = weekday7['热度值新增百分比'].tolist()\n",
    "\n",
    "\n",
    "l11, = plt.plot(x11,y11,'-o')\n",
    "l22, = plt.plot(x22,y22,'-o')\n",
    "l33, = plt.plot(x33,y33,'-o')\n",
    "l44, = plt.plot(x44,y44,'-o')\n",
    "l55, = plt.plot(x55,y55,'-o')\n",
    "l66, = plt.plot(x66,y66,'-o')\n",
    "l77, = plt.plot(x77,y77,'-o')\n",
    "\n",
    "l1, = plt.plot(x1,y1,'-o',c='green')\n",
    "l2, = plt.plot(x2,y2,'-o',c='red')\n",
    "l3, = plt.plot(x3,y3,'-o',c='blue')\n",
    "l4, = plt.plot(x4,y4,'-o',c='pink')\n",
    "l5, = plt.plot(x5,y5,'-o',c='purple')\n",
    "l6, = plt.plot(x6,y6,'-o',c='black')\n",
    "l7, = plt.plot(x7,y7,'-o',c='yellow')\n",
    "\n",
    "# plt.title('new add click trend of movie 3623 during one week(2018/9/17-2018/9/23)')\n",
    "plt.xlabel('percent of new add heat value')\n",
    "plt.ylabel('percent of new add click')\n",
    "# plt.legend((l11,l22,l33,l44,l55,l66,l77,l1, l2, l3, l4, l5, l6, l7))\n",
    "\n",
    "plt.ylim((-0.00004, 0.000125))\n",
    "\n",
    "plt.show()"
   ]
  },
  {
   "cell_type": "code",
   "execution_count": 81,
   "metadata": {},
   "outputs": [],
   "source": [
    "weekday11 = original_df[(original_df['date']==\"2018-09-10\") & (original_df['电影ID']==49048)]\n",
    "weekday22 = original_df[(original_df['date']==\"2018-09-11\") & (original_df['电影ID']==49048)]\n",
    "weekday33 = original_df[(original_df['date']==\"2018-09-12\") & (original_df['电影ID']==49048)]\n",
    "weekday44 = original_df[(original_df['date']==\"2018-09-13\") & (original_df['电影ID']==49048)]\n",
    "weekday55 = original_df[(original_df['date']==\"2018-09-14\") & (original_df['电影ID']==49048)]\n",
    "weekday66 = original_df[(original_df['date']==\"2018-09-15\") & (original_df['电影ID']==49048)]\n",
    "weekday77 = original_df[(original_df['date']==\"2018-09-16\") & (original_df['电影ID']==49048)]\n",
    "\n",
    "weekday1 = original_df[(original_df['date']==\"2018-09-17\") & (original_df['电影ID']==49048)]\n",
    "weekday2 = original_df[(original_df['date']==\"2018-09-18\") & (original_df['电影ID']==49048)]\n",
    "weekday3 = original_df[(original_df['date']==\"2018-09-19\") & (original_df['电影ID']==49048)]\n",
    "weekday4 = original_df[(original_df['date']==\"2018-09-20\") & (original_df['电影ID']==49048)]\n",
    "weekday5 = original_df[(original_df['date']==\"2018-09-21\") & (original_df['电影ID']==49048)]\n",
    "weekday6 = original_df[(original_df['date']==\"2018-09-22\") & (original_df['电影ID']==49048)]\n",
    "weekday7 = original_df[(original_df['date']==\"2018-09-23\") & (original_df['电影ID']==49048)]"
   ]
  },
  {
   "cell_type": "code",
   "execution_count": 80,
   "metadata": {},
   "outputs": [
    {
     "data": {
      "image/png": "[encoded data removed]",
      "text/plain": [
       "<Figure size 720x360 with 1 Axes>"
      ]
     },
     "metadata": {},
     "output_type": "display_data"
    }
   ],
   "source": [
    "plt.figure(figsize=(10,5))\n",
    "\n",
    "y11 = weekday11['点击量新增百分比'].tolist()\n",
    "y22 = weekday22['点击量新增百分比'].tolist()\n",
    "y33 = weekday33['点击量新增百分比'].tolist()\n",
    "y44 = weekday44['点击量新增百分比'].tolist()\n",
    "y55 = weekday55['点击量新增百分比'].tolist()\n",
    "y66 = weekday66['点击量新增百分比'].tolist()\n",
    "y77 = weekday77['点击量新增百分比'].tolist()\n",
    "y1 = weekday1['点击量新增百分比'].tolist()\n",
    "y2 = weekday2['点击量新增百分比'].tolist()\n",
    "y3 = weekday3['点击量新增百分比'].tolist()\n",
    "y4 = weekday4['点击量新增百分比'].tolist()\n",
    "y5 = weekday5['点击量新增百分比'].tolist()\n",
    "y6 = weekday6['点击量新增百分比'].tolist()\n",
    "y7 = weekday7['点击量新增百分比'].tolist()\n",
    "\n",
    "x11 = weekday11['热度值新增百分比'].tolist()\n",
    "x22 = weekday22['热度值新增百分比'].tolist()\n",
    "x33 = weekday33['热度值新增百分比'].tolist()\n",
    "x44 = weekday44['热度值新增百分比'].tolist()\n",
    "x55 = weekday55['热度值新增百分比'].tolist()\n",
    "x66 = weekday66['热度值新增百分比'].tolist()\n",
    "x77 = weekday77['热度值新增百分比'].tolist()\n",
    "x1 = weekday1['热度值新增百分比'].tolist()\n",
    "x2 = weekday2['热度值新增百分比'].tolist()\n",
    "x3 = weekday3['热度值新增百分比'].tolist()\n",
    "x4 = weekday4['热度值新增百分比'].tolist()\n",
    "x5 = weekday5['热度值新增百分比'].tolist()\n",
    "x6 = weekday6['热度值新增百分比'].tolist()\n",
    "x7 = weekday7['热度值新增百分比'].tolist()\n",
    "\n",
    "\n",
    "l11, = plt.plot(x11,y11,'-o')\n",
    "l22, = plt.plot(x22,y22,'-o')\n",
    "l33, = plt.plot(x33,y33,'-o')\n",
    "l44, = plt.plot(x44,y44,'-o')\n",
    "l55, = plt.plot(x55,y55,'-o')\n",
    "l66, = plt.plot(x66,y66,'-o')\n",
    "l77, = plt.plot(x77,y77,'-o')\n",
    "\n",
    "l1, = plt.plot(x1,y1,'-o',c='green')\n",
    "l2, = plt.plot(x2,y2,'-o',c='red')\n",
    "l3, = plt.plot(x3,y3,'-o',c='blue')\n",
    "l4, = plt.plot(x4,y4,'-o',c='pink')\n",
    "l5, = plt.plot(x5,y5,'-o',c='purple')\n",
    "l6, = plt.plot(x6,y6,'-o',c='black')\n",
    "l7, = plt.plot(x7,y7,'-o',c='yellow')\n",
    "\n",
    "# plt.title('new add click trend of movie 3623 during one week(2018/9/17-2018/9/23)')\n",
    "plt.title('data from movie 20396 during one week(2018/9/10-2018/9/23)')\n",
    "plt.xlabel('percent of new add heat value')\n",
    "plt.ylabel('percent of new add click')\n",
    "# plt.legend((l11,l22,l33,l44,l55,l66,l77,l1, l2, l3, l4, l5, l6, l7))\n",
    "\n",
    "plt.ylim((-0.0002, 0.0007))\n",
    "\n",
    "plt.show()"
   ]
  },
  {
   "cell_type": "markdown",
   "metadata": {},
   "source": [
    "##### 1.2.5.2 '播放指数新增百分比'与“点击量新增百分比”之间的关系\n",
    "#####  发现随着时间推移，当日爱奇艺播放指数变幅很小，仅占0.009左右，从图上看，变幅在0附近，不直接影响“点击量新增百分比”。"
   ]
  },
  {
   "cell_type": "code",
   "execution_count": 83,
   "metadata": {},
   "outputs": [
    {
     "data": {
      "image/png": "[encoded data removed]",
      "text/plain": [
       "<Figure size 720x360 with 1 Axes>"
      ]
     },
     "metadata": {},
     "output_type": "display_data"
    }
   ],
   "source": [
    "# '播放指数新增百分比'与“点击量新增百分比”之间的关系\n",
    "\n",
    "plt.figure(figsize=(10,5))\n",
    "\n",
    "y11 = weekday11['点击量新增百分比'].tolist()\n",
    "y22 = weekday22['点击量新增百分比'].tolist()\n",
    "y33 = weekday33['点击量新增百分比'].tolist()\n",
    "y44 = weekday44['点击量新增百分比'].tolist()\n",
    "y55 = weekday55['点击量新增百分比'].tolist()\n",
    "y66 = weekday66['点击量新增百分比'].tolist()\n",
    "y77 = weekday77['点击量新增百分比'].tolist()\n",
    "y1 = weekday1['点击量新增百分比'].tolist()\n",
    "y2 = weekday2['点击量新增百分比'].tolist()\n",
    "y3 = weekday3['点击量新增百分比'].tolist()\n",
    "y4 = weekday4['点击量新增百分比'].tolist()\n",
    "y5 = weekday5['点击量新增百分比'].tolist()\n",
    "y6 = weekday6['点击量新增百分比'].tolist()\n",
    "y7 = weekday7['点击量新增百分比'].tolist()\n",
    "\n",
    "x11 = weekday11['播放指数新增百分比'].tolist()\n",
    "x22 = weekday22['播放指数新增百分比'].tolist()\n",
    "x33 = weekday33['播放指数新增百分比'].tolist()\n",
    "x44 = weekday44['播放指数新增百分比'].tolist()\n",
    "x55 = weekday55['播放指数新增百分比'].tolist()\n",
    "x66 = weekday66['播放指数新增百分比'].tolist()\n",
    "x77 = weekday77['播放指数新增百分比'].tolist()\n",
    "x1 = weekday1['播放指数新增百分比'].tolist()\n",
    "x2 = weekday2['播放指数新增百分比'].tolist()\n",
    "x3 = weekday3['播放指数新增百分比'].tolist()\n",
    "x4 = weekday4['播放指数新增百分比'].tolist()\n",
    "x5 = weekday5['播放指数新增百分比'].tolist()\n",
    "x6 = weekday6['播放指数新增百分比'].tolist()\n",
    "x7 = weekday7['播放指数新增百分比'].tolist()\n",
    "\n",
    "\n",
    "l11, = plt.plot(x11,y11,'-o')\n",
    "l22, = plt.plot(x22,y22,'-o')\n",
    "l33, = plt.plot(x33,y33,'-o')\n",
    "l44, = plt.plot(x44,y44,'-o')\n",
    "l55, = plt.plot(x55,y55,'-o')\n",
    "l66, = plt.plot(x66,y66,'-o')\n",
    "l77, = plt.plot(x77,y77,'-o')\n",
    "\n",
    "l1, = plt.plot(x1,y1,'-o',c='green')\n",
    "l2, = plt.plot(x2,y2,'-o',c='red')\n",
    "l3, = plt.plot(x3,y3,'-o',c='blue')\n",
    "l4, = plt.plot(x4,y4,'-o',c='pink')\n",
    "l5, = plt.plot(x5,y5,'-o',c='purple')\n",
    "l6, = plt.plot(x6,y6,'-o',c='black')\n",
    "l7, = plt.plot(x7,y7,'-o',c='yellow')\n",
    "\n",
    "plt.title('data from movie 49048 during one week(2018/9/10-2018/9/23)')\n",
    "plt.xlabel('percent of new add play index')\n",
    "plt.ylabel('percent of new add click')\n",
    "# plt.legend((l11,l22,l33,l44,l55,l66,l77,l1, l2, l3, l4, l5, l6, l7))\n",
    "\n",
    "plt.ylim((-0.0000000001, 0.0000000000125))\n",
    "plt.ylim((-0.00015, 0.00055))\n",
    "\n",
    "plt.show()"
   ]
  },
  {
   "cell_type": "code",
   "execution_count": 45,
   "metadata": {},
   "outputs": [],
   "source": [
    "diff = []\n",
    "for i,j in zip(original_df['当日爱奇艺播放指数'][1:].tolist(), original_df['当日爱奇艺播放指数'][:-1].tolist()):\n",
    "    diff.append(i-j)"
   ]
  },
  {
   "cell_type": "code",
   "execution_count": 56,
   "metadata": {},
   "outputs": [],
   "source": [
    "per = []\n",
    "for i, j in zip(diff, original_df['当日爱奇艺播放指数'][:-1]):\n",
    "    try:\n",
    "        per.append(i/j)\n",
    "    except Exception as e:\n",
    "        per.append(0)"
   ]
  },
  {
   "cell_type": "code",
   "execution_count": 57,
   "metadata": {},
   "outputs": [
    {
     "data": {
      "text/plain": [
       "827564"
      ]
     },
     "execution_count": 57,
     "metadata": {},
     "output_type": "execute_result"
    }
   ],
   "source": [
    "len(per)"
   ]
  },
  {
   "cell_type": "code",
   "execution_count": 58,
   "metadata": {},
   "outputs": [],
   "source": [
    "original_df['播放指数新增百分比'] = pd.DataFrame(per)"
   ]
  },
  {
   "cell_type": "code",
   "execution_count": 63,
   "metadata": {},
   "outputs": [
    {
     "data": {
      "text/plain": [
       "array([ 0.        , -0.21014493, -0.1515124 , ...,  0.8853377 ,\n",
       "       -0.33036326,         nan])"
      ]
     },
     "execution_count": 63,
     "metadata": {},
     "output_type": "execute_result"
    }
   ],
   "source": [
    "original_df['播放指数新增百分比'].unique()"
   ]
  },
  {
   "cell_type": "code",
   "execution_count": null,
   "metadata": {},
   "outputs": [],
   "source": []
  },
  {
   "cell_type": "code",
   "execution_count": null,
   "metadata": {},
   "outputs": [],
   "source": []
  },
  {
   "cell_type": "code",
   "execution_count": 25,
   "metadata": {},
   "outputs": [
    {
     "data": {
      "image/png": "[encoded data removed]",
      "text/plain": [
       "<Figure size 720x360 with 1 Axes>"
      ]
     },
     "metadata": {},
     "output_type": "display_data"
    }
   ],
   "source": [
    "plt.figure(figsize=(10,5))\n",
    "\n",
    "y11 = weekday11['点击量新增百分比'].tolist()\n",
    "y22 = weekday22['点击量新增百分比'].tolist()\n",
    "y33 = weekday33['点击量新增百分比'].tolist()\n",
    "y44 = weekday44['点击量新增百分比'].tolist()\n",
    "y55 = weekday55['点击量新增百分比'].tolist()\n",
    "y66 = weekday66['点击量新增百分比'].tolist()\n",
    "y77 = weekday77['点击量新增百分比'].tolist()\n",
    "y1 = weekday1['点击量新增百分比'].tolist()\n",
    "y2 = weekday2['点击量新增百分比'].tolist()\n",
    "y3 = weekday3['点击量新增百分比'].tolist()\n",
    "y4 = weekday4['点击量新增百分比'].tolist()\n",
    "y5 = weekday5['点击量新增百分比'].tolist()\n",
    "y6 = weekday6['点击量新增百分比'].tolist()\n",
    "y7 = weekday7['点击量新增百分比'].tolist()\n",
    "\n",
    "x11 = weekday11['播放指数新增百分比'].tolist()\n",
    "x22 = weekday22['播放指数新增百分比'].tolist()\n",
    "x33 = weekday33['播放指数新增百分比'].tolist()\n",
    "x44 = weekday44['播放指数新增百分比'].tolist()\n",
    "x55 = weekday55['播放指数新增百分比'].tolist()\n",
    "x66 = weekday66['播放指数新增百分比'].tolist()\n",
    "x77 = weekday77['播放指数新增百分比'].tolist()\n",
    "x1 = weekday1['播放指数新增百分比'].tolist()\n",
    "x2 = weekday2['播放指数新增百分比'].tolist()\n",
    "x3 = weekday3['播放指数新增百分比'].tolist()\n",
    "x4 = weekday4['播放指数新增百分比'].tolist()\n",
    "x5 = weekday5['播放指数新增百分比'].tolist()\n",
    "x6 = weekday6['播放指数新增百分比'].tolist()\n",
    "x7 = weekday7['播放指数新增百分比'].tolist()\n",
    "\n",
    "\n",
    "l11, = plt.plot(x11,y11,'-o')\n",
    "l22, = plt.plot(x22,y22,'-o')\n",
    "l33, = plt.plot(x33,y33,'-o')\n",
    "l44, = plt.plot(x44,y44,'-o')\n",
    "l55, = plt.plot(x55,y55,'-o')\n",
    "l66, = plt.plot(x66,y66,'-o')\n",
    "l77, = plt.plot(x77,y77,'-o')\n",
    "\n",
    "l1, = plt.plot(x1,y1,'-o',c='green')\n",
    "l2, = plt.plot(x2,y2,'-o',c='red')\n",
    "l3, = plt.plot(x3,y3,'-o',c='blue')\n",
    "l4, = plt.plot(x4,y4,'-o',c='pink')\n",
    "l5, = plt.plot(x5,y5,'-o',c='purple')\n",
    "l6, = plt.plot(x6,y6,'-o',c='black')\n",
    "l7, = plt.plot(x7,y7,'-o',c='yellow')\n",
    "\n",
    "# plt.title('new add click trend of movie 3623 during one week(2018/9/17-2018/9/23)')\n",
    "plt.xlabel('percent of new add play index')\n",
    "plt.ylabel('percent of new add click')\n",
    "# plt.legend((l11,l22,l33,l44,l55,l66,l77,l1, l2, l3, l4, l5, l6, l7))\n",
    "\n",
    "plt.xlim((-0.00000001, 0.00000001))\n",
    "plt.ylim((-0.0002, 0.0006))\n",
    "\n",
    "plt.show()"
   ]
  },
  {
   "cell_type": "markdown",
   "metadata": {},
   "source": [
    "#### 1.2.5.3  ①"
   ]
  },
  {
   "cell_type": "code",
   "execution_count": 487,
   "metadata": {},
   "outputs": [],
   "source": [
    "#### ① 当前时间 与 上映时间的差值 作为一个新的特征；\n",
    "#### ②（导演，演员等这些），我觉得可以分别统计一下导演、演员，截断掉一些低频的，把高频的设计为bool特征试试看。\n",
    "#### 统计时，按照电影ID来去个重，每个影片只统计一次。 导演、演员理论上对点击是有增益的。"
   ]
  },
  {
   "cell_type": "code",
   "execution_count": 518,
   "metadata": {},
   "outputs": [],
   "source": [
    "df['影片上线时间'] = original_df['影片上线时间']\n",
    "df['时间'] = original_df['时间']"
   ]
  },
  {
   "cell_type": "code",
   "execution_count": 512,
   "metadata": {},
   "outputs": [],
   "source": [
    "def get_time_interval(x, y):\n",
    "    '''\n",
    "        x:现在时间； y:影片上映时间；\n",
    "    '''\n",
    "    from dateutil.parser import parse\n",
    "    a = parse(x)\n",
    "    b = parse(y)\n",
    "    return (a-b).total_seconds()"
   ]
  },
  {
   "cell_type": "code",
   "execution_count": 524,
   "metadata": {},
   "outputs": [],
   "source": [
    "original_df['time_interval'] = original_df.apply(lambda row: get_time_interval(row['时间'], row['影片上线时间']), axis=1)"
   ]
  },
  {
   "cell_type": "code",
   "execution_count": 525,
   "metadata": {},
   "outputs": [
    {
     "data": {
      "text/html": [
       "<div>\n",
       "<style scoped>\n",
       "    .dataframe tbody tr th:only-of-type {\n",
       "        vertical-align: middle;\n",
       "    }\n",
       "\n",
       "    .dataframe tbody tr th {\n",
       "        vertical-align: top;\n",
       "    }\n",
       "\n",
       "    .dataframe thead th {\n",
       "        text-align: right;\n",
       "    }\n",
       "</style>\n",
       "<table border=\"1\" class=\"dataframe\">\n",
       "  <thead>\n",
       "    <tr style=\"text-align: right;\">\n",
       "      <th></th>\n",
       "      <th>电影ID</th>\n",
       "      <th>时间</th>\n",
       "      <th>当前热度值</th>\n",
       "      <th>新增热度值</th>\n",
       "      <th>当前点击量</th>\n",
       "      <th>新增点击量</th>\n",
       "      <th>当前评论数</th>\n",
       "      <th>新增评论数</th>\n",
       "      <th>当前点赞数</th>\n",
       "      <th>新增点赞数</th>\n",
       "      <th>...</th>\n",
       "      <th>导演</th>\n",
       "      <th>编剧</th>\n",
       "      <th>制片</th>\n",
       "      <th>美术</th>\n",
       "      <th>主演</th>\n",
       "      <th>date</th>\n",
       "      <th>点击量新增百分比</th>\n",
       "      <th>热度值新增百分比</th>\n",
       "      <th>播放指数新增百分比</th>\n",
       "      <th>time_interval</th>\n",
       "    </tr>\n",
       "  </thead>\n",
       "  <tbody>\n",
       "    <tr>\n",
       "      <th>0</th>\n",
       "      <td>4</td>\n",
       "      <td>2018-09-04 18:00:00</td>\n",
       "      <td>2813.0</td>\n",
       "      <td>-1.0</td>\n",
       "      <td>8986157.0</td>\n",
       "      <td>481.0</td>\n",
       "      <td>412.0</td>\n",
       "      <td>0.0</td>\n",
       "      <td>978.0</td>\n",
       "      <td>0.0</td>\n",
       "      <td>...</td>\n",
       "      <td>喇英</td>\n",
       "      <td>喇英,翁颖宗</td>\n",
       "      <td>余泳妮</td>\n",
       "      <td>NaN</td>\n",
       "      <td>刘京永,李司隆,杨凡,喇英</td>\n",
       "      <td>2018-09-04</td>\n",
       "      <td>0.0</td>\n",
       "      <td>0.0</td>\n",
       "      <td>0.0</td>\n",
       "      <td>46307361.0</td>\n",
       "    </tr>\n",
       "  </tbody>\n",
       "</table>\n",
       "<p>1 rows × 36 columns</p>\n",
       "</div>"
      ],
      "text/plain": [
       "   电影ID                   时间   当前热度值  新增热度值      当前点击量  新增点击量  当前评论数  新增评论数  \\\n",
       "0     4  2018-09-04 18:00:00  2813.0   -1.0  8986157.0  481.0  412.0    0.0   \n",
       "\n",
       "   当前点赞数  新增点赞数      ...        导演      编剧   制片   美术             主演  \\\n",
       "0  978.0    0.0      ...        喇英  喇英,翁颖宗  余泳妮  NaN  刘京永,李司隆,杨凡,喇英   \n",
       "\n",
       "         date  点击量新增百分比  热度值新增百分比  播放指数新增百分比  time_interval  \n",
       "0  2018-09-04       0.0       0.0        0.0     46307361.0  \n",
       "\n",
       "[1 rows x 36 columns]"
      ]
     },
     "execution_count": 525,
     "metadata": {},
     "output_type": "execute_result"
    }
   ],
   "source": [
    "original_df.head(1)"
   ]
  },
  {
   "cell_type": "markdown",
   "metadata": {},
   "source": [
    "#### 1.2.5.3  ②"
   ]
  },
  {
   "cell_type": "code",
   "execution_count": null,
   "metadata": {},
   "outputs": [],
   "source": []
  },
  {
   "cell_type": "code",
   "execution_count": null,
   "metadata": {},
   "outputs": [],
   "source": []
  },
  {
   "cell_type": "code",
   "execution_count": null,
   "metadata": {},
   "outputs": [],
   "source": []
  },
  {
   "cell_type": "code",
   "execution_count": null,
   "metadata": {},
   "outputs": [],
   "source": []
  },
  {
   "cell_type": "code",
   "execution_count": null,
   "metadata": {},
   "outputs": [],
   "source": []
  },
  {
   "cell_type": "markdown",
   "metadata": {},
   "source": [
    "#### 1.2.5.3 分析剩余特征\n",
    "#### “当前评论数”，“当前点赞数”，“当前踩数”，“当前评分数”变幅几乎可以忽略不计，其对应的“新增”列绝大部分都为0，无意义；\n",
    "#### '当前小时弹幕数','当前小时新增弹幕数'缺失值高达0.45，考虑舍弃；\n",
    "####  '当前小时评分人数'，缺失值占0.29，考虑填充之后作为一个特征，其对应的“新增”列为0项和缺失项占0.71，舍弃；"
   ]
  },
  {
   "cell_type": "code",
   "execution_count": 334,
   "metadata": {},
   "outputs": [],
   "source": [
    "# original_df['当前小时弹幕数'].value_counts() # 缺失值占0.45"
   ]
  },
  {
   "cell_type": "code",
   "execution_count": 337,
   "metadata": {},
   "outputs": [],
   "source": [
    "# original_df['当前小时评分人数'].value_counts() # 缺失值占0.29"
   ]
  },
  {
   "cell_type": "markdown",
   "metadata": {},
   "source": [
    "#### 1.2.6 离散特征转换one-hot编码，连续特征保留，确定最终的特征"
   ]
  },
  {
   "cell_type": "markdown",
   "metadata": {},
   "source": [
    "#### 1.2.6 1 删除无关特征"
   ]
  },
  {
   "cell_type": "code",
   "execution_count": 348,
   "metadata": {},
   "outputs": [],
   "source": [
    "del df['新增评论数']\n",
    "del df['新增点赞数']\n",
    "del df['新增踩数']"
   ]
  },
  {
   "cell_type": "code",
   "execution_count": 350,
   "metadata": {},
   "outputs": [],
   "source": [
    "del df['当前小时一星评分人数']\n",
    "del df['当前小时二星评分人数']\n",
    "del df['当前小时三星评分人数']\n",
    "del df['当前小时四星评分人数']\n",
    "del df['当前小时五星评分人数']"
   ]
  },
  {
   "cell_type": "code",
   "execution_count": 353,
   "metadata": {},
   "outputs": [],
   "source": [
    "del df['当前小时弹幕数']\n",
    "del df['当前小时新增弹幕数']"
   ]
  },
  {
   "cell_type": "code",
   "execution_count": 355,
   "metadata": {},
   "outputs": [],
   "source": [
    "df['热度值新增百分比'] = original_df['热度值新增百分比']"
   ]
  },
  {
   "cell_type": "code",
   "execution_count": 370,
   "metadata": {},
   "outputs": [],
   "source": [
    "y_new_add_count = original_df['新增点击量']\n",
    "y_new_add_percent = original_df['点击量新增百分比']\n",
    "y_total = original_df['当前点击量']"
   ]
  },
  {
   "cell_type": "code",
   "execution_count": 362,
   "metadata": {},
   "outputs": [],
   "source": [
    "del df['新增点击量']\n",
    "del df['当前点击量'] "
   ]
  },
  {
   "cell_type": "code",
   "execution_count": 366,
   "metadata": {},
   "outputs": [],
   "source": [
    "del df['新增热度值']"
   ]
  },
  {
   "cell_type": "code",
   "execution_count": 368,
   "metadata": {},
   "outputs": [],
   "source": [
    "del df['当前小时新增评分人数']"
   ]
  },
  {
   "cell_type": "code",
   "execution_count": 375,
   "metadata": {},
   "outputs": [
    {
     "data": {
      "text/html": [
       "<div>\n",
       "<style scoped>\n",
       "    .dataframe tbody tr th:only-of-type {\n",
       "        vertical-align: middle;\n",
       "    }\n",
       "\n",
       "    .dataframe tbody tr th {\n",
       "        vertical-align: top;\n",
       "    }\n",
       "\n",
       "    .dataframe thead th {\n",
       "        text-align: right;\n",
       "    }\n",
       "</style>\n",
       "<table border=\"1\" class=\"dataframe\">\n",
       "  <thead>\n",
       "    <tr style=\"text-align: right;\">\n",
       "      <th></th>\n",
       "      <th>电影ID</th>\n",
       "      <th>当前热度值</th>\n",
       "      <th>当前评论数</th>\n",
       "      <th>当前点赞数</th>\n",
       "      <th>当前踩数</th>\n",
       "      <th>当前评分数</th>\n",
       "      <th>当前小时评分人数</th>\n",
       "      <th>当日爱奇艺播放指数</th>\n",
       "      <th>hour</th>\n",
       "      <th>weekday</th>\n",
       "      <th>is_weekday</th>\n",
       "      <th>time_interval</th>\n",
       "      <th>热度值新增百分比</th>\n",
       "    </tr>\n",
       "  </thead>\n",
       "  <tbody>\n",
       "    <tr>\n",
       "      <th>0</th>\n",
       "      <td>4</td>\n",
       "      <td>2813.0</td>\n",
       "      <td>412.0</td>\n",
       "      <td>978.0</td>\n",
       "      <td>623.0</td>\n",
       "      <td>690.0</td>\n",
       "      <td>-111111111.0</td>\n",
       "      <td>13938.0</td>\n",
       "      <td>18</td>\n",
       "      <td>Tuesday</td>\n",
       "      <td>1</td>\n",
       "      <td>1</td>\n",
       "      <td>0.000000</td>\n",
       "    </tr>\n",
       "    <tr>\n",
       "      <th>1</th>\n",
       "      <td>4</td>\n",
       "      <td>2811.0</td>\n",
       "      <td>412.0</td>\n",
       "      <td>978.0</td>\n",
       "      <td>623.0</td>\n",
       "      <td>690.0</td>\n",
       "      <td>-111111111.0</td>\n",
       "      <td>13938.0</td>\n",
       "      <td>19</td>\n",
       "      <td>Tuesday</td>\n",
       "      <td>1</td>\n",
       "      <td>1</td>\n",
       "      <td>-0.000711</td>\n",
       "    </tr>\n",
       "    <tr>\n",
       "      <th>2</th>\n",
       "      <td>4</td>\n",
       "      <td>2810.0</td>\n",
       "      <td>412.0</td>\n",
       "      <td>978.0</td>\n",
       "      <td>623.0</td>\n",
       "      <td>690.0</td>\n",
       "      <td>-111111111.0</td>\n",
       "      <td>13938.0</td>\n",
       "      <td>20</td>\n",
       "      <td>Tuesday</td>\n",
       "      <td>1</td>\n",
       "      <td>1</td>\n",
       "      <td>-0.000356</td>\n",
       "    </tr>\n",
       "    <tr>\n",
       "      <th>3</th>\n",
       "      <td>4</td>\n",
       "      <td>2809.0</td>\n",
       "      <td>412.0</td>\n",
       "      <td>978.0</td>\n",
       "      <td>623.0</td>\n",
       "      <td>690.0</td>\n",
       "      <td>-111111111.0</td>\n",
       "      <td>13938.0</td>\n",
       "      <td>21</td>\n",
       "      <td>Tuesday</td>\n",
       "      <td>1</td>\n",
       "      <td>2</td>\n",
       "      <td>-0.000356</td>\n",
       "    </tr>\n",
       "    <tr>\n",
       "      <th>4</th>\n",
       "      <td>4</td>\n",
       "      <td>2805.0</td>\n",
       "      <td>412.0</td>\n",
       "      <td>978.0</td>\n",
       "      <td>623.0</td>\n",
       "      <td>690.0</td>\n",
       "      <td>-111111111.0</td>\n",
       "      <td>13938.0</td>\n",
       "      <td>22</td>\n",
       "      <td>Tuesday</td>\n",
       "      <td>1</td>\n",
       "      <td>2</td>\n",
       "      <td>-0.001426</td>\n",
       "    </tr>\n",
       "  </tbody>\n",
       "</table>\n",
       "</div>"
      ],
      "text/plain": [
       "   电影ID   当前热度值  当前评论数  当前点赞数   当前踩数  当前评分数     当前小时评分人数  当日爱奇艺播放指数 hour  \\\n",
       "0     4  2813.0  412.0  978.0  623.0  690.0 -111111111.0    13938.0   18   \n",
       "1     4  2811.0  412.0  978.0  623.0  690.0 -111111111.0    13938.0   19   \n",
       "2     4  2810.0  412.0  978.0  623.0  690.0 -111111111.0    13938.0   20   \n",
       "3     4  2809.0  412.0  978.0  623.0  690.0 -111111111.0    13938.0   21   \n",
       "4     4  2805.0  412.0  978.0  623.0  690.0 -111111111.0    13938.0   22   \n",
       "\n",
       "   weekday  is_weekday  time_interval  热度值新增百分比  \n",
       "0  Tuesday           1              1  0.000000  \n",
       "1  Tuesday           1              1 -0.000711  \n",
       "2  Tuesday           1              1 -0.000356  \n",
       "3  Tuesday           1              2 -0.000356  \n",
       "4  Tuesday           1              2 -0.001426  "
      ]
     },
     "execution_count": 375,
     "metadata": {},
     "output_type": "execute_result"
    }
   ],
   "source": [
    "df.head()"
   ]
  },
  {
   "cell_type": "code",
   "execution_count": 376,
   "metadata": {},
   "outputs": [],
   "source": [
    "# original_df.head(1)"
   ]
  },
  {
   "cell_type": "code",
   "execution_count": 410,
   "metadata": {},
   "outputs": [],
   "source": [
    "# original_df.head(1)"
   ]
  },
  {
   "cell_type": "markdown",
   "metadata": {},
   "source": [
    "#### 1.2.6.2 缺失值填充\n",
    "#### 用后一个元素填充前一个元素，不采用平均值填充是因为，'当前小时评分人数'是一个累加的值，如果使用平均值填充会出现前面的缺失值填充之后的结果比后面的非缺失值大。就破坏了整个特征累增的规律。"
   ]
  },
  {
   "cell_type": "code",
   "execution_count": 464,
   "metadata": {},
   "outputs": [],
   "source": [
    "del df['当前小时评分人数']"
   ]
  },
  {
   "cell_type": "code",
   "execution_count": 465,
   "metadata": {},
   "outputs": [],
   "source": [
    "df['当前小时评分人数'] = original_df['当前小时评分人数']"
   ]
  },
  {
   "cell_type": "code",
   "execution_count": 480,
   "metadata": {},
   "outputs": [],
   "source": [
    "# df['date'] = original_df['date']\n",
    "del df['date']"
   ]
  },
  {
   "cell_type": "code",
   "execution_count": 468,
   "metadata": {},
   "outputs": [],
   "source": [
    "df.replace(-111111111.0, np.nan, inplace=True)"
   ]
  },
  {
   "cell_type": "code",
   "execution_count": 472,
   "metadata": {},
   "outputs": [],
   "source": [
    "df['当前小时评分人数'] = df['当前小时评分人数'].fillna(method=\"bfill\")"
   ]
  },
  {
   "cell_type": "code",
   "execution_count": 481,
   "metadata": {
    "scrolled": true
   },
   "outputs": [
    {
     "data": {
      "text/html": [
       "<div>\n",
       "<style scoped>\n",
       "    .dataframe tbody tr th:only-of-type {\n",
       "        vertical-align: middle;\n",
       "    }\n",
       "\n",
       "    .dataframe tbody tr th {\n",
       "        vertical-align: top;\n",
       "    }\n",
       "\n",
       "    .dataframe thead th {\n",
       "        text-align: right;\n",
       "    }\n",
       "</style>\n",
       "<table border=\"1\" class=\"dataframe\">\n",
       "  <thead>\n",
       "    <tr style=\"text-align: right;\">\n",
       "      <th></th>\n",
       "      <th>电影ID</th>\n",
       "      <th>当前热度值</th>\n",
       "      <th>当前评论数</th>\n",
       "      <th>当前点赞数</th>\n",
       "      <th>当前踩数</th>\n",
       "      <th>当前评分数</th>\n",
       "      <th>当日爱奇艺播放指数</th>\n",
       "      <th>is_weekday</th>\n",
       "      <th>热度值新增百分比</th>\n",
       "      <th>time_interval_0</th>\n",
       "      <th>time_interval_1</th>\n",
       "      <th>time_interval_2</th>\n",
       "      <th>week_monday</th>\n",
       "      <th>week_tuesday</th>\n",
       "      <th>week_wednesday</th>\n",
       "      <th>week_thursday</th>\n",
       "      <th>week_friday</th>\n",
       "      <th>week_saturday</th>\n",
       "      <th>week_sunday</th>\n",
       "      <th>当前小时评分人数</th>\n",
       "    </tr>\n",
       "  </thead>\n",
       "  <tbody>\n",
       "    <tr>\n",
       "      <th>0</th>\n",
       "      <td>4</td>\n",
       "      <td>2813.0</td>\n",
       "      <td>412.0</td>\n",
       "      <td>978.0</td>\n",
       "      <td>623.0</td>\n",
       "      <td>690.0</td>\n",
       "      <td>13938.0</td>\n",
       "      <td>1</td>\n",
       "      <td>0.000000</td>\n",
       "      <td>0</td>\n",
       "      <td>1</td>\n",
       "      <td>0</td>\n",
       "      <td>0</td>\n",
       "      <td>1</td>\n",
       "      <td>0</td>\n",
       "      <td>0</td>\n",
       "      <td>0</td>\n",
       "      <td>0</td>\n",
       "      <td>0</td>\n",
       "      <td>30091.0</td>\n",
       "    </tr>\n",
       "    <tr>\n",
       "      <th>1</th>\n",
       "      <td>4</td>\n",
       "      <td>2811.0</td>\n",
       "      <td>412.0</td>\n",
       "      <td>978.0</td>\n",
       "      <td>623.0</td>\n",
       "      <td>690.0</td>\n",
       "      <td>13938.0</td>\n",
       "      <td>1</td>\n",
       "      <td>-0.000711</td>\n",
       "      <td>0</td>\n",
       "      <td>1</td>\n",
       "      <td>0</td>\n",
       "      <td>0</td>\n",
       "      <td>1</td>\n",
       "      <td>0</td>\n",
       "      <td>0</td>\n",
       "      <td>0</td>\n",
       "      <td>0</td>\n",
       "      <td>0</td>\n",
       "      <td>30091.0</td>\n",
       "    </tr>\n",
       "    <tr>\n",
       "      <th>2</th>\n",
       "      <td>4</td>\n",
       "      <td>2810.0</td>\n",
       "      <td>412.0</td>\n",
       "      <td>978.0</td>\n",
       "      <td>623.0</td>\n",
       "      <td>690.0</td>\n",
       "      <td>13938.0</td>\n",
       "      <td>1</td>\n",
       "      <td>-0.000356</td>\n",
       "      <td>0</td>\n",
       "      <td>1</td>\n",
       "      <td>0</td>\n",
       "      <td>0</td>\n",
       "      <td>1</td>\n",
       "      <td>0</td>\n",
       "      <td>0</td>\n",
       "      <td>0</td>\n",
       "      <td>0</td>\n",
       "      <td>0</td>\n",
       "      <td>30091.0</td>\n",
       "    </tr>\n",
       "    <tr>\n",
       "      <th>3</th>\n",
       "      <td>4</td>\n",
       "      <td>2809.0</td>\n",
       "      <td>412.0</td>\n",
       "      <td>978.0</td>\n",
       "      <td>623.0</td>\n",
       "      <td>690.0</td>\n",
       "      <td>13938.0</td>\n",
       "      <td>1</td>\n",
       "      <td>-0.000356</td>\n",
       "      <td>0</td>\n",
       "      <td>0</td>\n",
       "      <td>1</td>\n",
       "      <td>0</td>\n",
       "      <td>1</td>\n",
       "      <td>0</td>\n",
       "      <td>0</td>\n",
       "      <td>0</td>\n",
       "      <td>0</td>\n",
       "      <td>0</td>\n",
       "      <td>30091.0</td>\n",
       "    </tr>\n",
       "    <tr>\n",
       "      <th>4</th>\n",
       "      <td>4</td>\n",
       "      <td>2805.0</td>\n",
       "      <td>412.0</td>\n",
       "      <td>978.0</td>\n",
       "      <td>623.0</td>\n",
       "      <td>690.0</td>\n",
       "      <td>13938.0</td>\n",
       "      <td>1</td>\n",
       "      <td>-0.001426</td>\n",
       "      <td>0</td>\n",
       "      <td>0</td>\n",
       "      <td>1</td>\n",
       "      <td>0</td>\n",
       "      <td>1</td>\n",
       "      <td>0</td>\n",
       "      <td>0</td>\n",
       "      <td>0</td>\n",
       "      <td>0</td>\n",
       "      <td>0</td>\n",
       "      <td>30091.0</td>\n",
       "    </tr>\n",
       "  </tbody>\n",
       "</table>\n",
       "</div>"
      ],
      "text/plain": [
       "   电影ID   当前热度值  当前评论数  当前点赞数   当前踩数  当前评分数  当日爱奇艺播放指数  is_weekday  热度值新增百分比  \\\n",
       "0     4  2813.0  412.0  978.0  623.0  690.0    13938.0           1  0.000000   \n",
       "1     4  2811.0  412.0  978.0  623.0  690.0    13938.0           1 -0.000711   \n",
       "2     4  2810.0  412.0  978.0  623.0  690.0    13938.0           1 -0.000356   \n",
       "3     4  2809.0  412.0  978.0  623.0  690.0    13938.0           1 -0.000356   \n",
       "4     4  2805.0  412.0  978.0  623.0  690.0    13938.0           1 -0.001426   \n",
       "\n",
       "   time_interval_0  time_interval_1  time_interval_2  week_monday  \\\n",
       "0                0                1                0            0   \n",
       "1                0                1                0            0   \n",
       "2                0                1                0            0   \n",
       "3                0                0                1            0   \n",
       "4                0                0                1            0   \n",
       "\n",
       "   week_tuesday  week_wednesday  week_thursday  week_friday  week_saturday  \\\n",
       "0             1               0              0            0              0   \n",
       "1             1               0              0            0              0   \n",
       "2             1               0              0            0              0   \n",
       "3             1               0              0            0              0   \n",
       "4             1               0              0            0              0   \n",
       "\n",
       "   week_sunday  当前小时评分人数  \n",
       "0            0   30091.0  \n",
       "1            0   30091.0  \n",
       "2            0   30091.0  \n",
       "3            0   30091.0  \n",
       "4            0   30091.0  "
      ]
     },
     "execution_count": 481,
     "metadata": {},
     "output_type": "execute_result"
    }
   ],
   "source": [
    "df.head(5)"
   ]
  },
  {
   "cell_type": "markdown",
   "metadata": {},
   "source": [
    "#### 1.2.6.3 离散变量one-hot编码"
   ]
  },
  {
   "cell_type": "code",
   "execution_count": 383,
   "metadata": {},
   "outputs": [],
   "source": [
    "df['time_interval_0'] = pd.get_dummies(df['time_interval'])[0]\n",
    "df['time_interval_1'] = pd.get_dummies(df['time_interval'])[1]\n",
    "df['time_interval_2'] = pd.get_dummies(df['time_interval'])[2]"
   ]
  },
  {
   "cell_type": "code",
   "execution_count": 385,
   "metadata": {},
   "outputs": [],
   "source": [
    "del df['time_interval']"
   ]
  },
  {
   "cell_type": "code",
   "execution_count": 387,
   "metadata": {},
   "outputs": [],
   "source": [
    "del df['hour']"
   ]
  },
  {
   "cell_type": "code",
   "execution_count": 386,
   "metadata": {},
   "outputs": [
    {
     "data": {
      "text/html": [
       "<div>\n",
       "<style scoped>\n",
       "    .dataframe tbody tr th:only-of-type {\n",
       "        vertical-align: middle;\n",
       "    }\n",
       "\n",
       "    .dataframe tbody tr th {\n",
       "        vertical-align: top;\n",
       "    }\n",
       "\n",
       "    .dataframe thead th {\n",
       "        text-align: right;\n",
       "    }\n",
       "</style>\n",
       "<table border=\"1\" class=\"dataframe\">\n",
       "  <thead>\n",
       "    <tr style=\"text-align: right;\">\n",
       "      <th></th>\n",
       "      <th>电影ID</th>\n",
       "      <th>当前热度值</th>\n",
       "      <th>当前评论数</th>\n",
       "      <th>当前点赞数</th>\n",
       "      <th>当前踩数</th>\n",
       "      <th>当前评分数</th>\n",
       "      <th>当前小时评分人数</th>\n",
       "      <th>当日爱奇艺播放指数</th>\n",
       "      <th>hour</th>\n",
       "      <th>weekday</th>\n",
       "      <th>is_weekday</th>\n",
       "      <th>热度值新增百分比</th>\n",
       "      <th>time_interval_0</th>\n",
       "      <th>time_interval_1</th>\n",
       "      <th>time_interval_2</th>\n",
       "    </tr>\n",
       "  </thead>\n",
       "  <tbody>\n",
       "    <tr>\n",
       "      <th>0</th>\n",
       "      <td>4</td>\n",
       "      <td>2813.0</td>\n",
       "      <td>412.0</td>\n",
       "      <td>978.0</td>\n",
       "      <td>623.0</td>\n",
       "      <td>690.0</td>\n",
       "      <td>-111111111.0</td>\n",
       "      <td>13938.0</td>\n",
       "      <td>18</td>\n",
       "      <td>Tuesday</td>\n",
       "      <td>1</td>\n",
       "      <td>0.000000</td>\n",
       "      <td>0</td>\n",
       "      <td>1</td>\n",
       "      <td>0</td>\n",
       "    </tr>\n",
       "    <tr>\n",
       "      <th>1</th>\n",
       "      <td>4</td>\n",
       "      <td>2811.0</td>\n",
       "      <td>412.0</td>\n",
       "      <td>978.0</td>\n",
       "      <td>623.0</td>\n",
       "      <td>690.0</td>\n",
       "      <td>-111111111.0</td>\n",
       "      <td>13938.0</td>\n",
       "      <td>19</td>\n",
       "      <td>Tuesday</td>\n",
       "      <td>1</td>\n",
       "      <td>-0.000711</td>\n",
       "      <td>0</td>\n",
       "      <td>1</td>\n",
       "      <td>0</td>\n",
       "    </tr>\n",
       "  </tbody>\n",
       "</table>\n",
       "</div>"
      ],
      "text/plain": [
       "   电影ID   当前热度值  当前评论数  当前点赞数   当前踩数  当前评分数     当前小时评分人数  当日爱奇艺播放指数 hour  \\\n",
       "0     4  2813.0  412.0  978.0  623.0  690.0 -111111111.0    13938.0   18   \n",
       "1     4  2811.0  412.0  978.0  623.0  690.0 -111111111.0    13938.0   19   \n",
       "\n",
       "   weekday  is_weekday  热度值新增百分比  time_interval_0  time_interval_1  \\\n",
       "0  Tuesday           1  0.000000                0                1   \n",
       "1  Tuesday           1 -0.000711                0                1   \n",
       "\n",
       "   time_interval_2  \n",
       "0                0  \n",
       "1                0  "
      ]
     },
     "execution_count": 386,
     "metadata": {},
     "output_type": "execute_result"
    }
   ],
   "source": [
    "df.head(2)"
   ]
  },
  {
   "cell_type": "code",
   "execution_count": 391,
   "metadata": {},
   "outputs": [],
   "source": [
    "df['week_monday'] = pd.get_dummies(df['weekday'])['Monday']\n",
    "df['week_tuesday'] = pd.get_dummies(df['weekday'])['Tuesday']\n",
    "df['week_wednesday'] = pd.get_dummies(df['weekday'])['Wednesday']\n",
    "df['week_thursday'] = pd.get_dummies(df['weekday'])['Thursday']\n",
    "df['week_friday'] = pd.get_dummies(df['weekday'])['Friday']\n",
    "df['week_saturday'] = pd.get_dummies(df['weekday'])['Saturday']\n",
    "df['week_sunday'] = pd.get_dummies(df['weekday'])['Sunday']"
   ]
  },
  {
   "cell_type": "code",
   "execution_count": 392,
   "metadata": {},
   "outputs": [],
   "source": [
    "del df['weekday']"
   ]
  },
  {
   "cell_type": "code",
   "execution_count": 393,
   "metadata": {
    "scrolled": true
   },
   "outputs": [
    {
     "data": {
      "text/html": [
       "<div>\n",
       "<style scoped>\n",
       "    .dataframe tbody tr th:only-of-type {\n",
       "        vertical-align: middle;\n",
       "    }\n",
       "\n",
       "    .dataframe tbody tr th {\n",
       "        vertical-align: top;\n",
       "    }\n",
       "\n",
       "    .dataframe thead th {\n",
       "        text-align: right;\n",
       "    }\n",
       "</style>\n",
       "<table border=\"1\" class=\"dataframe\">\n",
       "  <thead>\n",
       "    <tr style=\"text-align: right;\">\n",
       "      <th></th>\n",
       "      <th>电影ID</th>\n",
       "      <th>当前热度值</th>\n",
       "      <th>当前评论数</th>\n",
       "      <th>当前点赞数</th>\n",
       "      <th>当前踩数</th>\n",
       "      <th>当前评分数</th>\n",
       "      <th>当前小时评分人数</th>\n",
       "      <th>当日爱奇艺播放指数</th>\n",
       "      <th>is_weekday</th>\n",
       "      <th>热度值新增百分比</th>\n",
       "      <th>time_interval_0</th>\n",
       "      <th>time_interval_1</th>\n",
       "      <th>time_interval_2</th>\n",
       "      <th>week_monday</th>\n",
       "      <th>week_tuesday</th>\n",
       "      <th>week_wednesday</th>\n",
       "      <th>week_thursday</th>\n",
       "      <th>week_friday</th>\n",
       "      <th>week_saturday</th>\n",
       "      <th>week_sunday</th>\n",
       "    </tr>\n",
       "  </thead>\n",
       "  <tbody>\n",
       "    <tr>\n",
       "      <th>0</th>\n",
       "      <td>4</td>\n",
       "      <td>2813.0</td>\n",
       "      <td>412.0</td>\n",
       "      <td>978.0</td>\n",
       "      <td>623.0</td>\n",
       "      <td>690.0</td>\n",
       "      <td>-111111111.0</td>\n",
       "      <td>13938.0</td>\n",
       "      <td>1</td>\n",
       "      <td>0.000000</td>\n",
       "      <td>0</td>\n",
       "      <td>1</td>\n",
       "      <td>0</td>\n",
       "      <td>0</td>\n",
       "      <td>1</td>\n",
       "      <td>0</td>\n",
       "      <td>0</td>\n",
       "      <td>0</td>\n",
       "      <td>0</td>\n",
       "      <td>0</td>\n",
       "    </tr>\n",
       "    <tr>\n",
       "      <th>1</th>\n",
       "      <td>4</td>\n",
       "      <td>2811.0</td>\n",
       "      <td>412.0</td>\n",
       "      <td>978.0</td>\n",
       "      <td>623.0</td>\n",
       "      <td>690.0</td>\n",
       "      <td>-111111111.0</td>\n",
       "      <td>13938.0</td>\n",
       "      <td>1</td>\n",
       "      <td>-0.000711</td>\n",
       "      <td>0</td>\n",
       "      <td>1</td>\n",
       "      <td>0</td>\n",
       "      <td>0</td>\n",
       "      <td>1</td>\n",
       "      <td>0</td>\n",
       "      <td>0</td>\n",
       "      <td>0</td>\n",
       "      <td>0</td>\n",
       "      <td>0</td>\n",
       "    </tr>\n",
       "    <tr>\n",
       "      <th>2</th>\n",
       "      <td>4</td>\n",
       "      <td>2810.0</td>\n",
       "      <td>412.0</td>\n",
       "      <td>978.0</td>\n",
       "      <td>623.0</td>\n",
       "      <td>690.0</td>\n",
       "      <td>-111111111.0</td>\n",
       "      <td>13938.0</td>\n",
       "      <td>1</td>\n",
       "      <td>-0.000356</td>\n",
       "      <td>0</td>\n",
       "      <td>1</td>\n",
       "      <td>0</td>\n",
       "      <td>0</td>\n",
       "      <td>1</td>\n",
       "      <td>0</td>\n",
       "      <td>0</td>\n",
       "      <td>0</td>\n",
       "      <td>0</td>\n",
       "      <td>0</td>\n",
       "    </tr>\n",
       "  </tbody>\n",
       "</table>\n",
       "</div>"
      ],
      "text/plain": [
       "   电影ID   当前热度值  当前评论数  当前点赞数   当前踩数  当前评分数     当前小时评分人数  当日爱奇艺播放指数  \\\n",
       "0     4  2813.0  412.0  978.0  623.0  690.0 -111111111.0    13938.0   \n",
       "1     4  2811.0  412.0  978.0  623.0  690.0 -111111111.0    13938.0   \n",
       "2     4  2810.0  412.0  978.0  623.0  690.0 -111111111.0    13938.0   \n",
       "\n",
       "   is_weekday  热度值新增百分比  time_interval_0  time_interval_1  time_interval_2  \\\n",
       "0           1  0.000000                0                1                0   \n",
       "1           1 -0.000711                0                1                0   \n",
       "2           1 -0.000356                0                1                0   \n",
       "\n",
       "   week_monday  week_tuesday  week_wednesday  week_thursday  week_friday  \\\n",
       "0            0             1               0              0            0   \n",
       "1            0             1               0              0            0   \n",
       "2            0             1               0              0            0   \n",
       "\n",
       "   week_saturday  week_sunday  \n",
       "0              0            0  \n",
       "1              0            0  \n",
       "2              0            0  "
      ]
     },
     "execution_count": 393,
     "metadata": {},
     "output_type": "execute_result"
    }
   ],
   "source": [
    "df.head(3)"
   ]
  },
  {
   "cell_type": "markdown",
   "metadata": {},
   "source": [
    "### 3. xgboost训练"
   ]
  },
  {
   "cell_type": "markdown",
   "metadata": {},
   "source": [
    "#### 3.1 准备训练集"
   ]
  },
  {
   "cell_type": "code",
   "execution_count": 95,
   "metadata": {},
   "outputs": [],
   "source": [
    "# X_train = df\n",
    "# y_train = y_total"
   ]
  },
  {
   "cell_type": "code",
   "execution_count": 94,
   "metadata": {},
   "outputs": [],
   "source": [
    "# import xgboost as xgb\n",
    "# from xgboost import plot_importance"
   ]
  },
  {
   "cell_type": "code",
   "execution_count": 93,
   "metadata": {},
   "outputs": [],
   "source": [
    "# ?xgb.XGBRegressor"
   ]
  },
  {
   "cell_type": "code",
   "execution_count": 88,
   "metadata": {},
   "outputs": [],
   "source": [
    "# model = xgb.XGBRegressor(max_depth=5, learning_rate=0.1, n_estimators=160, silent=False, objective='reg:gamma')\n",
    "# model.fit(X_train, y_train)"
   ]
  },
  {
   "cell_type": "code",
   "execution_count": 90,
   "metadata": {},
   "outputs": [],
   "source": [
    "# X_test = df.head(1)"
   ]
  },
  {
   "cell_type": "code",
   "execution_count": 89,
   "metadata": {},
   "outputs": [],
   "source": [
    "# model.predict(X_test)"
   ]
  },
  {
   "cell_type": "code",
   "execution_count": 92,
   "metadata": {},
   "outputs": [],
   "source": [
    "# original_df.columns"
   ]
  },
  {
   "cell_type": "code",
   "execution_count": 91,
   "metadata": {},
   "outputs": [],
   "source": [
    "# original_df.head(1)"
   ]
  },
  {
   "cell_type": "code",
   "execution_count": 86,
   "metadata": {},
   "outputs": [],
   "source": [
    "original_df['当前小时评分人数'].replace(-111111111.0, np.nan, inplace=True)\n",
    "original_df['当前小时评分人数'] = original_df['当前小时评分人数'].fillna(method=\"bfill\")"
   ]
  },
  {
   "cell_type": "code",
   "execution_count": 97,
   "metadata": {},
   "outputs": [
    {
     "data": {
      "text/plain": [
       "array([ 30091.,  30101.,  30105., ..., 424481., 424483., 424485.])"
      ]
     },
     "execution_count": 97,
     "metadata": {},
     "output_type": "execute_result"
    }
   ],
   "source": [
    "original_df['当前小时评分人数'].unique()"
   ]
  },
  {
   "cell_type": "code",
   "execution_count": 99,
   "metadata": {},
   "outputs": [
    {
     "data": {
      "text/plain": [
       "array([690., 670., 660., 680., 730., 720., 740., 650., 640., 630., 800.,\n",
       "       790., 780., 490., 750., 760., 770., 830., 840., 600., 710., 810.,\n",
       "       560., 550., 819., 700., 620., 590., 610., 850., 530., 540., 509.,\n",
       "       500., 570., 860., 580., 520., 869., 890., 480., 470., 880., 900.,\n",
       "       459.])"
      ]
     },
     "execution_count": 99,
     "metadata": {},
     "output_type": "execute_result"
    }
   ],
   "source": [
    "original_df['当前评分数'].unique()"
   ]
  },
  {
   "cell_type": "code",
   "execution_count": 100,
   "metadata": {},
   "outputs": [],
   "source": [
    "#### '当前小时评分人数'和‘当前评分数' 之间的关系\n",
    "\n",
    "import datetime\n",
    " \n",
    "def dateRange(beginDate, endDate):\n",
    "    dates = []\n",
    "    dt = datetime.datetime.strptime(beginDate, \"%Y-%m-%d\")\n",
    "    date = beginDate[:]\n",
    "    while date <= endDate:\n",
    "        dates.append(date)\n",
    "        dt = dt + datetime.timedelta(1)\n",
    "        date = dt.strftime(\"%Y-%m-%d\")\n",
    "    return dates\n"
   ]
  },
  {
   "cell_type": "code",
   "execution_count": 101,
   "metadata": {},
   "outputs": [],
   "source": [
    "G = globals() \n",
    "for num, date in enumerate(dateRange('2018-09-10', '2018-09-23')):\n",
    "    G['weekday' + str(num)] = original_df[(original_df['date']== date) & (original_df['电影ID']==27255)]"
   ]
  },
  {
   "cell_type": "code",
   "execution_count": 104,
   "metadata": {},
   "outputs": [],
   "source": [
    "# weekday0"
   ]
  },
  {
   "cell_type": "code",
   "execution_count": 102,
   "metadata": {},
   "outputs": [
    {
     "name": "stdout",
     "output_type": "stream",
     "text": [
      "weekday0\n"
     ]
    }
   ],
   "source": [
    "print(\"weekday\"+str(0))"
   ]
  },
  {
   "cell_type": "code",
   "execution_count": 105,
   "metadata": {},
   "outputs": [
    {
     "name": "stderr",
     "output_type": "stream",
     "text": [
      "/home/wujiaocan/anaconda3/lib/python3.6/site-packages/matplotlib/font_manager.py:1328: UserWarning: findfont: Font family ['sans-serif'] not found. Falling back to DejaVu Sans\n",
      "  (prop.get_family(), self.defaultFamily[fontext]))\n"
     ]
    },
    {
     "data": {
      "image/png": "[encoded data removed]",
      "text/plain": [
       "<Figure size 720x360 with 1 Axes>"
      ]
     },
     "metadata": {},
     "output_type": "display_data"
    }
   ],
   "source": [
    "plt.rcParams['font.sans-serif']=['SimHei'] \n",
    "plt.rcParams['font.family']='sans-serif' \n",
    "# 用来正常显示负号\n",
    "plt.rcParams['axes.unicode_minus']=False\n",
    "\n",
    "plt.figure(figsize=(10,5))\n",
    "\n",
    "\n",
    "y11 = weekday0['当前小时评分人数'].tolist()\n",
    "y22 = weekday1['当前小时评分人数'].tolist()\n",
    "y33 = weekday2['当前小时评分人数'].tolist()\n",
    "y44 = weekday3['当前小时评分人数'].tolist()\n",
    "y55 = weekday4['当前小时评分人数'].tolist()\n",
    "y66 = weekday5['当前小时评分人数'].tolist()\n",
    "y77 = weekday6['当前小时评分人数'].tolist()\n",
    "y1 = weekday7['当前小时评分人数'].tolist()\n",
    "y2 = weekday8['当前小时评分人数'].tolist()\n",
    "y3 = weekday9['当前小时评分人数'].tolist()\n",
    "y4 = weekday10['当前小时评分人数'].tolist()\n",
    "y5 = weekday11['当前小时评分人数'].tolist()\n",
    "y6 = weekday12['当前小时评分人数'].tolist()\n",
    "y7 = weekday13['当前小时评分人数'].tolist()\n",
    "\n",
    "x11 = weekday0['当前评分数'].tolist()\n",
    "x22 = weekday1['当前评分数'].tolist()\n",
    "x33 = weekday2['当前评分数'].tolist()\n",
    "x44 = weekday3['当前评分数'].tolist()\n",
    "x55 = weekday4['当前评分数'].tolist()\n",
    "x66 = weekday5['当前评分数'].tolist()\n",
    "x77 = weekday6['当前评分数'].tolist()\n",
    "x1 = weekday7['当前评分数'].tolist()\n",
    "x2 = weekday8['当前评分数'].tolist()\n",
    "x3 = weekday9['当前评分数'].tolist()\n",
    "x4 = weekday10['当前评分数'].tolist()\n",
    "x5 = weekday11['当前评分数'].tolist()\n",
    "x6 = weekday12['当前评分数'].tolist()\n",
    "x7 = weekday13['当前评分数'].tolist()\n",
    "\n",
    "\n",
    "l11, = plt.plot(x11,y11,'-o')\n",
    "l22, = plt.plot(x22,y22,'-o')\n",
    "l33, = plt.plot(x33,y33,'-o')\n",
    "l44, = plt.plot(x44,y44,'-o')\n",
    "l55, = plt.plot(x55,y55,'-o')\n",
    "l66, = plt.plot(x66,y66,'-o')\n",
    "l77, = plt.plot(x77,y77,'-o')\n",
    "\n",
    "l1, = plt.plot(x1,y1,'-o',c='green')\n",
    "l2, = plt.plot(x2,y2,'-o',c='red')\n",
    "l3, = plt.plot(x3,y3,'-o',c='blue')\n",
    "l4, = plt.plot(x4,y4,'-o',c='pink')\n",
    "l5, = plt.plot(x5,y5,'-o',c='purple')\n",
    "l6, = plt.plot(x6,y6,'-o',c='black')\n",
    "l7, = plt.plot(x7,y7,'-o',c='yellow')\n",
    "\n",
    "plt.title('new add click trend of movie 27255 during one week(2018/9/10-2018/9/23)')\n",
    "plt.xlabel('当前评分数')\n",
    "plt.ylabel('当前小时评分人数')\n",
    "# plt.legend((l11,l22,l33,l44,l55,l66,l77,l1, l2, l3, l4, l5, l6, l7))\n",
    "\n",
    "# plt.ylim((-0.0000000001, 0.0000000000125))\n",
    "# plt.ylim((-0.0002, 0.0006))\n",
    "\n",
    "plt.show()"
   ]
  },
  {
   "cell_type": "code",
   "execution_count": 570,
   "metadata": {},
   "outputs": [],
   "source": [
    "# weekday_num"
   ]
  },
  {
   "cell_type": "code",
   "execution_count": null,
   "metadata": {},
   "outputs": [],
   "source": []
  }
 ],
 "metadata": {
  "kernelspec": {
   "display_name": "Python 3",
   "language": "python",
   "name": "python3"
  },
  "language_info": {
   "codemirror_mode": {
    "name": "ipython",
    "version": 3
   },
   "file_extension": ".py",
   "mimetype": "text/x-python",
   "name": "python",
   "nbconvert_exporter": "python",
   "pygments_lexer": "ipython3",
   "version": "3.6.5"
  }
 },
 "nbformat": 4,
 "nbformat_minor": 2
}
