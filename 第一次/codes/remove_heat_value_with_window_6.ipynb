{
 "cells": [
  {
   "cell_type": "code",
   "execution_count": 1,
   "metadata": {},
   "outputs": [],
   "source": [
    "import pandas as pd\n",
    "import numpy as np\n",
    "import calendar\n",
    "import datetime\n",
    "from datetime import datetime\n",
    "from sklearn.preprocessing import OneHotEncoder\n",
    "import requests"
   ]
  },
  {
   "cell_type": "code",
   "execution_count": 30,
   "metadata": {},
   "outputs": [
    {
     "name": "stderr",
     "output_type": "stream",
     "text": [
      "/home/wujiaocan/anaconda3/lib/python3.6/site-packages/ipykernel_launcher.py:1: ParserWarning: Falling back to the 'python' engine because the 'c' engine does not support regex separators (separators > 1 char and different from '\\s+' are interpreted as regex); you can avoid this warning by specifying engine='python'.\n",
      "  \"\"\"Entry point for launching an IPython kernel.\n"
     ]
    }
   ],
   "source": [
    "original_df = pd.read_csv(\"../data/filter_time_data.txt\", sep='\\t\\t', header=None)"
   ]
  },
  {
   "cell_type": "code",
   "execution_count": 4,
   "metadata": {},
   "outputs": [],
   "source": [
    "original_df.columns = [ '电影ID','时间', '当前热度值', '新增热度值','当前点击量','新增点击量','当前评论数','新增评论数','当前点赞数','新增点赞数',\n",
    "                        '当前踩数','新增踩数','当前评分数','推广位','影片推广位等级','当前小时弹幕数','当前小时新增弹幕数','当前小时评分人数',\n",
    "                        '当前小时新增评分人数','当前小时五星评分人数','当前小时四星评分人数','当前小时三星评分人数','当前小时二星评分人数',\n",
    "                        '当前小时一星评分人数','当日爱奇艺播放指数','影片上线时间','导演','编剧','制片','美术','主演']"
   ]
  },
  {
   "cell_type": "code",
   "execution_count": 25,
   "metadata": {},
   "outputs": [],
   "source": [
    "# original_df.head(10)"
   ]
  },
  {
   "cell_type": "code",
   "execution_count": 26,
   "metadata": {},
   "outputs": [],
   "source": [
    "Y = original_df['新增点击量'].values.tolist()"
   ]
  },
  {
   "cell_type": "code",
   "execution_count": 31,
   "metadata": {},
   "outputs": [],
   "source": [
    "df = pd.read_csv(\"../first_version/cleaned_features/original_df_2.csv\", index_col=0)"
   ]
  },
  {
   "cell_type": "code",
   "execution_count": 32,
   "metadata": {},
   "outputs": [
    {
     "data": {
      "text/html": [
       "<div>\n",
       "<style scoped>\n",
       "    .dataframe tbody tr th:only-of-type {\n",
       "        vertical-align: middle;\n",
       "    }\n",
       "\n",
       "    .dataframe tbody tr th {\n",
       "        vertical-align: top;\n",
       "    }\n",
       "\n",
       "    .dataframe thead th {\n",
       "        text-align: right;\n",
       "    }\n",
       "</style>\n",
       "<table border=\"1\" class=\"dataframe\">\n",
       "  <thead>\n",
       "    <tr style=\"text-align: right;\">\n",
       "      <th></th>\n",
       "      <th>当前热度值</th>\n",
       "      <th>新增热度值</th>\n",
       "      <th>当前评论数</th>\n",
       "      <th>新增评论数</th>\n",
       "      <th>当前点赞数</th>\n",
       "      <th>新增点赞数</th>\n",
       "      <th>当前踩数</th>\n",
       "      <th>新增踩数</th>\n",
       "      <th>当前评分数</th>\n",
       "      <th>当前小时评分人数</th>\n",
       "      <th>...</th>\n",
       "      <th>hour15</th>\n",
       "      <th>hour16</th>\n",
       "      <th>hour17</th>\n",
       "      <th>hour18</th>\n",
       "      <th>hour19</th>\n",
       "      <th>hour20</th>\n",
       "      <th>hour21</th>\n",
       "      <th>hour22</th>\n",
       "      <th>hour23</th>\n",
       "      <th>heat_value_window_size_6</th>\n",
       "    </tr>\n",
       "  </thead>\n",
       "  <tbody>\n",
       "    <tr>\n",
       "      <th>0</th>\n",
       "      <td>0.446225</td>\n",
       "      <td>-1</td>\n",
       "      <td>412</td>\n",
       "      <td>0</td>\n",
       "      <td>978</td>\n",
       "      <td>0</td>\n",
       "      <td>623</td>\n",
       "      <td>0</td>\n",
       "      <td>690</td>\n",
       "      <td>30091</td>\n",
       "      <td>...</td>\n",
       "      <td>0</td>\n",
       "      <td>0</td>\n",
       "      <td>0</td>\n",
       "      <td>1</td>\n",
       "      <td>0</td>\n",
       "      <td>0</td>\n",
       "      <td>0</td>\n",
       "      <td>0</td>\n",
       "      <td>0</td>\n",
       "      <td>0.0</td>\n",
       "    </tr>\n",
       "    <tr>\n",
       "      <th>1</th>\n",
       "      <td>0.445907</td>\n",
       "      <td>-2</td>\n",
       "      <td>412</td>\n",
       "      <td>0</td>\n",
       "      <td>978</td>\n",
       "      <td>0</td>\n",
       "      <td>623</td>\n",
       "      <td>0</td>\n",
       "      <td>690</td>\n",
       "      <td>30091</td>\n",
       "      <td>...</td>\n",
       "      <td>0</td>\n",
       "      <td>0</td>\n",
       "      <td>0</td>\n",
       "      <td>0</td>\n",
       "      <td>1</td>\n",
       "      <td>0</td>\n",
       "      <td>0</td>\n",
       "      <td>0</td>\n",
       "      <td>0</td>\n",
       "      <td>0.0</td>\n",
       "    </tr>\n",
       "    <tr>\n",
       "      <th>2</th>\n",
       "      <td>0.445749</td>\n",
       "      <td>-1</td>\n",
       "      <td>412</td>\n",
       "      <td>0</td>\n",
       "      <td>978</td>\n",
       "      <td>0</td>\n",
       "      <td>623</td>\n",
       "      <td>0</td>\n",
       "      <td>690</td>\n",
       "      <td>30091</td>\n",
       "      <td>...</td>\n",
       "      <td>0</td>\n",
       "      <td>0</td>\n",
       "      <td>0</td>\n",
       "      <td>0</td>\n",
       "      <td>0</td>\n",
       "      <td>1</td>\n",
       "      <td>0</td>\n",
       "      <td>0</td>\n",
       "      <td>0</td>\n",
       "      <td>0.0</td>\n",
       "    </tr>\n",
       "    <tr>\n",
       "      <th>3</th>\n",
       "      <td>0.445590</td>\n",
       "      <td>-1</td>\n",
       "      <td>412</td>\n",
       "      <td>0</td>\n",
       "      <td>978</td>\n",
       "      <td>0</td>\n",
       "      <td>623</td>\n",
       "      <td>0</td>\n",
       "      <td>690</td>\n",
       "      <td>30091</td>\n",
       "      <td>...</td>\n",
       "      <td>0</td>\n",
       "      <td>0</td>\n",
       "      <td>0</td>\n",
       "      <td>0</td>\n",
       "      <td>0</td>\n",
       "      <td>0</td>\n",
       "      <td>1</td>\n",
       "      <td>0</td>\n",
       "      <td>0</td>\n",
       "      <td>0.0</td>\n",
       "    </tr>\n",
       "    <tr>\n",
       "      <th>4</th>\n",
       "      <td>0.444956</td>\n",
       "      <td>-4</td>\n",
       "      <td>412</td>\n",
       "      <td>0</td>\n",
       "      <td>978</td>\n",
       "      <td>0</td>\n",
       "      <td>623</td>\n",
       "      <td>0</td>\n",
       "      <td>690</td>\n",
       "      <td>30091</td>\n",
       "      <td>...</td>\n",
       "      <td>0</td>\n",
       "      <td>0</td>\n",
       "      <td>0</td>\n",
       "      <td>0</td>\n",
       "      <td>0</td>\n",
       "      <td>0</td>\n",
       "      <td>0</td>\n",
       "      <td>1</td>\n",
       "      <td>0</td>\n",
       "      <td>0.0</td>\n",
       "    </tr>\n",
       "  </tbody>\n",
       "</table>\n",
       "<p>5 rows × 72 columns</p>\n",
       "</div>"
      ],
      "text/plain": [
       "      当前热度值  新增热度值  当前评论数  新增评论数  当前点赞数  新增点赞数  当前踩数  新增踩数  当前评分数  当前小时评分人数  \\\n",
       "0  0.446225     -1    412      0    978      0   623     0    690     30091   \n",
       "1  0.445907     -2    412      0    978      0   623     0    690     30091   \n",
       "2  0.445749     -1    412      0    978      0   623     0    690     30091   \n",
       "3  0.445590     -1    412      0    978      0   623     0    690     30091   \n",
       "4  0.444956     -4    412      0    978      0   623     0    690     30091   \n",
       "\n",
       "             ...             hour15  hour16  hour17  hour18  hour19  hour20  \\\n",
       "0            ...                  0       0       0       1       0       0   \n",
       "1            ...                  0       0       0       0       1       0   \n",
       "2            ...                  0       0       0       0       0       1   \n",
       "3            ...                  0       0       0       0       0       0   \n",
       "4            ...                  0       0       0       0       0       0   \n",
       "\n",
       "   hour21  hour22  hour23  heat_value_window_size_6  \n",
       "0       0       0       0                       0.0  \n",
       "1       0       0       0                       0.0  \n",
       "2       0       0       0                       0.0  \n",
       "3       1       0       0                       0.0  \n",
       "4       0       1       0                       0.0  \n",
       "\n",
       "[5 rows x 72 columns]"
      ]
     },
     "execution_count": 32,
     "metadata": {},
     "output_type": "execute_result"
    }
   ],
   "source": [
    "df.head()"
   ]
  },
  {
   "cell_type": "code",
   "execution_count": 13,
   "metadata": {},
   "outputs": [],
   "source": [
    "del df['heat_value_window_size_6']"
   ]
  },
  {
   "cell_type": "code",
   "execution_count": 33,
   "metadata": {},
   "outputs": [],
   "source": [
    "X = df.values.tolist()"
   ]
  },
  {
   "cell_type": "code",
   "execution_count": 35,
   "metadata": {},
   "outputs": [
    {
     "data": {
      "text/plain": [
       "72"
      ]
     },
     "execution_count": 35,
     "metadata": {},
     "output_type": "execute_result"
    }
   ],
   "source": [
    "len(X[0])"
   ]
  },
  {
   "cell_type": "code",
   "execution_count": 27,
   "metadata": {},
   "outputs": [],
   "source": [
    "import xgboost as xgb\n",
    "from xgboost import plot_importance\n",
    "from matplotlib import pyplot as plt\n",
    "from sklearn.model_selection import train_test_split\n",
    "from sklearn import metrics\n",
    "\n",
    "X_train, X_test, y_train, y_test = train_test_split(X, Y, test_size=0.2, random_state=0)"
   ]
  },
  {
   "cell_type": "code",
   "execution_count": 28,
   "metadata": {},
   "outputs": [
    {
     "name": "stdout",
     "output_type": "stream",
     "text": [
      "MSE: 3405274.3308854103\n",
      "RMSE: 1845.3385409960445\n"
     ]
    }
   ],
   "source": [
    "## 去掉'heat_value_window_size_6'，用默认参数跑\n",
    "\n",
    "model = xgb.XGBRegressor()\n",
    "model.fit(X_train, y_train)\n",
    "\n",
    "# 对测试集进行预测\n",
    "ans = model.predict(X_test)\n",
    "\n",
    "print(\"MSE:\",metrics.mean_squared_error(y_test, ans))\n",
    "print(\"RMSE:\",np.sqrt(metrics.mean_squared_error(y_test, ans))) "
   ]
  },
  {
   "cell_type": "code",
   "execution_count": 29,
   "metadata": {},
   "outputs": [
    {
     "name": "stdout",
     "output_type": "stream",
     "text": [
      "MSE: 2025883.5443395092\n",
      "RMSE: 1423.3353590561535\n"
     ]
    }
   ],
   "source": [
    "## 去掉'heat_value_window_size_6'，用最优参数跑\n",
    "\n",
    "model = xgb.XGBRegressor(max_depth=7, n_estimators=500, gamma=0.027698143119166907, colsample_bytree=0.8957822073838446)\n",
    "model.fit(X_train, y_train)\n",
    "\n",
    "# 对测试集进行预测\n",
    "ans = model.predict(X_test)\n",
    "\n",
    "print(\"MSE:\",metrics.mean_squared_error(y_test, ans))\n",
    "print(\"RMSE:\",np.sqrt(metrics.mean_squared_error(y_test, ans))) "
   ]
  },
  {
   "cell_type": "code",
   "execution_count": 36,
   "metadata": {},
   "outputs": [
    {
     "name": "stdout",
     "output_type": "stream",
     "text": [
      "MSE: 2270612.4824847123\n",
      "RMSE: 1506.855163074644\n"
     ]
    }
   ],
   "source": [
    "## 保留'heat_value_window_size_6'，用最优参数跑\n",
    "\n",
    "X_train, X_test, y_train, y_test = train_test_split(X, Y, test_size=0.2, random_state=0)\n",
    "\n",
    "model = xgb.XGBRegressor(max_depth=7, n_estimators=500, gamma=0.027698143119166907, colsample_bytree=0.8957822073838446)\n",
    "model.fit(X_train, y_train)\n",
    "\n",
    "# 对测试集进行预测\n",
    "ans = model.predict(X_test)\n",
    "\n",
    "print(\"MSE:\",metrics.mean_squared_error(y_test, ans))\n",
    "print(\"RMSE:\",np.sqrt(metrics.mean_squared_error(y_test, ans))) "
   ]
  },
  {
   "cell_type": "code",
   "execution_count": null,
   "metadata": {},
   "outputs": [],
   "source": []
  }
 ],
 "metadata": {
  "kernelspec": {
   "display_name": "Python 3",
   "language": "python",
   "name": "python3"
  },
  "language_info": {
   "codemirror_mode": {
    "name": "ipython",
    "version": 3
   },
   "file_extension": ".py",
   "mimetype": "text/x-python",
   "name": "python",
   "nbconvert_exporter": "python",
   "pygments_lexer": "ipython3",
   "version": "3.6.5"
  }
 },
 "nbformat": 4,
 "nbformat_minor": 2
}
