{
 "cells": [
  {
   "cell_type": "markdown",
   "metadata": {},
   "source": [
    "### 1. 获取attri，不要列头，只取值"
   ]
  },
  {
   "cell_type": "code",
   "execution_count": 23,
   "metadata": {},
   "outputs": [],
   "source": [
    "import pandas as pd\n",
    "original_df = pd.read_csv(\"../original_df_2.csv\")"
   ]
  },
  {
   "cell_type": "code",
   "execution_count": 24,
   "metadata": {},
   "outputs": [],
   "source": [
    "del original_df['Unnamed: 0']"
   ]
  },
  {
   "cell_type": "code",
   "execution_count": 47,
   "metadata": {},
   "outputs": [],
   "source": [
    "X = original_df.values.tolist()"
   ]
  },
  {
   "cell_type": "code",
   "execution_count": 51,
   "metadata": {},
   "outputs": [
    {
     "data": {
      "text/plain": [
       "827565"
      ]
     },
     "execution_count": 51,
     "metadata": {},
     "output_type": "execute_result"
    }
   ],
   "source": [
    "len(X)"
   ]
  },
  {
   "cell_type": "markdown",
   "metadata": {},
   "source": [
    "### 2. 获取label，不要列头，只取值"
   ]
  },
  {
   "cell_type": "code",
   "execution_count": 29,
   "metadata": {},
   "outputs": [
    {
     "name": "stderr",
     "output_type": "stream",
     "text": [
      "/home/wujiaocan/anaconda3/lib/python3.6/site-packages/ipykernel_launcher.py:2: ParserWarning: Falling back to the 'python' engine because the 'c' engine does not support regex separators (separators > 1 char and different from '\\s+' are interpreted as regex); you can avoid this warning by specifying engine='python'.\n",
      "  \n"
     ]
    }
   ],
   "source": [
    "import pandas as pd\n",
    "df = pd.read_csv(\"../data/filter_time_data.txt\", sep='\\t\\t', header=None)"
   ]
  },
  {
   "cell_type": "code",
   "execution_count": 30,
   "metadata": {},
   "outputs": [],
   "source": [
    "df.columns = [ '电影ID','时间', '当前热度值', '新增热度值','当前点击量','新增点击量','当前评论数','新增评论数','当前点赞数','新增点赞数',\n",
    "            '当前踩数','新增踩数','当前评分数','推广位','影片推广位等级','当前小时弹幕数','当前小时新增弹幕数','当前小时评分人数',\n",
    "            '当前小时新增评分人数','当前小时五星评分人数','当前小时四星评分人数','当前小时三星评分人数','当前小时二星评分人数',\n",
    "            '当前小时一星评分人数','当日爱奇艺播放指数','影片上线时间','导演','编剧','制片','美术','主演']"
   ]
  },
  {
   "cell_type": "code",
   "execution_count": 77,
   "metadata": {},
   "outputs": [],
   "source": [
    "# df.tail(2).values"
   ]
  },
  {
   "cell_type": "code",
   "execution_count": 40,
   "metadata": {},
   "outputs": [],
   "source": [
    "y_new_add_amount = df['新增点击量'].values.tolist()\n",
    "y_total = df['当前点击量'].values.tolist()"
   ]
  },
  {
   "cell_type": "code",
   "execution_count": 42,
   "metadata": {},
   "outputs": [],
   "source": [
    "# y_new_add_amount"
   ]
  },
  {
   "cell_type": "code",
   "execution_count": 45,
   "metadata": {},
   "outputs": [],
   "source": [
    "# y_total"
   ]
  },
  {
   "cell_type": "markdown",
   "metadata": {},
   "source": [
    "### 3. 按最佳参数训练"
   ]
  },
  {
   "cell_type": "code",
   "execution_count": 52,
   "metadata": {},
   "outputs": [
    {
     "data": {
      "text/plain": [
       "<Figure size 640x480 with 1 Axes>"
      ]
     },
     "metadata": {},
     "output_type": "display_data"
    }
   ],
   "source": [
    "import xgboost as xgb\n",
    "from xgboost import plot_importance\n",
    "from matplotlib import pyplot as plt\n",
    "from sklearn.model_selection import train_test_split\n",
    "\n",
    "# XGBoost训练过程\n",
    "X_train, X_test, y_train, y_test = train_test_split(X, y_new_add_amount, test_size=0.2, random_state=0)\n",
    "\n",
    "model = xgb.XGBRegressor(max_depth=7, n_estimators=500, gamma=0.027698143119166907, colsample_bytree=0.8957822073838446)\n",
    "# model = xgb.XGBRegressor()\n",
    "model.fit(X_train, y_train)\n",
    "\n",
    "# 对测试集进行预测\n",
    "ans = model.predict(X_test)\n",
    "\n",
    "# 显示重要特征\n",
    "plot_importance(model)\n",
    "plt.show() "
   ]
  },
  {
   "cell_type": "code",
   "execution_count": 56,
   "metadata": {},
   "outputs": [
    {
     "name": "stdout",
     "output_type": "stream",
     "text": [
      "MSE: 2270612.4824847123\n",
      "RMSE: 1506.855163074644\n"
     ]
    }
   ],
   "source": [
    "from sklearn import metrics\n",
    "\n",
    "print(\"MSE:\",metrics.mean_squared_error(y_test, ans))\n",
    "print(\"RMSE:\",np.sqrt(metrics.mean_squared_error(y_test, ans))) "
   ]
  },
  {
   "cell_type": "code",
   "execution_count": 62,
   "metadata": {},
   "outputs": [],
   "source": [
    "# model.fit(X_train, y_train)\n",
    "model.save_model('y_new_add.model')  # 模型dump到本地"
   ]
  },
  {
   "cell_type": "code",
   "execution_count": 64,
   "metadata": {},
   "outputs": [
    {
     "data": {
      "text/plain": [
       "array([  7.4724975, 792.6167   ,   3.0464313, ...,  12.388599 ,\n",
       "        43.247227 ,  -5.936046 ], dtype=float32)"
      ]
     },
     "execution_count": 64,
     "metadata": {},
     "output_type": "execute_result"
    }
   ],
   "source": [
    "ans"
   ]
  },
  {
   "cell_type": "code",
   "execution_count": 75,
   "metadata": {},
   "outputs": [],
   "source": [
    "# y_test"
   ]
  },
  {
   "cell_type": "code",
   "execution_count": 71,
   "metadata": {},
   "outputs": [],
   "source": [
    "tar = xgb.Booster(model_file='y_new_add.model')  # 加载模型\n",
    "ans2 = tar.predict(xgb.DMatrix(X_test))   #预测模型"
   ]
  },
  {
   "cell_type": "code",
   "execution_count": 72,
   "metadata": {},
   "outputs": [
    {
     "data": {
      "text/plain": [
       "array([  7.4724975, 792.6167   ,   3.0464313, ...,  12.388599 ,\n",
       "        43.247227 ,  -5.936046 ], dtype=float32)"
      ]
     },
     "execution_count": 72,
     "metadata": {},
     "output_type": "execute_result"
    }
   ],
   "source": [
    "ans2"
   ]
  },
  {
   "cell_type": "code",
   "execution_count": 78,
   "metadata": {},
   "outputs": [
    {
     "name": "stdout",
     "output_type": "stream",
     "text": [
      "MSE: 2600102752040.9956\n",
      "RMSE: 1612483.4114002525\n"
     ]
    }
   ],
   "source": [
    "import xgboost as xgb\n",
    "from xgboost import plot_importance\n",
    "from matplotlib import pyplot as plt\n",
    "from sklearn.model_selection import train_test_split\n",
    "from sklearn import metrics\n",
    "\n",
    "\n",
    "# XGBoost训练过程\n",
    "X_train_2, X_test_2, y_train_2, y_test_2 = train_test_split(X, y_total, test_size=0.2, random_state=0)\n",
    "\n",
    "# model = xgb.XGBRegressor(max_depth=7, n_estimators=500, gamma=0.027698143119166907, colsample_bytree=0.8957822073838446)\n",
    "model_2 = xgb.XGBRegressor()\n",
    "model_2.fit(X_train_2, y_train_2)\n",
    "\n",
    "# 下载模型\n",
    "model_2.save_model('y_total.model')  # 模型dump到本地\n",
    "\n",
    "# 对测试集进行预测\n",
    "ans_2 = model_2.predict(X_test_2)\n",
    "\n",
    "# 计算误差\n",
    "print(\"MSE:\",metrics.mean_squared_error(y_test_2, ans_2))\n",
    "print(\"RMSE:\",np.sqrt(metrics.mean_squared_error(y_test_2, ans_2))) \n",
    "\n",
    "# 显示重要特征\n",
    "# plot_importance(model)\n",
    "# plt.show() "
   ]
  },
  {
   "cell_type": "code",
   "execution_count": 79,
   "metadata": {},
   "outputs": [],
   "source": [
    "tar = xgb.Booster(model_file='y_total.model')  # 加载模型\n",
    "ans2 = tar.predict(xgb.DMatrix(X_test))   #预测模型"
   ]
  },
  {
   "cell_type": "code",
   "execution_count": 80,
   "metadata": {},
   "outputs": [
    {
     "data": {
      "text/plain": [
       "array([ 1287425.8 , 39716172.  ,   307116.5 , ...,  2495107.  ,\n",
       "         314774.88,  1214898.6 ], dtype=float32)"
      ]
     },
     "execution_count": 80,
     "metadata": {},
     "output_type": "execute_result"
    }
   ],
   "source": [
    "ans2"
   ]
  },
  {
   "cell_type": "code",
   "execution_count": 128,
   "metadata": {},
   "outputs": [
    {
     "data": {
      "text/plain": [
       "1"
      ]
     },
     "execution_count": 128,
     "metadata": {},
     "output_type": "execute_result"
    }
   ],
   "source": [
    "len(np.array([1,2,3,4]).shape)"
   ]
  },
  {
   "cell_type": "code",
   "execution_count": 85,
   "metadata": {},
   "outputs": [
    {
     "data": {
      "text/plain": [
       "array([1, 2, 3, 4])"
      ]
     },
     "execution_count": 85,
     "metadata": {},
     "output_type": "execute_result"
    }
   ],
   "source": [
    "aa"
   ]
  },
  {
   "cell_type": "code",
   "execution_count": 91,
   "metadata": {},
   "outputs": [
    {
     "data": {
      "text/plain": [
       "array([[1, 2, 3, 4]])"
      ]
     },
     "execution_count": 91,
     "metadata": {},
     "output_type": "execute_result"
    }
   ],
   "source": [
    "aa[np.newaxis, :]"
   ]
  },
  {
   "cell_type": "code",
   "execution_count": 92,
   "metadata": {},
   "outputs": [],
   "source": [
    "abc = [1,2,3,4]"
   ]
  },
  {
   "cell_type": "code",
   "execution_count": 106,
   "metadata": {},
   "outputs": [],
   "source": [
    "def if_need_transfer(data):\n",
    "    try:\n",
    "        if np.array(data).shape[1]:\n",
    "            return False\n",
    "    except Exception as e:\n",
    "        return True"
   ]
  },
  {
   "cell_type": "code",
   "execution_count": 117,
   "metadata": {},
   "outputs": [
    {
     "data": {
      "text/plain": [
       "[[1, 2, 3, 4]]"
      ]
     },
     "execution_count": 117,
     "metadata": {},
     "output_type": "execute_result"
    }
   ],
   "source": [
    "transfer_demission(abc, if_need_transfer(abc))"
   ]
  },
  {
   "cell_type": "code",
   "execution_count": 116,
   "metadata": {},
   "outputs": [],
   "source": [
    "def transfer_demission(data, flag):\n",
    "    if flag == True:\n",
    "        return np.array(data)[np.newaxis, :].tolist()\n",
    "    if flag == False:\n",
    "        return data"
   ]
  },
  {
   "cell_type": "code",
   "execution_count": 111,
   "metadata": {},
   "outputs": [],
   "source": [
    "# transfer_demission(abc, True)"
   ]
  },
  {
   "cell_type": "code",
   "execution_count": 121,
   "metadata": {},
   "outputs": [],
   "source": [
    "aabbcc = [[[1,2,3,4],\n",
    "          [2,3,4,5],\n",
    "          [3,4,5,6]]]"
   ]
  },
  {
   "cell_type": "code",
   "execution_count": 125,
   "metadata": {},
   "outputs": [
    {
     "data": {
      "text/plain": [
       "3"
      ]
     },
     "execution_count": 125,
     "metadata": {},
     "output_type": "execute_result"
    }
   ],
   "source": [
    "len(np.array(aabbcc).shape)"
   ]
  },
  {
   "cell_type": "code",
   "execution_count": 129,
   "metadata": {},
   "outputs": [],
   "source": [
    "def transfer_demission(data):\n",
    "    # 输入的是一维数据，转成2维\n",
    "    if len(np.array(data).shape) == 1:\n",
    "        return np.array(data)[np.newaxis, :].tolist()\n",
    "    # 输入的是二维数据，正常输出\n",
    "    if len(np.array(data).shape) == 2:\n",
    "        return data\n",
    "    # 输入的是多维数据，报错\n",
    "    if len(np.array(data).shape) > 2:\n",
    "        print(\"输入数据维度过高，请转成二维！\")"
   ]
  },
  {
   "cell_type": "code",
   "execution_count": 137,
   "metadata": {},
   "outputs": [],
   "source": [
    "aaa = transfer_demission([54062, '2018-10-11 18:00:00', 845.0, 0.0, 0.0, 0.0, 1791.0, 0.0,\n",
    "      36173.0, 0.0, 443.0, 0.0, 760.0, '无', 'a', 5563.0, 0.0, 428083.0,\n",
    "      0.0, 258640.0, 93910.0, 39379.0, 11496.0, 24658.0, -111111111.0,\n",
    "      '2018-05-15 15:30:12', '郎贵钧', '张帅,杨勐', '张晋,晋铨', np.nan,\n",
    "      '卢冠东,李龙,王军,李玉龙'])"
   ]
  },
  {
   "cell_type": "code",
   "execution_count": 149,
   "metadata": {},
   "outputs": [],
   "source": [
    "# for i in aaa[0]:\n",
    "#     if \".\" in i:\n",
    "#         i = float(i)"
   ]
  },
  {
   "cell_type": "code",
   "execution_count": 148,
   "metadata": {},
   "outputs": [],
   "source": [
    "# aaa[0]"
   ]
  },
  {
   "cell_type": "code",
   "execution_count": 131,
   "metadata": {},
   "outputs": [
    {
     "data": {
      "text/plain": [
       "[[1, 2, 3, 4, 5]]"
      ]
     },
     "execution_count": 131,
     "metadata": {},
     "output_type": "execute_result"
    }
   ],
   "source": [
    "transfer_demission([[1,2,3,4,5]])"
   ]
  },
  {
   "cell_type": "code",
   "execution_count": 132,
   "metadata": {},
   "outputs": [
    {
     "name": "stdout",
     "output_type": "stream",
     "text": [
      "输入数据维度过高，请转成二维！\n"
     ]
    }
   ],
   "source": [
    "transfer_demission([[[1,2,3,4,5,6]]])"
   ]
  },
  {
   "cell_type": "code",
   "execution_count": 134,
   "metadata": {},
   "outputs": [],
   "source": [
    "a = [54062, '2018-10-11 18:00:00']"
   ]
  },
  {
   "cell_type": "code",
   "execution_count": 136,
   "metadata": {},
   "outputs": [
    {
     "data": {
      "text/plain": [
       "array([['54062', '2018-10-11 18:00:00']], dtype='<U21')"
      ]
     },
     "execution_count": 136,
     "metadata": {},
     "output_type": "execute_result"
    }
   ],
   "source": [
    "np.array(a)[np.newaxis, :]"
   ]
  },
  {
   "cell_type": "code",
   "execution_count": 257,
   "metadata": {},
   "outputs": [
    {
     "name": "stderr",
     "output_type": "stream",
     "text": [
      "/home/wujiaocan/anaconda3/lib/python3.6/site-packages/ipykernel_launcher.py:1: ParserWarning: Falling back to the 'python' engine because the 'c' engine does not support regex separators (separators > 1 char and different from '\\s+' are interpreted as regex); you can avoid this warning by specifying engine='python'.\n",
      "  \"\"\"Entry point for launching an IPython kernel.\n"
     ]
    }
   ],
   "source": [
    "all_data = pd.read_csv(\"../data/all_data.txt\", sep=\"\\t\\t\", header=None)"
   ]
  },
  {
   "cell_type": "code",
   "execution_count": 277,
   "metadata": {},
   "outputs": [],
   "source": [
    "# all_data.iloc[9990:9991, : ].values.tolist()"
   ]
  },
  {
   "cell_type": "code",
   "execution_count": 278,
   "metadata": {},
   "outputs": [],
   "source": [
    "all_data.columns = [ '电影ID','时间', '当前热度值', '新增热度值','当前点击量','新增点击量','当前评论数','新增评论数','当前点赞数','新增点赞数',\n",
    "            '当前踩数','新增踩数','当前评分数','推广位','影片推广位等级','当前小时弹幕数','当前小时新增弹幕数','当前小时评分人数',\n",
    "            '当前小时新增评分人数','当前小时五星评分人数','当前小时四星评分人数','当前小时三星评分人数','当前小时二星评分人数',\n",
    "            '当前小时一星评分人数','当日爱奇艺播放指数','影片上线时间','导演','编剧','制片','美术','主演']"
   ]
  },
  {
   "cell_type": "code",
   "execution_count": null,
   "metadata": {},
   "outputs": [],
   "source": []
  },
  {
   "cell_type": "code",
   "execution_count": 279,
   "metadata": {},
   "outputs": [],
   "source": [
    "# 时间格式为日期+时间戳，将特征“时间”转成新的特征“hour”\n",
    "def get_date(x):\n",
    "    return x.split()[0]\n",
    "\n",
    "def get_hour(x):\n",
    "    return x.split()[1].split(\":\")[0]"
   ]
  },
  {
   "cell_type": "code",
   "execution_count": 280,
   "metadata": {},
   "outputs": [],
   "source": [
    "all_data[\"date\"] = all_data[\"时间\"].apply(get_date)"
   ]
  },
  {
   "cell_type": "code",
   "execution_count": 281,
   "metadata": {},
   "outputs": [],
   "source": [
    "import datetime"
   ]
  },
  {
   "cell_type": "code",
   "execution_count": 282,
   "metadata": {},
   "outputs": [],
   "source": [
    "def get_movie_data_in_daterange(data, date_range, movie_id):\n",
    "    '''\n",
    "        获取一定时间范围内，某部电影的数据\n",
    "    '''\n",
    "    weekday = []\n",
    "    for i in date_range:\n",
    "        weekday.append(data[(data['date'] == i) & (data['电影ID'] == movie_id)])\n",
    "    return weekday"
   ]
  },
  {
   "cell_type": "code",
   "execution_count": 283,
   "metadata": {},
   "outputs": [],
   "source": [
    "def get_dateRange(beginDate, endDate):\n",
    "    '''\n",
    "    :param beginDate: 时间范围开始的日期\n",
    "    :param endDate: 时间范围结束的日期\n",
    "    :return: 该时间范围内的时间序列\n",
    "    '''\n",
    "    dates = []\n",
    "    dt = datetime.datetime.strptime(beginDate, \"%Y-%m-%d\")\n",
    "    date = beginDate[:]\n",
    "    while date <= endDate:\n",
    "        dates.append(date)\n",
    "        dt = dt + datetime.timedelta(1)\n",
    "        date = dt.strftime(\"%Y-%m-%d\")\n",
    "    return dates"
   ]
  },
  {
   "cell_type": "code",
   "execution_count": 284,
   "metadata": {},
   "outputs": [],
   "source": [
    "get_movie_data_in_daterange(all_data, get_dateRange(\"2018-09-26\", \"2018-09-28\"), 33638)[0].to_csv(\"./new_data.csv\")"
   ]
  },
  {
   "cell_type": "code",
   "execution_count": 285,
   "metadata": {},
   "outputs": [],
   "source": [
    "get_movie_data_in_daterange(all_data, get_dateRange(\"2018-09-26\", \"2018-09-28\"), 33638)[1].to_csv(\"./new_data.csv\", mode='a', header=None)\n",
    "get_movie_data_in_daterange(all_data, get_dateRange(\"2018-09-26\", \"2018-09-28\"), 33638)[2].to_csv(\"./new_data.csv\", mode='a', header=None)"
   ]
  },
  {
   "cell_type": "code",
   "execution_count": 286,
   "metadata": {},
   "outputs": [],
   "source": [
    "new_data = pd.read_csv(\"./new_data.csv\", index_col=0)"
   ]
  },
  {
   "cell_type": "code",
   "execution_count": 287,
   "metadata": {},
   "outputs": [],
   "source": [
    "del new_data['date']"
   ]
  },
  {
   "cell_type": "code",
   "execution_count": 289,
   "metadata": {},
   "outputs": [],
   "source": [
    "# new_data"
   ]
  },
  {
   "cell_type": "code",
   "execution_count": 290,
   "metadata": {},
   "outputs": [],
   "source": [
    "new_data.to_csv(\"./new_data.csv\")"
   ]
  },
  {
   "cell_type": "code",
   "execution_count": 254,
   "metadata": {},
   "outputs": [],
   "source": [
    "dddd = pd.read_csv(\"./new_data.csv\", index_col=0)"
   ]
  },
  {
   "cell_type": "code",
   "execution_count": 296,
   "metadata": {},
   "outputs": [],
   "source": [
    "# dddd.iloc[10:11, :].values.tolist()"
   ]
  },
  {
   "cell_type": "code",
   "execution_count": null,
   "metadata": {},
   "outputs": [],
   "source": []
  },
  {
   "cell_type": "code",
   "execution_count": 240,
   "metadata": {},
   "outputs": [],
   "source": [
    "dddd = pd.read_csv(\"./new_data.csv\", index_col=0)"
   ]
  },
  {
   "cell_type": "code",
   "execution_count": 243,
   "metadata": {},
   "outputs": [
    {
     "data": {
      "text/html": [
       "<div>\n",
       "<style scoped>\n",
       "    .dataframe tbody tr th:only-of-type {\n",
       "        vertical-align: middle;\n",
       "    }\n",
       "\n",
       "    .dataframe tbody tr th {\n",
       "        vertical-align: top;\n",
       "    }\n",
       "\n",
       "    .dataframe thead th {\n",
       "        text-align: right;\n",
       "    }\n",
       "</style>\n",
       "<table border=\"1\" class=\"dataframe\">\n",
       "  <thead>\n",
       "    <tr style=\"text-align: right;\">\n",
       "      <th></th>\n",
       "      <th>电影ID</th>\n",
       "      <th>时间</th>\n",
       "      <th>当前热度值</th>\n",
       "      <th>新增热度值</th>\n",
       "      <th>当前点击量</th>\n",
       "      <th>新增点击量</th>\n",
       "      <th>当前评论数</th>\n",
       "      <th>新增评论数</th>\n",
       "      <th>当前点赞数</th>\n",
       "      <th>新增点赞数</th>\n",
       "      <th>...</th>\n",
       "      <th>当前小时三星评分人数</th>\n",
       "      <th>当前小时二星评分人数</th>\n",
       "      <th>当前小时一星评分人数</th>\n",
       "      <th>当日爱奇艺播放指数</th>\n",
       "      <th>影片上线时间</th>\n",
       "      <th>导演</th>\n",
       "      <th>编剧</th>\n",
       "      <th>制片</th>\n",
       "      <th>美术</th>\n",
       "      <th>主演</th>\n",
       "    </tr>\n",
       "  </thead>\n",
       "  <tbody>\n",
       "    <tr>\n",
       "      <th>2918</th>\n",
       "      <td>15</td>\n",
       "      <td>2018-09-26 00:00:00</td>\n",
       "      <td>1611.0</td>\n",
       "      <td>0.0</td>\n",
       "      <td>0.0</td>\n",
       "      <td>0.0</td>\n",
       "      <td>108.0</td>\n",
       "      <td>0.0</td>\n",
       "      <td>831.0</td>\n",
       "      <td>0.0</td>\n",
       "      <td>...</td>\n",
       "      <td>443.0</td>\n",
       "      <td>434.0</td>\n",
       "      <td>573.0</td>\n",
       "      <td>115.0</td>\n",
       "      <td>2017-04-28 15:30:24</td>\n",
       "      <td>李奇龙,田泽姚</td>\n",
       "      <td>NaN</td>\n",
       "      <td>李康,严国豪,徐亮,林彦君</td>\n",
       "      <td>NaN</td>\n",
       "      <td>李奇龙,苏拉文雅,田泽姚,刘金金</td>\n",
       "    </tr>\n",
       "    <tr>\n",
       "      <th>2919</th>\n",
       "      <td>15</td>\n",
       "      <td>2018-09-26 01:00:00</td>\n",
       "      <td>1611.0</td>\n",
       "      <td>0.0</td>\n",
       "      <td>0.0</td>\n",
       "      <td>0.0</td>\n",
       "      <td>108.0</td>\n",
       "      <td>0.0</td>\n",
       "      <td>831.0</td>\n",
       "      <td>0.0</td>\n",
       "      <td>...</td>\n",
       "      <td>443.0</td>\n",
       "      <td>434.0</td>\n",
       "      <td>573.0</td>\n",
       "      <td>115.0</td>\n",
       "      <td>2017-04-28 15:30:24</td>\n",
       "      <td>李奇龙,田泽姚</td>\n",
       "      <td>NaN</td>\n",
       "      <td>李康,严国豪,徐亮,林彦君</td>\n",
       "      <td>NaN</td>\n",
       "      <td>李奇龙,苏拉文雅,田泽姚,刘金金</td>\n",
       "    </tr>\n",
       "  </tbody>\n",
       "</table>\n",
       "<p>2 rows × 31 columns</p>\n",
       "</div>"
      ],
      "text/plain": [
       "      电影ID                   时间   当前热度值  新增热度值  当前点击量  新增点击量  当前评论数  新增评论数  \\\n",
       "2918    15  2018-09-26 00:00:00  1611.0    0.0    0.0    0.0  108.0    0.0   \n",
       "2919    15  2018-09-26 01:00:00  1611.0    0.0    0.0    0.0  108.0    0.0   \n",
       "\n",
       "      当前点赞数  新增点赞数        ...         当前小时三星评分人数  当前小时二星评分人数  当前小时一星评分人数  \\\n",
       "2918  831.0    0.0        ...              443.0       434.0       573.0   \n",
       "2919  831.0    0.0        ...              443.0       434.0       573.0   \n",
       "\n",
       "     当日爱奇艺播放指数               影片上线时间       导演  编剧             制片  美术  \\\n",
       "2918     115.0  2017-04-28 15:30:24  李奇龙,田泽姚 NaN  李康,严国豪,徐亮,林彦君 NaN   \n",
       "2919     115.0  2017-04-28 15:30:24  李奇龙,田泽姚 NaN  李康,严国豪,徐亮,林彦君 NaN   \n",
       "\n",
       "                    主演  \n",
       "2918  李奇龙,苏拉文雅,田泽姚,刘金金  \n",
       "2919  李奇龙,苏拉文雅,田泽姚,刘金金  \n",
       "\n",
       "[2 rows x 31 columns]"
      ]
     },
     "execution_count": 243,
     "metadata": {},
     "output_type": "execute_result"
    }
   ],
   "source": []
  },
  {
   "cell_type": "code",
   "execution_count": 222,
   "metadata": {},
   "outputs": [],
   "source": [
    "# new_data.values.tolist()"
   ]
  },
  {
   "cell_type": "code",
   "execution_count": null,
   "metadata": {},
   "outputs": [],
   "source": []
  }
 ],
 "metadata": {
  "kernelspec": {
   "display_name": "Python 3",
   "language": "python",
   "name": "python3"
  },
  "language_info": {
   "codemirror_mode": {
    "name": "ipython",
    "version": 3
   },
   "file_extension": ".py",
   "mimetype": "text/x-python",
   "name": "python",
   "nbconvert_exporter": "python",
   "pygments_lexer": "ipython3",
   "version": "3.6.5"
  }
 },
 "nbformat": 4,
 "nbformat_minor": 2
}
